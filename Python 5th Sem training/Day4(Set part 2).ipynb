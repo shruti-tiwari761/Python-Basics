{
 "cells": [
  {
   "cell_type": "code",
   "execution_count": 3,
   "id": "422aae9c-9fba-436e-acf8-7640e99604f4",
   "metadata": {},
   "outputs": [
    {
     "name": "stdout",
     "output_type": "stream",
     "text": [
      "{1, 2, 3, 4}\n"
     ]
    }
   ],
   "source": [
    "l1=[1,2,3,4,6]\n",
    "l2=[1,2,3,4,45]\n",
    "s3=set(l1).intersection(set(l2))\n",
    "print(s3)"
   ]
  },
  {
   "cell_type": "code",
   "execution_count": 5,
   "id": "a16f7aed-cb7f-4eb0-8631-29f4244a3b3c",
   "metadata": {},
   "outputs": [
    {
     "name": "stdout",
     "output_type": "stream",
     "text": [
      "{1, 2, 3, 4, 6, 45}\n"
     ]
    }
   ],
   "source": [
    "l1=[1,2,3,4,6]\n",
    "l2=[1,2,3,4,45]\n",
    "s3=set(l1).union(set(l2))\n",
    "print(s3)"
   ]
  },
  {
   "cell_type": "code",
   "execution_count": 9,
   "id": "61afa6d6-6175-462d-b5e0-922a7ab3559e",
   "metadata": {},
   "outputs": [
    {
     "name": "stdout",
     "output_type": "stream",
     "text": [
      "{6}\n"
     ]
    }
   ],
   "source": [
    "l1=[1,2,3,4,6]\n",
    "l2=[1,2,3,4,45]\n",
    "s3=set(l1).difference(set(l2))\n",
    "print(s3)"
   ]
  },
  {
   "cell_type": "code",
   "execution_count": 15,
   "id": "4e2da70d-f9c9-4a56-999a-33b4277bf7fb",
   "metadata": {},
   "outputs": [
    {
     "name": "stdout",
     "output_type": "stream",
     "text": [
      "{6, 45}\n"
     ]
    }
   ],
   "source": [
    "l1=[1,2,3,4,6]\n",
    "l2=[1,2,3,4,45]\n",
    "s3=set(l1).symmetric_difference(set(l2))\n",
    "print(s3)"
   ]
  },
  {
   "cell_type": "code",
   "execution_count": 17,
   "id": "c6d36e2e-7f48-4a18-bea5-3b2b4d53237f",
   "metadata": {},
   "outputs": [
    {
     "name": "stdout",
     "output_type": "stream",
     "text": [
      "None\n"
     ]
    }
   ],
   "source": [
    "l1=[1,2,3,4,6]\n",
    "l2=[1,2,3,4,45]\n",
    "s3=set(l1).update(set(l2))\n",
    "print(s3)"
   ]
  }
 ],
 "metadata": {
  "kernelspec": {
   "display_name": "Python 3 (ipykernel)",
   "language": "python",
   "name": "python3"
  },
  "language_info": {
   "codemirror_mode": {
    "name": "ipython",
    "version": 3
   },
   "file_extension": ".py",
   "mimetype": "text/x-python",
   "name": "python",
   "nbconvert_exporter": "python",
   "pygments_lexer": "ipython3",
   "version": "3.12.4"
  }
 },
 "nbformat": 4,
 "nbformat_minor": 5
}
