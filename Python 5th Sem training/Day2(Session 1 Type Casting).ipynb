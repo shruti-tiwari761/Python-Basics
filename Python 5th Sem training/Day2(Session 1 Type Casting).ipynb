{
 "cells": [
  {
   "cell_type": "markdown",
   "id": "9a0a7819-b551-4a36-8623-be6265775294",
   "metadata": {},
   "source": [
    "Day 2 :\n",
    "\"Type casting\""
   ]
  },
  {
   "cell_type": "markdown",
   "id": "26c16022-97ce-4de4-a417-b41bd8bbb9a9",
   "metadata": {},
   "source": [
    "INTEGER"
   ]
  },
  {
   "cell_type": "code",
   "execution_count": 17,
   "id": "64da758c-3f61-49f6-91e6-65efee69a254",
   "metadata": {},
   "outputs": [
    {
     "name": "stdout",
     "output_type": "stream",
     "text": [
      "<class 'int'>\n"
     ]
    }
   ],
   "source": [
    "x=5\n",
    "print(type(x))"
   ]
  },
  {
   "cell_type": "markdown",
   "id": "93655d28-3c99-4aea-9890-c0b58efeafce",
   "metadata": {},
   "source": [
    "Integer to float"
   ]
  },
  {
   "cell_type": "code",
   "execution_count": 19,
   "id": "1e0fb20d-51ea-41d6-b08e-a7b54efcb71c",
   "metadata": {},
   "outputs": [
    {
     "name": "stdout",
     "output_type": "stream",
     "text": [
      "<class 'int'>\n",
      "<class 'float'>\n"
     ]
    }
   ],
   "source": [
    "x=5\n",
    "print(type(x))\n",
    "y=float(x)\n",
    "print(type(y))"
   ]
  },
  {
   "cell_type": "code",
   "execution_count": null,
   "id": "a42ee2b3-1378-4307-b092-d55f61583371",
   "metadata": {},
   "outputs": [],
   "source": [
    "Integer to string"
   ]
  },
  {
   "cell_type": "code",
   "execution_count": 21,
   "id": "334cd20d-28c7-4e75-b311-796b6a046541",
   "metadata": {},
   "outputs": [
    {
     "name": "stdout",
     "output_type": "stream",
     "text": [
      "<class 'int'>\n",
      "<class 'str'>\n"
     ]
    }
   ],
   "source": [
    "x=5\n",
    "print(type(x))\n",
    "y=str(x)\n",
    "print(type(y))"
   ]
  },
  {
   "cell_type": "code",
   "execution_count": null,
   "id": "94b31194-dcec-4fc1-9c8d-67fbf2217341",
   "metadata": {},
   "outputs": [],
   "source": [
    "Intger to boolean"
   ]
  },
  {
   "cell_type": "code",
   "execution_count": 23,
   "id": "a0aface1-b393-48dc-af08-9cc7c7dfd700",
   "metadata": {},
   "outputs": [
    {
     "name": "stdout",
     "output_type": "stream",
     "text": [
      "<class 'int'>\n",
      "<class 'bool'>\n"
     ]
    }
   ],
   "source": [
    "x=5\n",
    "print(type(x))\n",
    "y=bool(x)\n",
    "print(type(y))"
   ]
  },
  {
   "cell_type": "code",
   "execution_count": null,
   "id": "a34e41fb-4a6a-4bad-b09b-5aae37fdfc0a",
   "metadata": {},
   "outputs": [],
   "source": [
    "Integer to complex"
   ]
  },
  {
   "cell_type": "code",
   "execution_count": 25,
   "id": "cb3ea3dc-d074-4b1b-b880-46bc6aa9a896",
   "metadata": {},
   "outputs": [
    {
     "name": "stdout",
     "output_type": "stream",
     "text": [
      "<class 'int'>\n",
      "<class 'complex'>\n"
     ]
    }
   ],
   "source": [
    "x=5\n",
    "print(type(x))\n",
    "y=complex(x)\n",
    "print(type(y))"
   ]
  },
  {
   "cell_type": "markdown",
   "id": "eaa643f8-facd-456a-bef6-6b4ba9b2bed7",
   "metadata": {},
   "source": [
    "FLOAT"
   ]
  },
  {
   "cell_type": "markdown",
   "id": "d505184b-bc4d-406a-94f0-47e1e1bfcf44",
   "metadata": {},
   "source": [
    "float to int"
   ]
  },
  {
   "cell_type": "code",
   "execution_count": 28,
   "id": "625a8eb0-d673-4218-a77c-1b05c21ed704",
   "metadata": {},
   "outputs": [
    {
     "name": "stdout",
     "output_type": "stream",
     "text": [
      "<class 'float'>\n",
      "<class 'int'>\n"
     ]
    }
   ],
   "source": [
    "x=5.2\n",
    "print(type(x))\n",
    "y=int(x)\n",
    "print(type(y))"
   ]
  },
  {
   "cell_type": "code",
   "execution_count": null,
   "id": "595122c9-ece2-4415-b349-6745e18980a9",
   "metadata": {},
   "outputs": [],
   "source": [
    "float to str"
   ]
  },
  {
   "cell_type": "code",
   "execution_count": 30,
   "id": "0de6093e-553f-4bd8-b102-2da7c1b1a750",
   "metadata": {},
   "outputs": [
    {
     "name": "stdout",
     "output_type": "stream",
     "text": [
      "<class 'float'>\n",
      "<class 'str'>\n"
     ]
    }
   ],
   "source": [
    "x=5.2\n",
    "print(type(x))\n",
    "y=str(x)\n",
    "print(type(y))"
   ]
  },
  {
   "cell_type": "code",
   "execution_count": null,
   "id": "bc9a243a-51f3-4186-b969-25f55eaa2bea",
   "metadata": {},
   "outputs": [],
   "source": [
    "float to bool"
   ]
  },
  {
   "cell_type": "code",
   "execution_count": 32,
   "id": "f9d742cf-9b1b-4cb3-9152-2ddd56bcf6ce",
   "metadata": {},
   "outputs": [
    {
     "name": "stdout",
     "output_type": "stream",
     "text": [
      "<class 'float'>\n",
      "<class 'bool'>\n"
     ]
    }
   ],
   "source": [
    "x=5.2\n",
    "print(type(x))\n",
    "y=bool(x)\n",
    "print(type(y))"
   ]
  },
  {
   "cell_type": "code",
   "execution_count": null,
   "id": "39698f66-fb7b-40f2-ac5a-d4446666f5b3",
   "metadata": {},
   "outputs": [],
   "source": [
    "float to complex"
   ]
  },
  {
   "cell_type": "code",
   "execution_count": 34,
   "id": "9fb0420b-2b22-486b-ace1-db10a5fadc55",
   "metadata": {},
   "outputs": [
    {
     "name": "stdout",
     "output_type": "stream",
     "text": [
      "<class 'float'>\n",
      "<class 'complex'>\n"
     ]
    }
   ],
   "source": [
    "x=5.2\n",
    "print(type(x))\n",
    "y=complex(x)\n",
    "print(type(y))"
   ]
  },
  {
   "cell_type": "markdown",
   "id": "fd408673-c51e-47b2-a9ba-3b2ed8059ec2",
   "metadata": {},
   "source": [
    "STRING"
   ]
  },
  {
   "cell_type": "markdown",
   "id": "8635459d-972c-4b36-8f02-56c01317ac7e",
   "metadata": {},
   "source": [
    "String to int"
   ]
  },
  {
   "cell_type": "code",
   "execution_count": 36,
   "id": "42f24fdf-9065-4b25-b73f-7e433960789a",
   "metadata": {},
   "outputs": [
    {
     "name": "stdout",
     "output_type": "stream",
     "text": [
      "<class 'str'>\n"
     ]
    },
    {
     "ename": "ValueError",
     "evalue": "invalid literal for int() with base 10: 'string'",
     "output_type": "error",
     "traceback": [
      "\u001b[1;31m---------------------------------------------------------------------------\u001b[0m",
      "\u001b[1;31mValueError\u001b[0m                                Traceback (most recent call last)",
      "Cell \u001b[1;32mIn[36], line 3\u001b[0m\n\u001b[0;32m      1\u001b[0m x\u001b[38;5;241m=\u001b[39m\u001b[38;5;124m\"\u001b[39m\u001b[38;5;124mstring\u001b[39m\u001b[38;5;124m\"\u001b[39m\n\u001b[0;32m      2\u001b[0m \u001b[38;5;28mprint\u001b[39m(\u001b[38;5;28mtype\u001b[39m(x))\n\u001b[1;32m----> 3\u001b[0m y\u001b[38;5;241m=\u001b[39m\u001b[38;5;28mint\u001b[39m(x)\n\u001b[0;32m      4\u001b[0m \u001b[38;5;28mprint\u001b[39m(\u001b[38;5;28mtype\u001b[39m(y))\n",
      "\u001b[1;31mValueError\u001b[0m: invalid literal for int() with base 10: 'string'"
     ]
    }
   ],
   "source": [
    "x=\"string\"\n",
    "print(type(x))\n",
    "y=int(x)\n",
    "print(type(y))"
   ]
  },
  {
   "cell_type": "code",
   "execution_count": 38,
   "id": "2e011b7f-1d1d-44aa-b3eb-2bf09b00c4b4",
   "metadata": {},
   "outputs": [
    {
     "name": "stdout",
     "output_type": "stream",
     "text": [
      "<class 'str'>\n"
     ]
    },
    {
     "ename": "ValueError",
     "evalue": "invalid literal for int() with base 10: 's'",
     "output_type": "error",
     "traceback": [
      "\u001b[1;31m---------------------------------------------------------------------------\u001b[0m",
      "\u001b[1;31mValueError\u001b[0m                                Traceback (most recent call last)",
      "Cell \u001b[1;32mIn[38], line 3\u001b[0m\n\u001b[0;32m      1\u001b[0m x\u001b[38;5;241m=\u001b[39m\u001b[38;5;124m\"\u001b[39m\u001b[38;5;124ms\u001b[39m\u001b[38;5;124m\"\u001b[39m\n\u001b[0;32m      2\u001b[0m \u001b[38;5;28mprint\u001b[39m(\u001b[38;5;28mtype\u001b[39m(x))\n\u001b[1;32m----> 3\u001b[0m y\u001b[38;5;241m=\u001b[39m\u001b[38;5;28mint\u001b[39m(x)\n\u001b[0;32m      4\u001b[0m \u001b[38;5;28mprint\u001b[39m(\u001b[38;5;28mtype\u001b[39m(y))\n",
      "\u001b[1;31mValueError\u001b[0m: invalid literal for int() with base 10: 's'"
     ]
    }
   ],
   "source": [
    "x=\"s\"\n",
    "print(type(x))\n",
    "y=int(x)\n",
    "print(type(y))"
   ]
  },
  {
   "cell_type": "code",
   "execution_count": 40,
   "id": "9d0d3915-00c2-4d1b-918f-c7259d3f6358",
   "metadata": {},
   "outputs": [
    {
     "name": "stdout",
     "output_type": "stream",
     "text": [
      "<class 'str'>\n",
      "<class 'int'>\n"
     ]
    }
   ],
   "source": [
    "x=\"123\"\n",
    "print(type(x))\n",
    "y=int(x)\n",
    "print(type(y))"
   ]
  },
  {
   "cell_type": "markdown",
   "id": "0cd35337-9e00-4fd9-a8ef-69838419238d",
   "metadata": {},
   "source": [
    "String to complex"
   ]
  },
  {
   "cell_type": "code",
   "execution_count": 42,
   "id": "6b1099aa-c72c-40d9-8861-7193d4680647",
   "metadata": {},
   "outputs": [
    {
     "name": "stdout",
     "output_type": "stream",
     "text": [
      "<class 'str'>\n"
     ]
    },
    {
     "ename": "ValueError",
     "evalue": "complex() arg is a malformed string",
     "output_type": "error",
     "traceback": [
      "\u001b[1;31m---------------------------------------------------------------------------\u001b[0m",
      "\u001b[1;31mValueError\u001b[0m                                Traceback (most recent call last)",
      "Cell \u001b[1;32mIn[42], line 3\u001b[0m\n\u001b[0;32m      1\u001b[0m x\u001b[38;5;241m=\u001b[39m\u001b[38;5;124m\"\u001b[39m\u001b[38;5;124mstring\u001b[39m\u001b[38;5;124m\"\u001b[39m\n\u001b[0;32m      2\u001b[0m \u001b[38;5;28mprint\u001b[39m(\u001b[38;5;28mtype\u001b[39m(x))\n\u001b[1;32m----> 3\u001b[0m y\u001b[38;5;241m=\u001b[39m\u001b[38;5;28mcomplex\u001b[39m(x)\n\u001b[0;32m      4\u001b[0m \u001b[38;5;28mprint\u001b[39m(\u001b[38;5;28mtype\u001b[39m(y))\n",
      "\u001b[1;31mValueError\u001b[0m: complex() arg is a malformed string"
     ]
    }
   ],
   "source": [
    "x=\"string\"\n",
    "print(type(x))\n",
    "y=complex(x)\n",
    "print(type(y))"
   ]
  },
  {
   "cell_type": "markdown",
   "id": "ebdef288-14a2-4e3f-9633-7dff2fdbc068",
   "metadata": {},
   "source": [
    "String to float"
   ]
  },
  {
   "cell_type": "code",
   "execution_count": 46,
   "id": "4eae0060-6efe-4c04-b94a-ee9fd7f8fb88",
   "metadata": {},
   "outputs": [
    {
     "name": "stdout",
     "output_type": "stream",
     "text": [
      "<class 'str'>\n"
     ]
    },
    {
     "ename": "ValueError",
     "evalue": "could not convert string to float: 'string'",
     "output_type": "error",
     "traceback": [
      "\u001b[1;31m---------------------------------------------------------------------------\u001b[0m",
      "\u001b[1;31mValueError\u001b[0m                                Traceback (most recent call last)",
      "Cell \u001b[1;32mIn[46], line 3\u001b[0m\n\u001b[0;32m      1\u001b[0m x\u001b[38;5;241m=\u001b[39m\u001b[38;5;124m\"\u001b[39m\u001b[38;5;124mstring\u001b[39m\u001b[38;5;124m\"\u001b[39m\n\u001b[0;32m      2\u001b[0m \u001b[38;5;28mprint\u001b[39m(\u001b[38;5;28mtype\u001b[39m(x))\n\u001b[1;32m----> 3\u001b[0m y\u001b[38;5;241m=\u001b[39m\u001b[38;5;28mfloat\u001b[39m(x)\n\u001b[0;32m      4\u001b[0m \u001b[38;5;28mprint\u001b[39m(\u001b[38;5;28mtype\u001b[39m(y))\n",
      "\u001b[1;31mValueError\u001b[0m: could not convert string to float: 'string'"
     ]
    }
   ],
   "source": [
    "x=\"string\"\n",
    "print(type(x))\n",
    "y=float(x)\n",
    "print(type(y))"
   ]
  },
  {
   "cell_type": "markdown",
   "id": "2de11da5-071a-4054-9603-2261606e923a",
   "metadata": {},
   "source": [
    "String to boolean"
   ]
  },
  {
   "cell_type": "code",
   "execution_count": 48,
   "id": "3c23cb30-73ad-4564-a30b-2fce16cc485f",
   "metadata": {},
   "outputs": [
    {
     "name": "stdout",
     "output_type": "stream",
     "text": [
      "<class 'str'>\n",
      "<class 'bool'>\n"
     ]
    }
   ],
   "source": [
    "x=\"string\"\n",
    "print(type(x))\n",
    "y=bool(x)\n",
    "print(type(y))"
   ]
  },
  {
   "cell_type": "markdown",
   "id": "9c1d9c0a-3ffe-480e-a010-53fb34592835",
   "metadata": {},
   "source": [
    "String consisting of all numbers:"
   ]
  },
  {
   "cell_type": "markdown",
   "id": "8435167d-769f-46a1-9f06-1d0a4126751b",
   "metadata": {},
   "source": [
    "String to int"
   ]
  },
  {
   "cell_type": "code",
   "execution_count": 50,
   "id": "1be4f364-c29b-4075-b15c-3109fac60691",
   "metadata": {},
   "outputs": [
    {
     "name": "stdout",
     "output_type": "stream",
     "text": [
      "<class 'str'>\n",
      "<class 'int'>\n"
     ]
    }
   ],
   "source": [
    "x=\"123\"\n",
    "print(type(x))\n",
    "y=int(x)\n",
    "print(type(y))"
   ]
  },
  {
   "cell_type": "markdown",
   "id": "86476ef6-c09b-4321-a7d9-739670c425f0",
   "metadata": {},
   "source": [
    "string to float"
   ]
  },
  {
   "cell_type": "code",
   "execution_count": 54,
   "id": "af83e6f7-7e35-421b-8dcc-097429d256c0",
   "metadata": {},
   "outputs": [
    {
     "name": "stdout",
     "output_type": "stream",
     "text": [
      "<class 'str'>\n",
      "<class 'float'>\n"
     ]
    }
   ],
   "source": [
    "x=\"123\"\n",
    "print(type(x))\n",
    "y=float(x)\n",
    "print(type(y))"
   ]
  },
  {
   "cell_type": "code",
   "execution_count": null,
   "id": "17df670a-a76c-45fc-abf4-db3787fe02eb",
   "metadata": {},
   "outputs": [],
   "source": [
    "string to complex"
   ]
  },
  {
   "cell_type": "code",
   "execution_count": 56,
   "id": "c03eee67-9daa-4a74-80a9-52c10ae202d9",
   "metadata": {},
   "outputs": [
    {
     "name": "stdout",
     "output_type": "stream",
     "text": [
      "<class 'str'>\n",
      "<class 'complex'>\n"
     ]
    }
   ],
   "source": [
    "x=\"123\"\n",
    "print(type(x))\n",
    "y=complex(x)\n",
    "print(type(y))"
   ]
  },
  {
   "cell_type": "markdown",
   "id": "bcbe47f8-bf5e-4aeb-9563-8afee14c2e07",
   "metadata": {},
   "source": [
    "string to bool"
   ]
  },
  {
   "cell_type": "code",
   "execution_count": 58,
   "id": "ec477db4-e2f2-42eb-8456-4a6731fadd02",
   "metadata": {},
   "outputs": [
    {
     "name": "stdout",
     "output_type": "stream",
     "text": [
      "<class 'str'>\n",
      "<class 'bool'>\n"
     ]
    }
   ],
   "source": [
    "x=\"123\"\n",
    "print(type(x))\n",
    "y=bool(x)\n",
    "print(type(y))"
   ]
  },
  {
   "cell_type": "markdown",
   "id": "3f7fe0d8-4b15-4fe0-90cd-72164cdca451",
   "metadata": {},
   "source": [
    "BOOLEAN"
   ]
  },
  {
   "cell_type": "markdown",
   "id": "2c5e7723-e776-401c-ad9f-543ac9ea7738",
   "metadata": {},
   "source": [
    "boolean to int"
   ]
  },
  {
   "cell_type": "code",
   "execution_count": 60,
   "id": "2855a7c5-caa9-4fa7-be11-cdc4facc8b5c",
   "metadata": {},
   "outputs": [
    {
     "name": "stdout",
     "output_type": "stream",
     "text": [
      "<class 'bool'>\n",
      "<class 'int'>\n"
     ]
    }
   ],
   "source": [
    "x=True\n",
    "print(type(x))\n",
    "y=int(x)\n",
    "print(type(y))"
   ]
  },
  {
   "cell_type": "code",
   "execution_count": null,
   "id": "6a644771-ab03-4b64-846f-0448ff754477",
   "metadata": {},
   "outputs": [],
   "source": [
    "bool to float"
   ]
  },
  {
   "cell_type": "code",
   "execution_count": 62,
   "id": "6cb24a45-3980-4034-afa9-33dd63a60e3c",
   "metadata": {},
   "outputs": [
    {
     "name": "stdout",
     "output_type": "stream",
     "text": [
      "<class 'bool'>\n",
      "<class 'float'>\n"
     ]
    }
   ],
   "source": [
    "x=True\n",
    "print(type(x))\n",
    "y=float(x)\n",
    "print(type(y))"
   ]
  },
  {
   "cell_type": "markdown",
   "id": "b5586cf5-c860-4a99-80c9-524dd6a04c0f",
   "metadata": {},
   "source": [
    "bool to str"
   ]
  },
  {
   "cell_type": "code",
   "execution_count": 66,
   "id": "406c77dc-9eec-49f6-a900-2ad1f32fb78c",
   "metadata": {},
   "outputs": [
    {
     "name": "stdout",
     "output_type": "stream",
     "text": [
      "<class 'bool'>\n",
      "<class 'str'>\n"
     ]
    }
   ],
   "source": [
    "x=True\n",
    "print(type(x))\n",
    "y=str(x)\n",
    "print(type(y))"
   ]
  },
  {
   "cell_type": "markdown",
   "id": "e3906e69-8844-4ef3-b80e-39e86ecaaec7",
   "metadata": {},
   "source": [
    "bool to complex"
   ]
  },
  {
   "cell_type": "code",
   "execution_count": 68,
   "id": "235c5562-b674-4c81-bf2c-49bb7d0dfe67",
   "metadata": {},
   "outputs": [
    {
     "name": "stdout",
     "output_type": "stream",
     "text": [
      "<class 'bool'>\n",
      "<class 'complex'>\n"
     ]
    }
   ],
   "source": [
    "x=True\n",
    "print(type(x))\n",
    "y=complex(x)\n",
    "print(type(y))"
   ]
  },
  {
   "cell_type": "code",
   "execution_count": null,
   "id": "50c6a1d4-d271-4fb0-b4e4-6f9cc5a53cf0",
   "metadata": {},
   "outputs": [],
   "source": [
    "COMPLEX"
   ]
  },
  {
   "cell_type": "markdown",
   "id": "41d7e762-28f2-4671-88bd-d496e2f7336b",
   "metadata": {},
   "source": [
    "complex to int"
   ]
  },
  {
   "cell_type": "code",
   "execution_count": 70,
   "id": "daed57ba-b050-4f92-ab0d-f82edf10b3f2",
   "metadata": {},
   "outputs": [
    {
     "name": "stdout",
     "output_type": "stream",
     "text": [
      "<class 'complex'>\n"
     ]
    },
    {
     "ename": "TypeError",
     "evalue": "int() argument must be a string, a bytes-like object or a real number, not 'complex'",
     "output_type": "error",
     "traceback": [
      "\u001b[1;31m---------------------------------------------------------------------------\u001b[0m",
      "\u001b[1;31mTypeError\u001b[0m                                 Traceback (most recent call last)",
      "Cell \u001b[1;32mIn[70], line 3\u001b[0m\n\u001b[0;32m      1\u001b[0m x\u001b[38;5;241m=\u001b[39m\u001b[38;5;241m2\u001b[39m\u001b[38;5;241m+\u001b[39m\u001b[38;5;241m4\u001b[39mj\n\u001b[0;32m      2\u001b[0m \u001b[38;5;28mprint\u001b[39m(\u001b[38;5;28mtype\u001b[39m(x))\n\u001b[1;32m----> 3\u001b[0m y\u001b[38;5;241m=\u001b[39m\u001b[38;5;28mint\u001b[39m(x)\n\u001b[0;32m      4\u001b[0m \u001b[38;5;28mprint\u001b[39m(\u001b[38;5;28mtype\u001b[39m(y))\n",
      "\u001b[1;31mTypeError\u001b[0m: int() argument must be a string, a bytes-like object or a real number, not 'complex'"
     ]
    }
   ],
   "source": [
    "x=2+4j\n",
    "print(type(x))\n",
    "y=int(x)\n",
    "print(type(y))"
   ]
  },
  {
   "cell_type": "markdown",
   "id": "4e727ffc-6fcd-477a-90cd-01262e106714",
   "metadata": {},
   "source": [
    "complex to float"
   ]
  },
  {
   "cell_type": "code",
   "execution_count": 74,
   "id": "e0c24d7c-669f-4caf-b45e-2b8efd7bfa33",
   "metadata": {},
   "outputs": [
    {
     "name": "stdout",
     "output_type": "stream",
     "text": [
      "<class 'complex'>\n"
     ]
    },
    {
     "ename": "TypeError",
     "evalue": "float() argument must be a string or a real number, not 'complex'",
     "output_type": "error",
     "traceback": [
      "\u001b[1;31m---------------------------------------------------------------------------\u001b[0m",
      "\u001b[1;31mTypeError\u001b[0m                                 Traceback (most recent call last)",
      "Cell \u001b[1;32mIn[74], line 3\u001b[0m\n\u001b[0;32m      1\u001b[0m x\u001b[38;5;241m=\u001b[39m\u001b[38;5;241m2\u001b[39m\u001b[38;5;241m+\u001b[39m\u001b[38;5;241m4\u001b[39mj\n\u001b[0;32m      2\u001b[0m \u001b[38;5;28mprint\u001b[39m(\u001b[38;5;28mtype\u001b[39m(x))\n\u001b[1;32m----> 3\u001b[0m y\u001b[38;5;241m=\u001b[39m\u001b[38;5;28mfloat\u001b[39m(x)\n\u001b[0;32m      4\u001b[0m \u001b[38;5;28mprint\u001b[39m(\u001b[38;5;28mtype\u001b[39m(y))\n",
      "\u001b[1;31mTypeError\u001b[0m: float() argument must be a string or a real number, not 'complex'"
     ]
    }
   ],
   "source": [
    "x=2+4j\n",
    "print(type(x))\n",
    "y=float(x)\n",
    "print(type(y))"
   ]
  },
  {
   "cell_type": "markdown",
   "id": "991d51e2-329f-4e7b-bfb0-3ad1e7331549",
   "metadata": {},
   "source": [
    "complex to str"
   ]
  },
  {
   "cell_type": "code",
   "execution_count": 76,
   "id": "11859558-1e73-41e1-a7a2-7f3cad94d51f",
   "metadata": {},
   "outputs": [
    {
     "name": "stdout",
     "output_type": "stream",
     "text": [
      "<class 'complex'>\n",
      "<class 'str'>\n"
     ]
    }
   ],
   "source": [
    "x=2+4j\n",
    "print(type(x))\n",
    "y=str(x)\n",
    "print(type(y))"
   ]
  },
  {
   "cell_type": "markdown",
   "id": "8dc7b539-e3e3-41df-a66c-48acaf395cf5",
   "metadata": {},
   "source": [
    "complex to bool"
   ]
  },
  {
   "cell_type": "code",
   "execution_count": 78,
   "id": "43e8537d-9d6b-4989-97fe-4a5f85c89e66",
   "metadata": {},
   "outputs": [
    {
     "name": "stdout",
     "output_type": "stream",
     "text": [
      "<class 'complex'>\n",
      "<class 'bool'>\n"
     ]
    }
   ],
   "source": [
    "x=2+4j\n",
    "print(type(x))\n",
    "y=bool(x)\n",
    "print(type(y))"
   ]
  },
  {
   "cell_type": "code",
   "execution_count": 96,
   "id": "a3d7d782-7883-4528-b57b-3c988c7a7825",
   "metadata": {},
   "outputs": [
    {
     "name": "stdout",
     "output_type": "stream",
     "text": [
      "615\n"
     ]
    }
   ],
   "source": [
    "n=\"5\"\n",
    "print(int(n)+int(2*n)+int(3*n))"
   ]
  }
 ],
 "metadata": {
  "kernelspec": {
   "display_name": "Python 3 (ipykernel)",
   "language": "python",
   "name": "python3"
  },
  "language_info": {
   "codemirror_mode": {
    "name": "ipython",
    "version": 3
   },
   "file_extension": ".py",
   "mimetype": "text/x-python",
   "name": "python",
   "nbconvert_exporter": "python",
   "pygments_lexer": "ipython3",
   "version": "3.12.4"
  }
 },
 "nbformat": 4,
 "nbformat_minor": 5
}
