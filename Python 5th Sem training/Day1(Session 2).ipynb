{
 "cells": [
  {
   "cell_type": "markdown",
   "id": "ca5e9ca4-f610-4855-a796-ede15c85115a",
   "metadata": {},
   "source": [
    " Day 1 Session 2"
   ]
  },
  {
   "cell_type": "markdown",
   "id": "a35560b5-dd51-421e-b6f8-68be58fb2ca8",
   "metadata": {},
   "source": [
    "Operator"
   ]
  },
  {
   "cell_type": "code",
   "execution_count": 1,
   "id": "4a65b70c-5bf3-4e5f-a479-d3d11ba9327b",
   "metadata": {},
   "outputs": [
    {
     "data": {
      "text/plain": [
       "-32"
      ]
     },
     "execution_count": 1,
     "metadata": {},
     "output_type": "execute_result"
    }
   ],
   "source": [
    "3+5-(6+7*2)*2"
   ]
  },
  {
   "cell_type": "code",
   "execution_count": 3,
   "id": "14387f4d-c67a-4ad3-9027-db595ded2bb0",
   "metadata": {},
   "outputs": [
    {
     "data": {
      "text/plain": [
       "9"
      ]
     },
     "execution_count": 3,
     "metadata": {},
     "output_type": "execute_result"
    }
   ],
   "source": [
    "#power\n",
    "3**2"
   ]
  },
  {
   "cell_type": "code",
   "execution_count": 5,
   "id": "72fc14ab-01fd-47dc-8177-96490b93d9af",
   "metadata": {},
   "outputs": [
    {
     "data": {
      "text/plain": [
       "1050.0"
      ]
     },
     "execution_count": 5,
     "metadata": {},
     "output_type": "execute_result"
    }
   ],
   "source": [
    "# 10.5 multiply by e^2 i.e 10 to the power 2\n",
    "10.5e2"
   ]
  },
  {
   "cell_type": "code",
   "execution_count": 7,
   "id": "780261aa-f918-44da-90d2-cabf1ebb9022",
   "metadata": {},
   "outputs": [
    {
     "data": {
      "text/plain": [
       "2"
      ]
     },
     "execution_count": 7,
     "metadata": {},
     "output_type": "execute_result"
    }
   ],
   "source": [
    "5//2 #Same as floor"
   ]
  },
  {
   "cell_type": "code",
   "execution_count": 9,
   "id": "0146e668-923b-41c8-b1be-1a8bfe3f98a5",
   "metadata": {},
   "outputs": [
    {
     "data": {
      "text/plain": [
       "2.5"
      ]
     },
     "execution_count": 9,
     "metadata": {},
     "output_type": "execute_result"
    }
   ],
   "source": [
    "5/2"
   ]
  },
  {
   "cell_type": "code",
   "execution_count": 11,
   "id": "dd20d88e-7b37-45aa-8871-74a39b1e0c99",
   "metadata": {},
   "outputs": [
    {
     "data": {
      "text/plain": [
       "'PythonTraining'"
      ]
     },
     "execution_count": 11,
     "metadata": {},
     "output_type": "execute_result"
    }
   ],
   "source": [
    "\"Python\"+\"Training\""
   ]
  },
  {
   "cell_type": "code",
   "execution_count": 13,
   "id": "e802d1a8-97b6-4766-be2f-3d9460770687",
   "metadata": {},
   "outputs": [
    {
     "data": {
      "text/plain": [
       "'Python Training'"
      ]
     },
     "execution_count": 13,
     "metadata": {},
     "output_type": "execute_result"
    }
   ],
   "source": [
    "\"Python\"+\" \"+\"Training\""
   ]
  },
  {
   "cell_type": "code",
   "execution_count": 15,
   "id": "d10a66f2-be34-4a1e-8dd2-cb2b732b9783",
   "metadata": {},
   "outputs": [
    {
     "ename": "TypeError",
     "evalue": "unsupported operand type(s) for +: 'int' and 'str'",
     "output_type": "error",
     "traceback": [
      "\u001b[1;31m---------------------------------------------------------------------------\u001b[0m",
      "\u001b[1;31mTypeError\u001b[0m                                 Traceback (most recent call last)",
      "Cell \u001b[1;32mIn[15], line 2\u001b[0m\n\u001b[0;32m      1\u001b[0m \u001b[38;5;66;03m#we cannot do it because both data types are different\u001b[39;00m\n\u001b[1;32m----> 2\u001b[0m \u001b[38;5;241m3\u001b[39m\u001b[38;5;241m+\u001b[39m\u001b[38;5;124m\"\u001b[39m\u001b[38;5;124mPython\u001b[39m\u001b[38;5;124m\"\u001b[39m\n",
      "\u001b[1;31mTypeError\u001b[0m: unsupported operand type(s) for +: 'int' and 'str'"
     ]
    }
   ],
   "source": [
    "#we cannot do it because both data types are different\n",
    "3+\"Python\""
   ]
  },
  {
   "cell_type": "code",
   "execution_count": 23,
   "id": "cf72a4ff-81aa-4e6f-85aa-664258bf3860",
   "metadata": {},
   "outputs": [
    {
     "data": {
      "text/plain": [
       "'3Python'"
      ]
     },
     "execution_count": 23,
     "metadata": {},
     "output_type": "execute_result"
    }
   ],
   "source": [
    "\"3\"+\"Python\""
   ]
  },
  {
   "cell_type": "code",
   "execution_count": 17,
   "id": "447f7a64-020e-4aea-a403-8f4ba47bc292",
   "metadata": {},
   "outputs": [
    {
     "data": {
      "text/plain": [
       "'I am learning \"python \" Programming'"
      ]
     },
     "execution_count": 17,
     "metadata": {},
     "output_type": "execute_result"
    }
   ],
   "source": [
    "#Escape Sequence\n",
    "\"I am learning \\\"python \\\" Programming\""
   ]
  },
  {
   "cell_type": "code",
   "execution_count": 19,
   "id": "f256f97e-2f87-434c-8442-f3c8d7de9fd8",
   "metadata": {},
   "outputs": [
    {
     "data": {
      "text/plain": [
       "'Python\\nProgramming'"
      ]
     },
     "execution_count": 19,
     "metadata": {},
     "output_type": "execute_result"
    }
   ],
   "source": [
    "\"Python\\nProgramming\""
   ]
  },
  {
   "cell_type": "code",
   "execution_count": 21,
   "id": "7c5846ad-b757-422f-bdcf-12adfe887c0a",
   "metadata": {},
   "outputs": [
    {
     "data": {
      "text/plain": [
       "'Python \\t Programming'"
      ]
     },
     "execution_count": 21,
     "metadata": {},
     "output_type": "execute_result"
    }
   ],
   "source": [
    "\"Python \\t Programming\""
   ]
  },
  {
   "cell_type": "code",
   "execution_count": 25,
   "id": "b353f3ce-548d-48d3-8c53-3f3048dd67d1",
   "metadata": {},
   "outputs": [
    {
     "name": "stdout",
     "output_type": "stream",
     "text": [
      "(3, 4, 5)\n"
     ]
    }
   ],
   "source": [
    "# Tuple\n",
    "x=(3,4,5)\n",
    "print(x)"
   ]
  },
  {
   "cell_type": "code",
   "execution_count": 27,
   "id": "1473643e-77aa-4e6b-8b45-f80851d92ca2",
   "metadata": {},
   "outputs": [
    {
     "name": "stdout",
     "output_type": "stream",
     "text": [
      "5\n"
     ]
    }
   ],
   "source": [
    "x=max(3,4,5)\n",
    "print(x)"
   ]
  },
  {
   "cell_type": "code",
   "execution_count": 29,
   "id": "31b487f4-9e17-462f-a7ae-96399a10973c",
   "metadata": {},
   "outputs": [
    {
     "data": {
      "text/plain": [
       "9"
      ]
     },
     "execution_count": 29,
     "metadata": {},
     "output_type": "execute_result"
    }
   ],
   "source": [
    "pow(3,2)"
   ]
  },
  {
   "cell_type": "code",
   "execution_count": 31,
   "id": "993c60a7-26d3-44e6-b10d-3ed2ea5e04f8",
   "metadata": {},
   "outputs": [
    {
     "name": "stdout",
     "output_type": "stream",
     "text": [
      "3\n"
     ]
    }
   ],
   "source": [
    "x=min(3,4,5)\n",
    "print(x)"
   ]
  },
  {
   "cell_type": "markdown",
   "id": "d531b8dd-6300-42e5-960b-b8bbc67e85c6",
   "metadata": {},
   "source": [
    "Calender"
   ]
  },
  {
   "cell_type": "code",
   "execution_count": 39,
   "id": "f9a4ad71-b013-45a3-a9bf-79176c5194d1",
   "metadata": {},
   "outputs": [
    {
     "name": "stdout",
     "output_type": "stream",
     "text": [
      "    October 2024\n",
      "Mo Tu We Th Fr Sa Su\n",
      "    1  2  3  4  5  6\n",
      " 7  8  9 10 11 12 13\n",
      "14 15 16 17 18 19 20\n",
      "21 22 23 24 25 26 27\n",
      "28 29 30 31\n",
      "\n"
     ]
    }
   ],
   "source": [
    "import calendar\n",
    "y=2024\n",
    "x=10\n",
    "print(calendar.month(y,x))"
   ]
  },
  {
   "cell_type": "code",
   "execution_count": 43,
   "id": "44650a52-317a-4b6b-b817-10e96022b87a",
   "metadata": {},
   "outputs": [
    {
     "name": "stdout",
     "output_type": "stream",
     "text": [
      "python \t training\n"
     ]
    }
   ],
   "source": [
    "print(\"python \\t training\")"
   ]
  },
  {
   "cell_type": "code",
   "execution_count": 45,
   "id": "22adee51-f2f4-403b-9bd8-d50077729139",
   "metadata": {},
   "outputs": [
    {
     "name": "stdout",
     "output_type": "stream",
     "text": [
      "python \n",
      " training\n"
     ]
    }
   ],
   "source": [
    "print(\"python \\n training\")"
   ]
  },
  {
   "cell_type": "code",
   "execution_count": 49,
   "id": "445842ef-998a-4616-a5f7-cfcd1c5fd8ea",
   "metadata": {},
   "outputs": [
    {
     "name": "stdout",
     "output_type": "stream",
     "text": [
      "Python programming\n",
      "Python programming\n",
      "Python programming\n",
      "\n"
     ]
    }
   ],
   "source": [
    "print(3*\"Python programming\\n\")"
   ]
  },
  {
   "cell_type": "code",
   "execution_count": 72,
   "id": "06866291-683f-47e4-a6b1-1320619bceec",
   "metadata": {},
   "outputs": [
    {
     "name": "stdout",
     "output_type": "stream",
     "text": [
      "2024-08-24\n",
      "4 days, 0:00:00\n"
     ]
    }
   ],
   "source": [
    "import datetime\n",
    "x=(datetime.date(2024,8,24))\n",
    "y=(datetime.date(2024,8,28))\n",
    "print(x)\n",
    "z=y-x\n",
    "print(z)"
   ]
  },
  {
   "cell_type": "code",
   "execution_count": 64,
   "id": "c396d1d3-8533-46c8-ac4c-6411397beea7",
   "metadata": {},
   "outputs": [
    {
     "name": "stdout",
     "output_type": "stream",
     "text": [
      "31\n"
     ]
    }
   ],
   "source": [
    "from datetime import date\n",
    "f=date(2024,8,24)\n",
    "y=date(2024,9,24)\n",
    "z=y-f\n",
    "print(z.days)"
   ]
  },
  {
   "cell_type": "code",
   "execution_count": 84,
   "id": "31c49e14-5ff2-4828-b615-79ebb1ebf284",
   "metadata": {},
   "outputs": [
    {
     "name": "stdout",
     "output_type": "stream",
     "text": [
      "Twinkle, twinkle,little star,\n",
      "\tHow I wonder what you are!\n",
      "\t\tUp above the world so high,\n",
      "\t\tLike a diamond in the sky.\n",
      "Twinkle,twinkle,little star,\n",
      "\tHow I wonder what you are\n"
     ]
    }
   ],
   "source": [
    "print(\"Twinkle, twinkle,little star,\\n\\tHow I wonder what you are!\\n\\t\\tUp above the world so high,\\n\\t\\tLike a diamond in the sky.\\nTwinkle,twinkle,little star,\\n\\tHow I wonder what you are\")"
   ]
  },
  {
   "cell_type": "code",
   "execution_count": null,
   "id": "913d2b88-1151-467b-b966-ab752b42dca6",
   "metadata": {},
   "outputs": [],
   "source": [
    "WAP for n=5 using n+nn+nnn output =615"
   ]
  },
  {
   "cell_type": "code",
   "execution_count": 5,
   "id": "01beb1da-05b6-477d-b28e-45faba9587ad",
   "metadata": {},
   "outputs": [
    {
     "name": "stdout",
     "output_type": "stream",
     "text": [
      "615\n"
     ]
    }
   ],
   "source": [
    "n=5\n",
    "print(n+n*10+n+n*100+n*10+n)\n",
    "#n+nn+nnn"
   ]
  },
  {
   "cell_type": "markdown",
   "id": "ed246523-fd11-42b0-b6b3-475ac1eb6067",
   "metadata": {},
   "source": [
    "WAP a python to solve (x+y)*(x+y)"
   ]
  },
  {
   "cell_type": "code",
   "execution_count": 139,
   "id": "c12e2003-343a-4930-ac34-e8f994bb54d4",
   "metadata": {},
   "outputs": [
    {
     "name": "stdout",
     "output_type": "stream",
     "text": [
      "49\n"
     ]
    }
   ],
   "source": [
    "x=4\n",
    "y=3\n",
    "print((x+y)**2)"
   ]
  },
  {
   "cell_type": "markdown",
   "id": "cc31c476-4865-4c90-bc66-83ff2f08c789",
   "metadata": {},
   "source": [
    "WAP to print sum of the first nos"
   ]
  },
  {
   "cell_type": "code",
   "execution_count": 145,
   "id": "c23fdb04-60b7-448a-b989-10be2b7073c4",
   "metadata": {},
   "outputs": [
    {
     "name": "stdout",
     "output_type": "stream",
     "text": [
      "15\n"
     ]
    }
   ],
   "source": [
    "n=5\n",
    "sum=0\n",
    "for i in range(1,n+1):\n",
    "    sum+=i\n",
    "print(sum)    "
   ]
  },
  {
   "cell_type": "markdown",
   "id": "6c7db262-663a-44d1-aca3-7489048dd65f",
   "metadata": {},
   "source": [
    "Sum function"
   ]
  },
  {
   "cell_type": "code",
   "execution_count": 7,
   "id": "0dfe0400-39b8-48c0-9f11-a3034372efc1",
   "metadata": {},
   "outputs": [
    {
     "name": "stdout",
     "output_type": "stream",
     "text": [
      "18\n"
     ]
    }
   ],
   "source": [
    "a = (1, 2, 3, 4, 5)\n",
    "x = sum(a, 3)\n",
    "print(x)"
   ]
  },
  {
   "cell_type": "code",
   "execution_count": 3,
   "id": "2588c68f-1d04-4753-8dd9-2efe19e413dd",
   "metadata": {},
   "outputs": [
    {
     "name": "stdout",
     "output_type": "stream",
     "text": [
      "15\n"
     ]
    }
   ],
   "source": [
    "a = (1, 2, 3, 4, 5)\n",
    "x = sum(a)\n",
    "print(x)"
   ]
  },
  {
   "cell_type": "code",
   "execution_count": 1,
   "id": "58a452ed-42ed-4059-9c2e-26a8ea17e9f9",
   "metadata": {},
   "outputs": [
    {
     "name": "stdout",
     "output_type": "stream",
     "text": [
      "2024-08-27\n"
     ]
    }
   ],
   "source": [
    "import datetime\n",
    "tday=datetime.date.today()\n",
    "print(tday)"
   ]
  },
  {
   "cell_type": "code",
   "execution_count": 3,
   "id": "ba2ec94e-bac3-429c-8f23-2b8512df5680",
   "metadata": {},
   "outputs": [
    {
     "name": "stdout",
     "output_type": "stream",
     "text": [
      "8\n"
     ]
    }
   ],
   "source": [
    "import datetime\n",
    "tday=datetime.date.today()\n",
    "print(tday.month)"
   ]
  }
 ],
 "metadata": {
  "kernelspec": {
   "display_name": "Python 3 (ipykernel)",
   "language": "python",
   "name": "python3"
  },
  "language_info": {
   "codemirror_mode": {
    "name": "ipython",
    "version": 3
   },
   "file_extension": ".py",
   "mimetype": "text/x-python",
   "name": "python",
   "nbconvert_exporter": "python",
   "pygments_lexer": "ipython3",
   "version": "3.12.4"
  }
 },
 "nbformat": 4,
 "nbformat_minor": 5
}
