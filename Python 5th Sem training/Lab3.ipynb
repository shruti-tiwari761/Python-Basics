{
 "cells": [
  {
   "cell_type": "markdown",
   "id": "04e4bf8b-e150-47cb-8abc-ee8ad116882c",
   "metadata": {},
   "source": [
    "#Types of Variables\n",
    "1)instance variable(object specific variable )\n",
    "2)static Variable\n",
    "3)Local Variable\n",
    "4)global variable"
   ]
  },
  {
   "cell_type": "markdown",
   "id": "e8fba4ab-1019-4590-9f66-f56336d42cc4",
   "metadata": {},
   "source": [
    "Instance variable inside a class and init "
   ]
  },
  {
   "cell_type": "code",
   "execution_count": 15,
   "id": "20d4d6e1-5a42-4ca9-82b5-ad2e15a4a8cd",
   "metadata": {},
   "outputs": [
    {
     "name": "stdout",
     "output_type": "stream",
     "text": [
      "{'accno': 100, 'balance': 4000}\n",
      "{'accno': 200, 'balance': 5000}\n"
     ]
    }
   ],
   "source": [
    "class account:\n",
    "    def __init__(self,a,b):\n",
    "        self.accno=a #instance variable\n",
    "        self.balance=b #instance variable\n",
    "obj1=account(100,4000)\n",
    "obj2=account(200,5000)\n",
    "print(obj1.__dict__)\n",
    "print(obj2.__dict__)"
   ]
  },
  {
   "cell_type": "markdown",
   "id": "4cf537b7-5e45-4381-9b0e-624887aaa2e9",
   "metadata": {},
   "source": [
    "Instance variable inside the class but in a function"
   ]
  },
  {
   "cell_type": "code",
   "execution_count": 17,
   "id": "07366d99-2916-423e-88b6-d6f411688698",
   "metadata": {},
   "outputs": [
    {
     "name": "stdout",
     "output_type": "stream",
     "text": [
      "{'accno': 101, 'balance': 2000}\n"
     ]
    }
   ],
   "source": [
    "class account:\n",
    "    def f1(self,a,b):\n",
    "        self.accno=a\n",
    "        self.balance=b\n",
    "obj1=account()\n",
    "obj1.f1(101,2000)\n",
    "print(obj1.__dict__)"
   ]
  },
  {
   "cell_type": "markdown",
   "id": "cfbcb3fd-3e0e-4df8-b8a6-f07e3c46f63c",
   "metadata": {},
   "source": [
    "Instance variable outside the class "
   ]
  },
  {
   "cell_type": "code",
   "execution_count": 19,
   "id": "ac3e4947-27b1-4186-bd8b-8e539222f4b8",
   "metadata": {},
   "outputs": [
    {
     "name": "stdout",
     "output_type": "stream",
     "text": [
      "{'accno': 100, 'balance': 6000}\n"
     ]
    }
   ],
   "source": [
    "class account:\n",
    "    pass\n",
    "obj1=account()\n",
    "obj1.accno=100\n",
    "obj1.balance=6000\n",
    "print(obj1.__dict__)\n",
    "#Note:- obj1 is a instance variable"
   ]
  },
  {
   "cell_type": "markdown",
   "id": "82067e25-d21f-4715-bf42-7a0a84392c19",
   "metadata": {},
   "source": [
    " Lab 3 (A)Define a class employee with instance variable: employee id ,name ,salary.\n",
    "Define constructor to initialize member variables.Define a function to show employee data"
   ]
  },
  {
   "cell_type": "code",
   "execution_count": 23,
   "id": "38355a1c-1920-419a-8996-1db51210e34d",
   "metadata": {},
   "outputs": [
    {
     "name": "stdout",
     "output_type": "stream",
     "text": [
      "Employee Id : 12a\n",
      "Name of Employee : Shruti\n",
      "Salary:  344\n"
     ]
    }
   ],
   "source": [
    "class employee:\n",
    "     def __init__(self,a,b,c):\n",
    "            self.employee_id=a #instance variable\n",
    "            self.name=b #instance variable\n",
    "            self.salary=c\n",
    "     def show(self):\n",
    "         print(\"Employee Id :\",self.employee_id)\n",
    "         print(\"Name of Employee :\",self.name)\n",
    "         print(\"Salary: \",self.salary)\n",
    "e1=employee(\"12a\",\"Shruti\",344)\n",
    "e1.show()"
   ]
  },
  {
   "cell_type": "markdown",
   "id": "7e3707b0-afa4-4a0a-91e9-f4b496817cf8",
   "metadata": {},
   "source": [
    " Lab 3 (B)Using class 'employee' of above question create a list of employee and display in sorted order according to their names. \n",
    "Also define a function to sort list of employee according to their salary in decreasing order."
   ]
  },
  {
   "cell_type": "code",
   "execution_count": 7,
   "id": "c92aa096-6582-4ce0-b801-271a5638ce85",
   "metadata": {},
   "outputs": [
    {
     "name": "stdout",
     "output_type": "stream",
     "text": [
      "Employees sorted by name : \n",
      "Employee(name='Aaradhya'; salary='78000')\n",
      "Employee(name='Aashutosh'; salary='81000')\n",
      "Employee(name='Abhinav'; salary='30000')\n",
      "Employee(name='Shruti'; salary='80000')\n",
      "Employees sorted by salary : \n",
      "Employee(name='Aashutosh'; salary='81000')\n",
      "Employee(name='Shruti'; salary='80000')\n",
      "Employee(name='Aaradhya'; salary='78000')\n",
      "Employee(name='Abhinav'; salary='30000')\n"
     ]
    }
   ],
   "source": [
    "class employee:\n",
    "    def __init__(self,name,salary):\n",
    "        self.name=name\n",
    "        self.salary=salary\n",
    "    def data(self):\n",
    "       return f\"Employee(name='{self.name}'; salary='{self.salary}')\"\n",
    "employees=[employee(\"Shruti\",80000),employee(\"Aashutosh\",81000),employee(\"Abhinav\",30000),employee(\"Aaradhya\",78000)]\n",
    "def sortname(employees):\n",
    "    return sorted(employees,key=lambda emp:emp.name)\n",
    "def sortsalary(employees):\n",
    "    return sorted(employees,key=lambda emp:emp.salary,reverse=True)\n",
    "Sorted_by_name=sortname(employees)\n",
    "print(\"Employees sorted by name : \")\n",
    "for emp in Sorted_by_name:\n",
    "    print(emp.data())\n",
    "Sorted_by_salary=sortsalary(employees)\n",
    "print(\"Employees sorted by salary : \")\n",
    "for emp in Sorted_by_salary:\n",
    "    print(emp.data())"
   ]
  }
 ],
 "metadata": {
  "kernelspec": {
   "display_name": "Python 3 (ipykernel)",
   "language": "python",
   "name": "python3"
  },
  "language_info": {
   "codemirror_mode": {
    "name": "ipython",
    "version": 3
   },
   "file_extension": ".py",
   "mimetype": "text/x-python",
   "name": "python",
   "nbconvert_exporter": "python",
   "pygments_lexer": "ipython3",
   "version": "3.12.4"
  }
 },
 "nbformat": 4,
 "nbformat_minor": 5
}
