{
 "cells": [
  {
   "cell_type": "code",
   "execution_count": 5,
   "id": "b3355c52-28df-4645-a908-8216e16ec89b",
   "metadata": {},
   "outputs": [
    {
     "data": {
      "text/plain": [
       "29"
      ]
     },
     "execution_count": 5,
     "metadata": {},
     "output_type": "execute_result"
    }
   ],
   "source": [
    "22+(7-2//9**2)"
   ]
  },
  {
   "cell_type": "code",
   "execution_count": 7,
   "id": "59be8661-36e2-4fbc-9dd8-1dabe7e18611",
   "metadata": {},
   "outputs": [
    {
     "data": {
      "text/plain": [
       "7.0"
      ]
     },
     "execution_count": 7,
     "metadata": {},
     "output_type": "execute_result"
    }
   ],
   "source": [
    "21//4+6/3"
   ]
  },
  {
   "cell_type": "code",
   "execution_count": 11,
   "id": "d7e74662-2783-48a3-abe7-1a75cf8f5f61",
   "metadata": {},
   "outputs": [
    {
     "data": {
      "text/plain": [
       "'AAA'"
      ]
     },
     "execution_count": 11,
     "metadata": {},
     "output_type": "execute_result"
    }
   ],
   "source": [
    "((15//2**2)*'A')"
   ]
  },
  {
   "cell_type": "code",
   "execution_count": 13,
   "id": "58d8502f-2794-4251-814a-b1ab40baf733",
   "metadata": {},
   "outputs": [
    {
     "data": {
      "text/plain": [
       "0"
      ]
     },
     "execution_count": 13,
     "metadata": {},
     "output_type": "execute_result"
    }
   ],
   "source": [
    "round(0.5)-round(-0.5)"
   ]
  },
  {
   "cell_type": "code",
   "execution_count": 9,
   "id": "94aa8ec2-b6f0-4773-987c-2181e4848c3c",
   "metadata": {},
   "outputs": [
    {
     "data": {
      "text/plain": [
       "512"
      ]
     },
     "execution_count": 9,
     "metadata": {},
     "output_type": "execute_result"
    }
   ],
   "source": [
    "2**3**2"
   ]
  },
  {
   "cell_type": "code",
   "execution_count": 3,
   "id": "38d5c0cf-6392-491f-9922-ce691f037838",
   "metadata": {},
   "outputs": [
    {
     "data": {
      "text/plain": [
       "5"
      ]
     },
     "execution_count": 3,
     "metadata": {},
     "output_type": "execute_result"
    }
   ],
   "source": [
    "(3 and(5 or 0))"
   ]
  },
  {
   "cell_type": "code",
   "execution_count": 19,
   "id": "bd022d5d-365c-4248-9cae-9dee3d492bdc",
   "metadata": {},
   "outputs": [
    {
     "data": {
      "text/plain": [
       "5"
      ]
     },
     "execution_count": 19,
     "metadata": {},
     "output_type": "execute_result"
    }
   ],
   "source": [
    "5 or 12"
   ]
  },
  {
   "cell_type": "code",
   "execution_count": 17,
   "id": "0f3d29f3-08b9-45aa-9ef4-99923fbd9be2",
   "metadata": {},
   "outputs": [
    {
     "data": {
      "text/plain": [
       "5"
      ]
     },
     "execution_count": 17,
     "metadata": {},
     "output_type": "execute_result"
    }
   ],
   "source": [
    "5 or 3"
   ]
  },
  {
   "cell_type": "code",
   "execution_count": 21,
   "id": "a7b7a54c-5a27-4fec-a29f-80b6a9707cdd",
   "metadata": {},
   "outputs": [
    {
     "data": {
      "text/plain": [
       "3"
      ]
     },
     "execution_count": 21,
     "metadata": {},
     "output_type": "execute_result"
    }
   ],
   "source": [
    "4 and 3"
   ]
  },
  {
   "cell_type": "code",
   "execution_count": 23,
   "id": "2a88461c-5db0-4eab-9030-48e4f6ff84c5",
   "metadata": {},
   "outputs": [
    {
     "data": {
      "text/plain": [
       "5"
      ]
     },
     "execution_count": 23,
     "metadata": {},
     "output_type": "execute_result"
    }
   ],
   "source": [
    "4 and 5"
   ]
  },
  {
   "cell_type": "code",
   "execution_count": 25,
   "id": "d17ffbb4-8f9b-434a-9255-fe137baf8ecf",
   "metadata": {},
   "outputs": [
    {
     "data": {
      "text/plain": [
       "(5, 5)"
      ]
     },
     "execution_count": 25,
     "metadata": {},
     "output_type": "execute_result"
    }
   ],
   "source": [
    "5 or 3 , 3 and 5"
   ]
  },
  {
   "cell_type": "code",
   "execution_count": 27,
   "id": "176b1e24-6a69-4fa8-aff4-955717fc543b",
   "metadata": {},
   "outputs": [
    {
     "data": {
      "text/plain": [
       "5"
      ]
     },
     "execution_count": 27,
     "metadata": {},
     "output_type": "execute_result"
    }
   ],
   "source": [
    " 5 or 3 or 2 or 1"
   ]
  },
  {
   "cell_type": "code",
   "execution_count": null,
   "id": "769ccbf8-1581-4570-b06b-342514a5e854",
   "metadata": {},
   "outputs": [],
   "source": []
  }
 ],
 "metadata": {
  "kernelspec": {
   "display_name": "Python 3 (ipykernel)",
   "language": "python",
   "name": "python3"
  },
  "language_info": {
   "codemirror_mode": {
    "name": "ipython",
    "version": 3
   },
   "file_extension": ".py",
   "mimetype": "text/x-python",
   "name": "python",
   "nbconvert_exporter": "python",
   "pygments_lexer": "ipython3",
   "version": "3.12.4"
  }
 },
 "nbformat": 4,
 "nbformat_minor": 5
}
