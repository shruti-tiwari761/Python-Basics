{
 "cells": [
  {
   "cell_type": "markdown",
   "id": "f0f42278-50f6-4815-850e-aabb39d1dd71",
   "metadata": {},
   "source": [
    "Syntax of Static varaible\n",
    "class ABC:\n",
    "    a=c\n",
    "we can directly access the static variable "
   ]
  },
  {
   "cell_type": "code",
   "execution_count": 2,
   "id": "2acd9e05-7fa9-42e7-b942-38939bc76a27",
   "metadata": {},
   "outputs": [
    {
     "name": "stdout",
     "output_type": "stream",
     "text": [
      "{'k': 3}\n",
      "4\n"
     ]
    }
   ],
   "source": [
    "class test:\n",
    "    a=10#static variable outside class\n",
    "    def __init__(self,x,y):\n",
    "        self.k=x#instance variable\n",
    "        test.b=y#static variable inside class\n",
    "obj1=test(3,4)\n",
    "print(obj1.__dict__)\n",
    "print(test.b)"
   ]
  },
  {
   "cell_type": "code",
   "execution_count": 4,
   "id": "659dfa87-cf65-462e-b139-7e90e78a3e3c",
   "metadata": {},
   "outputs": [
    {
     "ename": "AttributeError",
     "evalue": "type object 'test' has no attribute 'f2'",
     "output_type": "error",
     "traceback": [
      "\u001b[1;31m---------------------------------------------------------------------------\u001b[0m",
      "\u001b[1;31mAttributeError\u001b[0m                            Traceback (most recent call last)",
      "Cell \u001b[1;32mIn[4], line 16\u001b[0m\n\u001b[0;32m     14\u001b[0m test\u001b[38;5;241m.\u001b[39mg\u001b[38;5;241m=\u001b[39m\u001b[38;5;241m400\u001b[39m\n\u001b[0;32m     15\u001b[0m t1\u001b[38;5;241m=\u001b[39mtest(\u001b[38;5;241m10\u001b[39m,\u001b[38;5;241m20\u001b[39m)\n\u001b[1;32m---> 16\u001b[0m test\u001b[38;5;241m.\u001b[39mf2(\u001b[38;5;241m30\u001b[39m,\u001b[38;5;241m30\u001b[39m)\n\u001b[0;32m     17\u001b[0m test\u001b[38;5;241m.\u001b[39mf3()\n\u001b[0;32m     18\u001b[0m \u001b[38;5;28mprint\u001b[39m(t1\u001b[38;5;241m.\u001b[39m\u001b[38;5;18m__dict__\u001b[39m)\n",
      "\u001b[1;31mAttributeError\u001b[0m: type object 'test' has no attribute 'f2'"
     ]
    }
   ],
   "source": [
    "class test:\n",
    "    a=10\n",
    "    def __init__(self,k,y):\n",
    "        self.x=k\n",
    "        test.b=y\n",
    "        @staticmethod\n",
    "        def f2(m,n):\n",
    "            test.d=m\n",
    "            test.b=n\n",
    "        @classmethod\n",
    "        def f3(cls):\n",
    "            cls.e=100\n",
    "            test.f=200\n",
    "test.g=400\n",
    "t1=test(10,20)\n",
    "test.f2(30,30)\n",
    "test.f3()\n",
    "print(t1.__dict__)\n",
    "print(test.__dict__)"
   ]
  },
  {
   "cell_type": "code",
   "execution_count": null,
   "id": "a7822cc3-2440-4179-aace-db8bbe884c67",
   "metadata": {},
   "outputs": [],
   "source": [
    "Lab 4a)"
   ]
  },
  {
   "cell_type": "code",
   "execution_count": 6,
   "id": "0694b2ea-52cb-4d2c-aa6d-c030fd0db05f",
   "metadata": {},
   "outputs": [
    {
     "name": "stdout",
     "output_type": "stream",
     "text": [
      "Account no.:- 8645321 Balance:- 7000\n",
      "Rate of Interest :- 20\n"
     ]
    }
   ],
   "source": [
    "class Account:\n",
    "    ROI=20\n",
    "    def __init__(self,acc_no,balance):\n",
    "        self.acc_no=acc_no\n",
    "        self.balance=balance\n",
    "        print(\"Account no.:-\",self.acc_no,\"Balance:-\",self.balance)\n",
    "p1=Account(8645321,7000)\n",
    "print(\"Rate of Interest :-\",Account.ROI)"
   ]
  },
  {
   "cell_type": "code",
   "execution_count": 13,
   "id": "37b097bd-2330-4870-9bbd-7aaf8e0bff5b",
   "metadata": {},
   "outputs": [
    {
     "name": "stdout",
     "output_type": "stream",
     "text": [
      "Employee name:  Shruti Employee salary : 70000 Employee id : 101\n",
      "Employee name:  Siya Employee salary : 71000 Employee id : 102\n"
     ]
    }
   ],
   "source": [
    "class Employee:\n",
    "    Employee_id=101\n",
    "    def __init__(self,name,salary):\n",
    "        self.name=name\n",
    "        self.salary=salary\n",
    "    def display(self):\n",
    "        print(\"Employee name: \",self.name,\"Employee salary :\",self.salary,\"Employee id :\",Employee.Employee_id)\n",
    "        Employee.Employee_id+=1\n",
    "E1=Employee(\"Shruti\",70000)\n",
    "E1.display()\n",
    "E2=Employee(\"Siya\",71000)\n",
    "E2.display()"
   ]
  }
 ],
 "metadata": {
  "kernelspec": {
   "display_name": "Python 3 (ipykernel)",
   "language": "python",
   "name": "python3"
  },
  "language_info": {
   "codemirror_mode": {
    "name": "ipython",
    "version": 3
   },
   "file_extension": ".py",
   "mimetype": "text/x-python",
   "name": "python",
   "nbconvert_exporter": "python",
   "pygments_lexer": "ipython3",
   "version": "3.12.4"
  }
 },
 "nbformat": 4,
 "nbformat_minor": 5
}
