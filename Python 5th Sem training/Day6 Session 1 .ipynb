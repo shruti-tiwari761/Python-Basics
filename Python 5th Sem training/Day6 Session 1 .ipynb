{
 "cells": [
  {
   "cell_type": "code",
   "execution_count": 1,
   "id": "6ebaef78-7630-48e2-9500-469a459fd8d8",
   "metadata": {},
   "outputs": [
    {
     "name": "stdout",
     "output_type": "stream",
     "text": [
      "1+2\n"
     ]
    }
   ],
   "source": [
    "print(\"1+2\")"
   ]
  },
  {
   "cell_type": "code",
   "execution_count": 3,
   "id": "20984901-ebbb-4e21-b74a-11c0a0c49ae6",
   "metadata": {},
   "outputs": [
    {
     "name": "stdout",
     "output_type": "stream",
     "text": [
      "4\n"
     ]
    }
   ],
   "source": [
    "print(eval(\"1+3\"))"
   ]
  },
  {
   "cell_type": "code",
   "execution_count": 5,
   "id": "b8f1fd01-4d83-4248-b4d5-f0793fb1597d",
   "metadata": {},
   "outputs": [
    {
     "name": "stdout",
     "output_type": "stream",
     "text": [
      "15\n"
     ]
    }
   ],
   "source": [
    "print(eval(\"sum([1,3,5,6])\"))"
   ]
  },
  {
   "cell_type": "code",
   "execution_count": 9,
   "id": "063a5dff-6812-4ca4-b694-81772b3e4bb1",
   "metadata": {},
   "outputs": [
    {
     "name": "stdin",
     "output_type": "stream",
     "text": [
      "Enter a no. 23\n"
     ]
    },
    {
     "name": "stdout",
     "output_type": "stream",
     "text": [
      "23\n"
     ]
    }
   ],
   "source": [
    "a=input(\"Enter a no.\")\n",
    "print(a)"
   ]
  },
  {
   "cell_type": "code",
   "execution_count": 11,
   "id": "3132dddf-d581-45f3-a960-e234bf9c98c6",
   "metadata": {},
   "outputs": [
    {
     "name": "stdin",
     "output_type": "stream",
     "text": [
      "Enter a Number : 34\n"
     ]
    },
    {
     "name": "stdout",
     "output_type": "stream",
     "text": [
      "34\n"
     ]
    }
   ],
   "source": [
    "a=int(input(\"Enter a Number :\"))\n",
    "print(a)"
   ]
  },
  {
   "cell_type": "code",
   "execution_count": 17,
   "id": "e5ebf6d2-32f1-4515-9532-625eda729b0d",
   "metadata": {},
   "outputs": [
    {
     "name": "stdin",
     "output_type": "stream",
     "text": [
      "Enter 3 Strings:  Siya Shruti Sitvat\n"
     ]
    },
    {
     "name": "stdout",
     "output_type": "stream",
     "text": [
      "Siya Shruti Sitvat\n"
     ]
    }
   ],
   "source": [
    "a,b,c=input(\"Enter 3 Strings: \").split()\n",
    "print(a,b,c)"
   ]
  },
  {
   "cell_type": "code",
   "execution_count": 33,
   "id": "f1baefa3-4810-4515-bc71-b904ff4ea381",
   "metadata": {},
   "outputs": [
    {
     "name": "stdout",
     "output_type": "stream",
     "text": [
      "range(0, 3)\n",
      "<class 'range'>\n",
      "0 1 2 \n",
      "\n",
      "0\n",
      "1\n",
      "2\n"
     ]
    }
   ],
   "source": [
    "x=range(3)\n",
    "print(x)\n",
    "print(type(x))\n",
    "for i in x:\n",
    "    print(i,end=\" \")\n",
    "print(\"\\n\")\n",
    "for i in range(0,3):\n",
    "    print(i)"
   ]
  },
  {
   "cell_type": "markdown",
   "id": "15ca72db-8270-43b1-b4c9-78edfaf64243",
   "metadata": {},
   "source": [
    "WAP to create a list of 10 integers values by taking input from users"
   ]
  },
  {
   "cell_type": "code",
   "execution_count": 48,
   "id": "8045ec4d-0892-456f-8b74-aa897337a130",
   "metadata": {},
   "outputs": [
    {
     "name": "stdin",
     "output_type": "stream",
     "text": [
      " 34\n",
      " 45\n",
      " 23\n",
      " 12\n",
      " 445\n",
      " 334\n",
      " 454\n",
      " 23\n",
      " 45\n",
      " 232\n"
     ]
    },
    {
     "name": "stdout",
     "output_type": "stream",
     "text": [
      "[34, 45, 23, 12, 445, 334, 454, 23, 45, 232]\n"
     ]
    }
   ],
   "source": [
    "l=[]\n",
    "for i in range(10):\n",
    "    a=int(input())\n",
    "    l.append(a)\n",
    "print(l)"
   ]
  },
  {
   "cell_type": "code",
   "execution_count": 50,
   "id": "248743c6-87b5-40df-965d-3be245df8496",
   "metadata": {},
   "outputs": [
    {
     "name": "stdin",
     "output_type": "stream",
     "text": [
      " 3\n",
      " 5\n",
      " 6\n",
      " 7\n",
      " 7\n",
      " 5\n",
      " 4\n",
      " 43\n",
      " 3\n",
      " 3\n"
     ]
    },
    {
     "name": "stdout",
     "output_type": "stream",
     "text": [
      "[3, 5, 6, 7, 7, 5, 4, 43, 3, 3]\n"
     ]
    }
   ],
   "source": [
    "l=[]\n",
    "for i in range(10):\n",
    "    l.append(int(input()))\n",
    "print(l)"
   ]
  },
  {
   "cell_type": "code",
   "execution_count": 56,
   "id": "86597888-5493-43f7-9515-7b4a14fd7cf3",
   "metadata": {},
   "outputs": [
    {
     "name": "stdin",
     "output_type": "stream",
     "text": [
      "Enter a expression: x+x*2\n",
      " 3\n"
     ]
    },
    {
     "name": "stdout",
     "output_type": "stream",
     "text": [
      "9\n"
     ]
    }
   ],
   "source": [
    "expression=input(\"Enter a expression:\")\n",
    "x=int(input())\n",
    "print(eval(expression))"
   ]
  },
  {
   "cell_type": "markdown",
   "id": "6c8ab72d-f9c1-4ef7-bc64-2384f83056ab",
   "metadata": {},
   "source": [
    "WAP using if-else to find out whether a entered no. is even or odd"
   ]
  },
  {
   "cell_type": "code",
   "execution_count": 64,
   "id": "d2f7febd-e1d7-42cf-92f4-6073f6512266",
   "metadata": {},
   "outputs": [
    {
     "name": "stdin",
     "output_type": "stream",
     "text": [
      "Enter a Number  2\n"
     ]
    },
    {
     "name": "stdout",
     "output_type": "stream",
     "text": [
      "Even\n"
     ]
    }
   ],
   "source": [
    "a=int(input(\"Enter a Number \"))\n",
    "if a%2==0:\n",
    "    print(\"Even\")\n",
    "elif a==0:\n",
    "    print(\"Zero\")\n",
    "else:\n",
    "    print(\"Odd\")"
   ]
  },
  {
   "cell_type": "code",
   "execution_count": 66,
   "id": "ec9c134c-e9c1-40fc-a1be-3f325408500c",
   "metadata": {},
   "outputs": [
    {
     "name": "stdin",
     "output_type": "stream",
     "text": [
      "Enter a Number  2\n"
     ]
    },
    {
     "name": "stdout",
     "output_type": "stream",
     "text": [
      "Even\n"
     ]
    }
   ],
   "source": [
    "a=int(input(\"Enter a Number \"))\n",
    "if (a%2==0):\n",
    "    print(\"Even\")\n",
    "elif (a==0):\n",
    "    print(\"Zero\")\n",
    "else:\n",
    "    print(\"Odd\")"
   ]
  },
  {
   "cell_type": "markdown",
   "id": "0c49f2ad-b5b0-49ba-af6e-67aa709682df",
   "metadata": {},
   "source": [
    "WAP to take 10 inputs from users and create a list of only even no."
   ]
  },
  {
   "cell_type": "code",
   "execution_count": 70,
   "id": "fd837f63-8222-403c-b8e5-ba27bcf162f3",
   "metadata": {},
   "outputs": [
    {
     "name": "stdin",
     "output_type": "stream",
     "text": [
      " 2\n",
      " 3\n",
      " 2\n",
      " 3\n",
      " 4\n",
      " 5\n",
      " 6\n",
      " 7\n",
      " 8\n",
      " 2\n"
     ]
    },
    {
     "name": "stdout",
     "output_type": "stream",
     "text": [
      "[2, 2, 4, 6, 8, 2]\n"
     ]
    }
   ],
   "source": [
    "l=[]\n",
    "for i in range(10):\n",
    "    a=int(input())\n",
    "    if(a%2==0):\n",
    "        l.append(a)\n",
    "print(l)"
   ]
  },
  {
   "cell_type": "code",
   "execution_count": 88,
   "id": "103dda1b-11a3-4642-a6c2-469cb1e83d84",
   "metadata": {},
   "outputs": [
    {
     "name": "stdin",
     "output_type": "stream",
     "text": [
      " 3\n",
      " 2\n",
      " 45\n",
      " 1\n",
      " 34\n",
      " 56\n",
      " 212\n",
      " 44\n",
      " 12\n",
      " 45\n"
     ]
    },
    {
     "name": "stdout",
     "output_type": "stream",
     "text": [
      "[2, 34, 56, 212, 44, 12]\n",
      "[3, 45, 1, 45]\n",
      "[2, 34, 56, 212, 44, 12, 3, 45, 1, 45]\n",
      "[212, 56, 45, 45, 44, 34, 12, 3, 2, 1]\n"
     ]
    }
   ],
   "source": [
    "l=[]\n",
    "l1=[]\n",
    "for i in range(10):\n",
    "    a=int(input())\n",
    "    if(a%2==0):\n",
    "        l.append(a)\n",
    "    else:\n",
    "        l1.append(a)\n",
    "print(l)\n",
    "print(l1)\n",
    "l.extend(l1)\n",
    "print(l)\n",
    "l.sort(reverse=True)\n",
    "print(l)"
   ]
  },
  {
   "cell_type": "markdown",
   "id": "09a97a8e-7b8e-4db9-9725-c42032ca150d",
   "metadata": {},
   "source": [
    "WAP to find out the grade of a student ,if the grade assigned is 90 and 80"
   ]
  },
  {
   "cell_type": "code",
   "execution_count": 62,
   "id": "caa75fc2-c3df-4b5a-881d-02ae73d19d51",
   "metadata": {},
   "outputs": [
    {
     "name": "stdin",
     "output_type": "stream",
     "text": [
      "Enter a Grade 45\n"
     ]
    },
    {
     "name": "stdout",
     "output_type": "stream",
     "text": [
      "C Grade\n"
     ]
    },
    {
     "data": {
      "text/plain": [
       "'elif(a<=60):\\n    print(\"C Grade\")\\nelse:\\n    print(\"D Grade\")'"
      ]
     },
     "execution_count": 62,
     "metadata": {},
     "output_type": "execute_result"
    }
   ],
   "source": [
    "name=input(\"Enter a Name of Student\")\n",
    "m1=int(input(\"Enter a marks 1\"))    \n",
    "a=int(input(\"Enter a Grade\"))\n",
    "if(a>=80 and a<=90):print(\"A Grade\")\n",
    "elif(a>60 and a<=79):\n",
    "    print(\"B Grade\")\n",
    "print(\"C Grade\")if (a<=60 and a>=45)else print(\"D Grade\")\n",
    "\"\"\"elif(a<=60):\n",
    "    print(\"C Grade\")\n",
    "else:\n",
    "    print(\"D Grade\")\"\"\""
   ]
  },
  {
   "cell_type": "code",
   "execution_count": 22,
   "id": "afa41975-1125-4e4c-bd4d-bd7bfec4b8f3",
   "metadata": {},
   "outputs": [
    {
     "name": "stdin",
     "output_type": "stream",
     "text": [
      "Enter a Name of student 50\n",
      "Enter a Grade 50\n"
     ]
    }
   ],
   "source": [
    "name=input(\"Enter a Name of student\")\n",
    "a=int(input(\"Enter a Grade\"))\n",
    "if(a>80):print(\"A Grade\")\n",
    "elif(a<=79):\n",
    "    if(a>60):\n",
    "        print(\"B\")\n",
    "elif(a<=59):\n",
    "    if(a>50):\n",
    "        print(\"C Grade\")\n",
    "elif(a<=45):\n",
    "    if(a>33):\n",
    "        print(\"D Grade\")\n",
    "else:\n",
    "    print(\"E Grade\")"
   ]
  },
  {
   "cell_type": "code",
   "execution_count": null,
   "id": "08dd5a3d-3ffb-499b-ac57-e56d02e35737",
   "metadata": {},
   "outputs": [],
   "source": [
    "grade = int(input(\"Enter your grade: \"))\n",
    "#print(\"A\" if 80 <= grade < 90 else \"B\" if 60 <= grade < 80 else \"C\" if 40 <= grade < 60 else \"D\")"
   ]
  },
  {
   "cell_type": "code",
   "execution_count": 94,
   "id": "5a0d587a-30e3-4ffc-bb78-800c350565c2",
   "metadata": {},
   "outputs": [
    {
     "name": "stdin",
     "output_type": "stream",
     "text": [
      " 56\n"
     ]
    },
    {
     "name": "stdout",
     "output_type": "stream",
     "text": [
      "D\n"
     ]
    }
   ],
   "source": [
    "grade=int(input())\n",
    "#if range(80,90):print(\"A\")\n",
    "print(\"A\") if  grade in range(80,90) else  print(\"B\") if grade in range(70,80) else print(\"C\") if grade in range(60,40) else print(\"D\")"
   ]
  },
  {
   "cell_type": "code",
   "execution_count": 74,
   "id": "b5a55d23-565c-4a28-a2ee-38520a3afa3d",
   "metadata": {},
   "outputs": [
    {
     "name": "stdin",
     "output_type": "stream",
     "text": [
      " 56\n"
     ]
    },
    {
     "name": "stdout",
     "output_type": "stream",
     "text": [
      "C\n"
     ]
    }
   ],
   "source": [
    "grade=int(input())\n",
    "if grade in range(80,90):print(\"A\")\n",
    "elif grade in range(60,80):print(\"B\")\n",
    "elif grade in range(40,60):print(\"C\")\n",
    "else:print(\"D\")"
   ]
  },
  {
   "cell_type": "code",
   "execution_count": 88,
   "id": "041af592-bfe7-44f3-bebb-ce145c7ff401",
   "metadata": {},
   "outputs": [
    {
     "name": "stdin",
     "output_type": "stream",
     "text": [
      " 56\n"
     ]
    },
    {
     "name": "stdout",
     "output_type": "stream",
     "text": [
      "C\n"
     ]
    }
   ],
   "source": [
    "grade=int(input())\n",
    "print(\"A\" if 80 <= grade >= 90 else \"B\" if 60 <= grade < 80 else \"C\" if 40 <= grade < 60 else \"D\")"
   ]
  },
  {
   "cell_type": "code",
   "execution_count": 92,
   "id": "cb6569d9-3f6d-4c06-804e-0fe5fbdc7e5f",
   "metadata": {},
   "outputs": [
    {
     "name": "stdin",
     "output_type": "stream",
     "text": [
      " 67\n"
     ]
    },
    {
     "name": "stdout",
     "output_type": "stream",
     "text": [
      "B\n"
     ]
    }
   ],
   "source": [
    "grade=int(input())\n",
    "print(\"A\" if grade in range(80,90) else \"B\" if grade in range(60,80) else\"C\" if grade in range(40,60) else \"D\")"
   ]
  },
  {
   "cell_type": "code",
   "execution_count": 5,
   "id": "a854a0a9-3613-4167-9327-51c3382e2b39",
   "metadata": {},
   "outputs": [
    {
     "name": "stdin",
     "output_type": "stream",
     "text": [
      "Enter a number 1\n",
      "Enter a number 23\n"
     ]
    },
    {
     "name": "stdout",
     "output_type": "stream",
     "text": [
      "Random No. Generated is 9\n"
     ]
    },
    {
     "name": "stdin",
     "output_type": "stream",
     "text": [
      " 3\n",
      " 1\n",
      " 2\n",
      " 23\n",
      " 34\n",
      " 22\n",
      " 21\n",
      " 23\n",
      " 2\n",
      " 3\n"
     ]
    },
    {
     "name": "stdout",
     "output_type": "stream",
     "text": [
      "List of Elements in Range  [3, 1, 2, 23, 22, 21, 23, 2, 3]\n",
      "Retuens True if Value is present and False if value is not present : False\n"
     ]
    }
   ],
   "source": [
    "import random\n",
    "start=int(input(\"Enter a number\"))\n",
    "end=int(input(\"Enter a number\"))\n",
    "x=random.randint(start,end)\n",
    "print(\"Random No. Generated is\",x)\n",
    "l=[]\n",
    "for i in range(10):\n",
    "    a=int(input())\n",
    "    if(a>=start and a<=end):l.append(a)\n",
    "print(\"List of Elements in Range \",l)\n",
    "print(\"Retuens True if Value is present and False if value is not present :\",x in l)"
   ]
  },
  {
   "cell_type": "code",
   "execution_count": 17,
   "id": "52b478b0-8bac-4cdf-8c3e-099cf4f65223",
   "metadata": {},
   "outputs": [
    {
     "name": "stdin",
     "output_type": "stream",
     "text": [
      "Enter a number 34\n",
      "Enter a number 67\n"
     ]
    },
    {
     "name": "stdout",
     "output_type": "stream",
     "text": [
      "Random No. Generated is 49\n"
     ]
    },
    {
     "name": "stdin",
     "output_type": "stream",
     "text": [
      " 23\n",
      " 45\n",
      " 49\n",
      " 12\n",
      " 45\n",
      " 67\n",
      " 89\n",
      " 34\n",
      " 23\n",
      " 67\n"
     ]
    },
    {
     "name": "stdout",
     "output_type": "stream",
     "text": [
      "True\n",
      "[23, 45, 49, 12, 45, 67, 89, 34, 23, 67]\n"
     ]
    }
   ],
   "source": [
    "import random\n",
    "start=int(input(\"Enter a number\"))\n",
    "end=int(input(\"Enter a number\"))\n",
    "x=random.randint(start,end)\n",
    "print(\"Random No. Generated is\",x)\n",
    "l=[]\n",
    "for i in range(10):\n",
    "    a=int(input())\n",
    "    l.append(a)\n",
    "print(\"True\") if(a>=start and a<=end and x in l) else print(\"False\")"
   ]
  },
  {
   "cell_type": "code",
   "execution_count": 33,
   "id": "7d159bfd-3576-4915-8b49-f80a4a326e96",
   "metadata": {},
   "outputs": [
    {
     "name": "stdin",
     "output_type": "stream",
     "text": [
      "Enter a number 4\n",
      "Enter a number 23\n"
     ]
    },
    {
     "name": "stdout",
     "output_type": "stream",
     "text": [
      "Random No. Generated is 17\n",
      "False\n",
      "[20, 12, 21, 9, 17, 23, 7, 11, 19, 21]\n"
     ]
    }
   ],
   "source": [
    "import random\n",
    "start=int(input(\"Enter a number\"))\n",
    "end=int(input(\"Enter a number\"))\n",
    "a=random.randint(start,end)\n",
    "print(\"Random No. Generated is\",x)\n",
    "l=[]\n",
    "for i in range(10):\n",
    "   x=random.randint(start,end)\n",
    "   l.append(x)\n",
    "print(\"True\") if(a in l) else print(\"False\")\n",
    "print(l)"
   ]
  },
  {
   "cell_type": "code",
   "execution_count": 39,
   "id": "4976aefc-2599-4965-9460-463d04748336",
   "metadata": {},
   "outputs": [
    {
     "name": "stdin",
     "output_type": "stream",
     "text": [
      "Enter a number 1\n",
      "Enter a number 45\n"
     ]
    },
    {
     "name": "stdout",
     "output_type": "stream",
     "text": [
      "Random No. Generated is 21\n",
      "True\n",
      "[25, 24, 27, 31, 44, 11, 5, 37, 21, 26]\n"
     ]
    }
   ],
   "source": [
    "import random\n",
    "start=int(input(\"Enter a number\"))\n",
    "end=int(input(\"Enter a number\"))\n",
    "a=random.randint(start,end)\n",
    "print(\"Random No. Generated is\",x)\n",
    "l=[]\n",
    "for i in range(10):\n",
    "   l.append(random.randint(start,end))\n",
    "print(\"True\") if(a in l) else print(\"False\")\n",
    "print(l)"
   ]
  },
  {
   "cell_type": "code",
   "execution_count": 43,
   "id": "da6b2fb6-5423-4348-b076-f971c2d2b7a1",
   "metadata": {},
   "outputs": [
    {
     "name": "stdin",
     "output_type": "stream",
     "text": [
      " 123\n"
     ]
    }
   ],
   "source": [
    "dic={\"one\":\"1\",\"two\":\"2\",\"three\":\"3\"}\n",
    "x=input()\n",
    "y=list(x)\n",
    "for i in y:\n",
    "    if i in dic:\n",
    "        print(dic[i],end=\" \")\n",
    "    "
   ]
  }
 ],
 "metadata": {
  "kernelspec": {
   "display_name": "Python 3 (ipykernel)",
   "language": "python",
   "name": "python3"
  },
  "language_info": {
   "codemirror_mode": {
    "name": "ipython",
    "version": 3
   },
   "file_extension": ".py",
   "mimetype": "text/x-python",
   "name": "python",
   "nbconvert_exporter": "python",
   "pygments_lexer": "ipython3",
   "version": "3.12.4"
  }
 },
 "nbformat": 4,
 "nbformat_minor": 5
}
