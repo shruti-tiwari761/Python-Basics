{
 "cells": [
  {
   "cell_type": "markdown",
   "id": "b00b0273-3a16-4aec-9b72-a914f42f6976",
   "metadata": {},
   "source": [
    "Day:4 Set"
   ]
  },
  {
   "cell_type": "code",
   "execution_count": 11,
   "id": "53e9b916-623f-4d8c-82e9-030d324ee0ce",
   "metadata": {},
   "outputs": [
    {
     "name": "stdout",
     "output_type": "stream",
     "text": [
      "<class 'set'>\n"
     ]
    }
   ],
   "source": [
    "#Empty Set\n",
    "l={()}\n",
    "print(type(l))"
   ]
  },
  {
   "cell_type": "code",
   "execution_count": 13,
   "id": "8afdeebd-4edc-41b7-b7d0-3b538164e00a",
   "metadata": {},
   "outputs": [
    {
     "name": "stdout",
     "output_type": "stream",
     "text": [
      "<class 'set'>\n"
     ]
    }
   ],
   "source": [
    "l={1}\n",
    "print(type(l))"
   ]
  },
  {
   "cell_type": "code",
   "execution_count": 15,
   "id": "1d7f0911-f3c0-4ffc-8314-9a4c5dbc32a1",
   "metadata": {},
   "outputs": [
    {
     "name": "stdout",
     "output_type": "stream",
     "text": [
      "True\n"
     ]
    }
   ],
   "source": [
    "l=[1,2,3,34,5]\n",
    "print(1 in l)"
   ]
  },
  {
   "cell_type": "code",
   "execution_count": 71,
   "id": "787955df-9b71-4f75-8d57-7b51e0bc0bc9",
   "metadata": {},
   "outputs": [
    {
     "name": "stdout",
     "output_type": "stream",
     "text": [
      "Watermelon\n",
      "Straberry\n",
      "Mango\n",
      "{'Watermelon', 'Straberry', 'Mango'}\n"
     ]
    }
   ],
   "source": [
    "set={\"Mango\",\"Watermelon\",\"Straberry\"}\n",
    "for x in set:\n",
    "    print(x)\n",
    "print(set)"
   ]
  },
  {
   "cell_type": "code",
   "execution_count": 83,
   "id": "01ac32e0-01b8-4a71-9ae8-68db53ddf564",
   "metadata": {},
   "outputs": [
    {
     "name": "stdout",
     "output_type": "stream",
     "text": [
      "{'Watermelon', 'Apple', 'Straberry', 'Mango'}\n"
     ]
    }
   ],
   "source": [
    "set={\"Mango\",\"Watermelon\",\"Straberry\"}\n",
    "set.add(\"Apple\")\n",
    "print(set)"
   ]
  },
  {
   "cell_type": "code",
   "execution_count": 87,
   "id": "eacaa497-3a34-4f4b-9c25-49120e09eb4b",
   "metadata": {},
   "outputs": [
    {
     "name": "stdout",
     "output_type": "stream",
     "text": [
      "{'Watermelon', 'Straberry'}\n"
     ]
    }
   ],
   "source": [
    "set={\"Mango\",\"Watermelon\",\"Straberry\"}\n",
    "set.remove(\"Mango\")\n",
    "print(set)"
   ]
  },
  {
   "cell_type": "markdown",
   "id": "72e92f43-d5d5-400a-89ce-ae333a9079c1",
   "metadata": {},
   "source": [
    "Union"
   ]
  },
  {
   "cell_type": "code",
   "execution_count": 89,
   "id": "a7f2e50a-e586-437d-8bbf-9c1ebd779eb2",
   "metadata": {},
   "outputs": [
    {
     "name": "stdout",
     "output_type": "stream",
     "text": [
      "{'a', 1, 2, 3, 'c', 'b'}\n"
     ]
    }
   ],
   "source": [
    "#method 1\n",
    "x={1,2,3}\n",
    "y={\"a\",\"b\",\"c\"}\n",
    "z=x.union(y)\n",
    "print(z)"
   ]
  },
  {
   "cell_type": "code",
   "execution_count": 91,
   "id": "8b347f9f-9240-4947-a68e-3736cc93e2d2",
   "metadata": {},
   "outputs": [
    {
     "name": "stdout",
     "output_type": "stream",
     "text": [
      "{'a', 1, 2, 3, 'c', 'b'}\n"
     ]
    }
   ],
   "source": [
    "#method 2\n",
    "x={1,2,3}\n",
    "y={\"a\",\"b\",\"c\"}\n",
    "z=x|y\n",
    "print(z)"
   ]
  },
  {
   "cell_type": "markdown",
   "id": "5dd1aefc-0195-423f-bdca-c952a4ce5bcb",
   "metadata": {},
   "source": [
    "Intersection &"
   ]
  },
  {
   "cell_type": "code",
   "execution_count": 95,
   "id": "c78a2c81-c3d6-4b51-baca-9fe727e5e0b0",
   "metadata": {},
   "outputs": [
    {
     "name": "stdout",
     "output_type": "stream",
     "text": [
      "{1}\n"
     ]
    }
   ],
   "source": [
    "#method 1\n",
    "x={1,2,3}\n",
    "y={\"a\",\"b\",\"c\",1}\n",
    "z=x.intersection(y)\n",
    "print(z)"
   ]
  },
  {
   "cell_type": "code",
   "execution_count": null,
   "id": "b65a722e-2d66-4478-b32c-eb3c1ba0688e",
   "metadata": {},
   "outputs": [],
   "source": [
    "Differnce"
   ]
  },
  {
   "cell_type": "code",
   "execution_count": 137,
   "id": "3a99da55-c3af-482f-986a-9e51329d2cba",
   "metadata": {},
   "outputs": [
    {
     "name": "stdout",
     "output_type": "stream",
     "text": [
      "{3, 4}\n"
     ]
    }
   ],
   "source": [
    "#method 1\n",
    "x={1,2,3,4}\n",
    "y={1,90,45,2}\n",
    "z=x.difference(y)\n",
    "print(z)"
   ]
  },
  {
   "cell_type": "code",
   "execution_count": null,
   "id": "c387fb95-5347-40b8-803d-add7dcd119d5",
   "metadata": {},
   "outputs": [],
   "source": [
    "Symmertic"
   ]
  },
  {
   "cell_type": "code",
   "execution_count": 111,
   "id": "9f6797f7-af2c-43c5-8f4e-4ee3a7222622",
   "metadata": {},
   "outputs": [
    {
     "name": "stdout",
     "output_type": "stream",
     "text": [
      "{9}\n"
     ]
    }
   ],
   "source": [
    "x={1,2,3,4,5,6,7,8}\n",
    "y={1,2,3,4,5,6,7,8,9}\n",
    "z=x.symmetric_difference(y)\n",
    "print(z)"
   ]
  },
  {
   "cell_type": "markdown",
   "id": "ce134584-eb90-4726-9dec-8b5b767e5439",
   "metadata": {},
   "source": [
    "Update"
   ]
  },
  {
   "cell_type": "code",
   "execution_count": 115,
   "id": "52dceedb-a6be-480b-8554-5973cb914cbc",
   "metadata": {},
   "outputs": [
    {
     "name": "stdout",
     "output_type": "stream",
     "text": [
      "{'a', 1, 2, 3, 'c', 'b'}\n"
     ]
    }
   ],
   "source": [
    "y={\"a\",\"b\",\"c\"}\n",
    "x={1,2,3}\n",
    "y.update(x)\n",
    "print(y)"
   ]
  },
  {
   "cell_type": "markdown",
   "id": "5ca3a04a-b1f4-4545-9237-cbbeb65b36ce",
   "metadata": {},
   "source": [
    "Copy"
   ]
  },
  {
   "cell_type": "code",
   "execution_count": 135,
   "id": "867f07e8-85e6-4d5e-ab10-9d6b645284d9",
   "metadata": {},
   "outputs": [
    {
     "name": "stdout",
     "output_type": "stream",
     "text": [
      "{1, 2, 3, 4}\n"
     ]
    }
   ],
   "source": [
    "set1={1,2,3,4}\n",
    "set1.copy()\n",
    "print(set1)"
   ]
  },
  {
   "cell_type": "markdown",
   "id": "f6148b89-4ae8-4d11-b0e6-a82d65bdd401",
   "metadata": {},
   "source": [
    "Clear"
   ]
  },
  {
   "cell_type": "code",
   "execution_count": 139,
   "id": "cc7e09e3-320d-4658-a94e-3c02af91724f",
   "metadata": {},
   "outputs": [
    {
     "name": "stdout",
     "output_type": "stream",
     "text": [
      "set()\n"
     ]
    }
   ],
   "source": [
    "set1={1,2,3,4}\n",
    "set1.clear()\n",
    "print(set1)"
   ]
  },
  {
   "cell_type": "markdown",
   "id": "fd997fd5-6cab-4c75-bdc8-403850294b58",
   "metadata": {},
   "source": [
    "Discard"
   ]
  },
  {
   "cell_type": "code",
   "execution_count": 143,
   "id": "1a07b222-093f-4f30-bd3f-0bc8d3882b3b",
   "metadata": {},
   "outputs": [
    {
     "name": "stdout",
     "output_type": "stream",
     "text": [
      "{1, 3, 4}\n"
     ]
    }
   ],
   "source": [
    "set1={1,2,3,4}\n",
    "set1.discard(2)\n",
    "print(set1)"
   ]
  },
  {
   "cell_type": "markdown",
   "id": "35209a6e-6efe-49aa-adc4-c24c44ee6596",
   "metadata": {},
   "source": [
    "Pop"
   ]
  },
  {
   "cell_type": "code",
   "execution_count": 147,
   "id": "02203c61-b670-42a8-853f-3a8313c77042",
   "metadata": {},
   "outputs": [
    {
     "name": "stdout",
     "output_type": "stream",
     "text": [
      "{2, 3, 4}\n"
     ]
    }
   ],
   "source": [
    "set1={1,2,3,4}\n",
    "set1.pop()\n",
    "print(set1)"
   ]
  },
  {
   "cell_type": "code",
   "execution_count": null,
   "id": "ecaf53b5-3720-4008-937d-92e1d600a7d2",
   "metadata": {},
   "outputs": [],
   "source": [
    "Remove"
   ]
  },
  {
   "cell_type": "code",
   "execution_count": 149,
   "id": "915e0921-35b6-4e0b-ac2a-fdd97706eff4",
   "metadata": {},
   "outputs": [
    {
     "name": "stdout",
     "output_type": "stream",
     "text": [
      "{1, 3, 4}\n"
     ]
    }
   ],
   "source": [
    "set1={1,2,3,4}\n",
    "set1.remove(2)\n",
    "print(set1)"
   ]
  },
  {
   "cell_type": "code",
   "execution_count": 161,
   "id": "08fcca6f-f9b6-480f-a851-2efce2086fb0",
   "metadata": {},
   "outputs": [
    {
     "ename": "TypeError",
     "evalue": "'set' object is not callable",
     "output_type": "error",
     "traceback": [
      "\u001b[1;31m---------------------------------------------------------------------------\u001b[0m",
      "\u001b[1;31mTypeError\u001b[0m                                 Traceback (most recent call last)",
      "Cell \u001b[1;32mIn[161], line 3\u001b[0m\n\u001b[0;32m      1\u001b[0m l1\u001b[38;5;241m=\u001b[39m[\u001b[38;5;241m1\u001b[39m,\u001b[38;5;241m2\u001b[39m,\u001b[38;5;241m3\u001b[39m,\u001b[38;5;241m4\u001b[39m,\u001b[38;5;241m6\u001b[39m]\n\u001b[0;32m      2\u001b[0m l2\u001b[38;5;241m=\u001b[39m[\u001b[38;5;241m1\u001b[39m,\u001b[38;5;241m2\u001b[39m,\u001b[38;5;241m3\u001b[39m,\u001b[38;5;241m4\u001b[39m,\u001b[38;5;241m45\u001b[39m]\n\u001b[1;32m----> 3\u001b[0m s3\u001b[38;5;241m=\u001b[39m\u001b[38;5;28mset\u001b[39m(l1)\u001b[38;5;241m.\u001b[39mintersection(\u001b[38;5;28mset\u001b[39m(l2))\n\u001b[0;32m      4\u001b[0m \u001b[38;5;28mprint\u001b[39m(s3)\n",
      "\u001b[1;31mTypeError\u001b[0m: 'set' object is not callable"
     ]
    }
   ],
   "source": [
    "l1=[1,2,3,4,6]\n",
    "l2=[1,2,3,4,45]\n",
    "s3=set(l1).intersection(set(l2))\n",
    "print(s3)"
   ]
  },
  {
   "cell_type": "code",
   "execution_count": 163,
   "id": "367e676d-433f-411c-a192-0f66f81a92a5",
   "metadata": {},
   "outputs": [
    {
     "ename": "TypeError",
     "evalue": "'set' object is not callable",
     "output_type": "error",
     "traceback": [
      "\u001b[1;31m---------------------------------------------------------------------------\u001b[0m",
      "\u001b[1;31mTypeError\u001b[0m                                 Traceback (most recent call last)",
      "Cell \u001b[1;32mIn[163], line 3\u001b[0m\n\u001b[0;32m      1\u001b[0m l1\u001b[38;5;241m=\u001b[39m[\u001b[38;5;241m1\u001b[39m,\u001b[38;5;241m2\u001b[39m,\u001b[38;5;241m3\u001b[39m,\u001b[38;5;241m4\u001b[39m,\u001b[38;5;241m6\u001b[39m]\n\u001b[0;32m      2\u001b[0m l2\u001b[38;5;241m=\u001b[39m[\u001b[38;5;241m1\u001b[39m,\u001b[38;5;241m2\u001b[39m,\u001b[38;5;241m3\u001b[39m,\u001b[38;5;241m4\u001b[39m,\u001b[38;5;241m45\u001b[39m]\n\u001b[1;32m----> 3\u001b[0m s3\u001b[38;5;241m=\u001b[39m\u001b[38;5;28mset\u001b[39m(l1)\u001b[38;5;241m.\u001b[39mupdate(\u001b[38;5;28mset\u001b[39m(l2))\n\u001b[0;32m      4\u001b[0m \u001b[38;5;28mprint\u001b[39m(s3)\n",
      "\u001b[1;31mTypeError\u001b[0m: 'set' object is not callable"
     ]
    }
   ],
   "source": [
    "l1=[1,2,3,4,6]\n",
    "l2=[1,2,3,4,45]\n",
    "s3=set(l1).update(set(l2))\n",
    "print(s3)"
   ]
  }
 ],
 "metadata": {
  "kernelspec": {
   "display_name": "Python 3 (ipykernel)",
   "language": "python",
   "name": "python3"
  },
  "language_info": {
   "codemirror_mode": {
    "name": "ipython",
    "version": 3
   },
   "file_extension": ".py",
   "mimetype": "text/x-python",
   "name": "python",
   "nbconvert_exporter": "python",
   "pygments_lexer": "ipython3",
   "version": "3.12.4"
  }
 },
 "nbformat": 4,
 "nbformat_minor": 5
}
