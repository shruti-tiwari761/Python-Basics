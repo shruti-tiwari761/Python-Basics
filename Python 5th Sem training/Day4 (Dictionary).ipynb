{
 "cells": [
  {
   "cell_type": "markdown",
   "id": "6e6df2c1-4a04-47f6-adc5-abb1dceeab27",
   "metadata": {},
   "source": [
    "Day:4 Dictionary"
   ]
  },
  {
   "cell_type": "code",
   "execution_count": 5,
   "id": "38671e63-c36d-4b54-ab2d-054eddacba66",
   "metadata": {},
   "outputs": [
    {
     "name": "stdout",
     "output_type": "stream",
     "text": [
      "{'Key': 'value', '1': 3}\n",
      "<class 'dict'>\n"
     ]
    }
   ],
   "source": [
    "x={\"Key\":\"value\",\"1\":3}\n",
    "print(x)\n",
    "print(type(x))"
   ]
  },
  {
   "cell_type": "code",
   "execution_count": 5,
   "id": "745fe7eb-599d-4c8d-9ec0-a1e76a5320fc",
   "metadata": {},
   "outputs": [
    {
     "name": "stdout",
     "output_type": "stream",
     "text": [
      "{'Sec': -2}\n"
     ]
    }
   ],
   "source": [
    "x={\"Sec\":1-3}\n",
    "print(x)"
   ]
  },
  {
   "cell_type": "markdown",
   "id": "087e047e-aa38-47a5-963c-81de914b3429",
   "metadata": {},
   "source": [
    "Accessing Keys and Values"
   ]
  },
  {
   "cell_type": "code",
   "execution_count": 25,
   "id": "94424a10-fd98-463c-b264-1492ef99895a",
   "metadata": {},
   "outputs": [
    {
     "name": "stdout",
     "output_type": "stream",
     "text": [
      "Mango\n",
      "Potato\n",
      "dict_values(['Mango', 'Potato'])\n",
      "dict_keys(['Fruit', 'Vegitable'])\n",
      "{'Fruit': 'Mango', 'Vegitable': 'Potato', 'Year': 3000}\n"
     ]
    }
   ],
   "source": [
    "dict={\"Fruit\":\"Mango\",\"Vegitable\":\"Potato\"}\n",
    "print(dict[\"Fruit\"])\n",
    "print(dict.get(\"Vegitable\"))\n",
    "print(dict.values())\n",
    "print(dict.keys())\n",
    "#Update\n",
    "dict.update({\"Year\":3000})\n",
    "print(dict)"
   ]
  },
  {
   "cell_type": "markdown",
   "id": "bf3d5fb5-6ce5-4a73-affc-85020f62d67b",
   "metadata": {},
   "source": [
    "Adding New Element"
   ]
  },
  {
   "cell_type": "code",
   "execution_count": 31,
   "id": "070150a8-be6c-4f95-842d-ed4630b76168",
   "metadata": {},
   "outputs": [
    {
     "name": "stdout",
     "output_type": "stream",
     "text": [
      "{'Fruit': 'Banana', 'Vegitable': 'Potato'}\n",
      "{'Fruit': 'Banana', 'Vegitable': 'Potato'}\n",
      "{'Fruit': ['Banana'], 'Vegitable': 'Potato'}\n"
     ]
    }
   ],
   "source": [
    "dict={\"Fruit\":\"Mango\",\"Vegitable\":\"Potato\"}\n",
    "dict[\"Fruit\"]=\"Banana\"\n",
    "print(dict)\n",
    "dict[\"Fruit\"]=(\"Banana\")\n",
    "print(dict)\n",
    "dict[\"Fruit\"]=[\"Banana\"]\n",
    "print(dict)"
   ]
  },
  {
   "cell_type": "markdown",
   "id": "4eac5d66-0fc8-4d30-ab27-b29545dcacdf",
   "metadata": {},
   "source": [
    "Method:"
   ]
  },
  {
   "cell_type": "code",
   "execution_count": null,
   "id": "d71922c1-d3f7-45f0-8e70-85f6facd4331",
   "metadata": {},
   "outputs": [],
   "source": [
    "clear method"
   ]
  },
  {
   "cell_type": "code",
   "execution_count": 43,
   "id": "dcd0cf0c-25ea-4601-ad2c-28304deb15c0",
   "metadata": {},
   "outputs": [
    {
     "name": "stdout",
     "output_type": "stream",
     "text": [
      "{}\n"
     ]
    }
   ],
   "source": [
    "dict={\"Fruit\":\"Mango\",\"Vegitable\":\"Potato\"}\n",
    "dict.clear()\n",
    "print(dict)"
   ]
  },
  {
   "cell_type": "code",
   "execution_count": null,
   "id": "d21ee56c-634f-4290-a85a-5d63d0bbc50f",
   "metadata": {},
   "outputs": [],
   "source": [
    "copy"
   ]
  },
  {
   "cell_type": "code",
   "execution_count": 69,
   "id": "b19e1601-a9a4-47d2-8282-8e51601f09b6",
   "metadata": {},
   "outputs": [
    {
     "name": "stdout",
     "output_type": "stream",
     "text": [
      "{'Fruit': ['Mango,He'], 'Vegitable': 'Potato'}\n",
      "['Mango,He']\n"
     ]
    }
   ],
   "source": [
    "dict={\"Fruit\":[\"Mango,He\"],\"Vegitable\":\"Potato\"}\n",
    "x=dict.copy()\n",
    "print(x)\n",
    "print(dict.get(\"Fruit\"))"
   ]
  },
  {
   "cell_type": "code",
   "execution_count": null,
   "id": "84546692-c2e8-4414-81cd-e48c5d38a830",
   "metadata": {},
   "outputs": [],
   "source": [
    "pop"
   ]
  },
  {
   "cell_type": "code",
   "execution_count": 65,
   "id": "800e0883-7fae-4961-9ce4-3b373ad5ef31",
   "metadata": {},
   "outputs": [
    {
     "name": "stdout",
     "output_type": "stream",
     "text": [
      "{'Vegitable': 'Potato'}\n"
     ]
    }
   ],
   "source": [
    "dict={\"Fruit\":\"Mango\",\"Vegitable\":\"Potato\"}\n",
    "dict.pop(\"Fruit\")\n",
    "print(dict)"
   ]
  },
  {
   "cell_type": "markdown",
   "id": "fc2f8f18-0349-4199-b5c2-a17c279c1443",
   "metadata": {},
   "source": [
    "Nested Dictionary"
   ]
  },
  {
   "cell_type": "code",
   "execution_count": 2,
   "id": "98abf4aa-64b6-4a2f-9437-61ab8291534b",
   "metadata": {},
   "outputs": [
    {
     "name": "stdout",
     "output_type": "stream",
     "text": [
      "{'sec1': {'Male': 23, 'Female': 21}, 'sec2': {'Male': 23, 'Female': 56}}\n",
      "dict_keys(['sec1', 'sec2'])\n",
      "dict_values([{'Male': 23, 'Female': 21}, {'Male': 23, 'Female': 56}])\n",
      "{'Male': 23, 'Female': 21}\n",
      "23\n",
      "23\n"
     ]
    }
   ],
   "source": [
    "dict={\"sec1\":{\"Male\":23,\"Female\":21},\"sec2\":{\"Male\":23,\"Female\":56}}\n",
    "print(dict)\n",
    "print(dict.keys())\n",
    "print(dict.values())\n",
    "print(dict.get(\"sec1\"))\n",
    "print(dict[\"sec1\"][\"Male\"])\n",
    "print(dict.get(\"sec1\").get(\"Male\"))"
   ]
  },
  {
   "cell_type": "code",
   "execution_count": 6,
   "id": "d4bb44cf-ce34-4e28-bd89-09bceff7dd2a",
   "metadata": {},
   "outputs": [
    {
     "name": "stdout",
     "output_type": "stream",
     "text": [
      "{'sec1': {'Male': {'Count': 23}, 'Female': 21}, 'sec2': {'Male': 23, 'Female': 56}}\n",
      "dict_keys(['sec1', 'sec2'])\n",
      "dict_values([{'Male': {'Count': 23}, 'Female': 21}, {'Male': 23, 'Female': 56}])\n",
      "{'Male': {'Count': 23}, 'Female': 21}\n",
      "23\n"
     ]
    }
   ],
   "source": [
    "dict={\"sec1\":{\"Male\":{\"Count\":23},\"Female\":21},\"sec2\":{\"Male\":23,\"Female\":56}}\n",
    "print(dict)\n",
    "print(dict.keys())\n",
    "print(dict.values())\n",
    "print(dict.get(\"sec1\"))\n",
    "print(dict[\"sec1\"][\"Male\"][\"Count\"])"
   ]
  },
  {
   "cell_type": "code",
   "execution_count": 109,
   "id": "500834eb-683c-4b41-bbd6-2f8414ee3a1f",
   "metadata": {},
   "outputs": [
    {
     "name": "stdout",
     "output_type": "stream",
     "text": [
      "[['Anita', 'Amit', 'Suresh'], [1, 2], 3, 'Rahul']\n"
     ]
    }
   ],
   "source": [
    "l=[[\"Anita\",\"Amit\"],[1,2,\"Sita\"],3,\"Rahul\"]\n",
    "l1=l[0]\n",
    "l1.append(\"Suresh\")\n",
    "l2=l[1]\n",
    "l2.remove(\"Sita\")\n",
    "print(l)"
   ]
  },
  {
   "cell_type": "code",
   "execution_count": 1,
   "id": "36618896-fd32-418d-be73-78956b53a12e",
   "metadata": {},
   "outputs": [
    {
     "name": "stdout",
     "output_type": "stream",
     "text": [
      "1 one\n",
      "2 two\n"
     ]
    }
   ],
   "source": [
    "dic={\"1\":\"one\",\"2\":\"two\"}\n",
    "for keys in dic:\n",
    "    print(keys,dic[keys])"
   ]
  },
  {
   "cell_type": "code",
   "execution_count": 13,
   "id": "9679dcd6-b395-4c71-b2f6-e47ea0c196bf",
   "metadata": {},
   "outputs": [
    {
     "name": "stdout",
     "output_type": "stream",
     "text": [
      "{1: ('i', 'is'), 2: 'Am'}\n"
     ]
    }
   ],
   "source": [
    "dic={1:\"i\",2:\"Am\"}\n",
    "dic[1]=(\"i\",\"is\")\n",
    "print(dic)"
   ]
  },
  {
   "cell_type": "code",
   "execution_count": 33,
   "id": "191fb246-4dae-422f-a796-1867a1ada86f",
   "metadata": {},
   "outputs": [
    {
     "name": "stdin",
     "output_type": "stream",
     "text": [
      "Enter a string  i,am,is\n"
     ]
    },
    {
     "name": "stdout",
     "output_type": "stream",
     "text": [
      "{1: ['i'], 2: ['am', 'is']}\n"
     ]
    }
   ],
   "source": [
    "a=input(\"Enter a string \").split(',')\n",
    "x=[(len(i),i) for i in a]\n",
    "dic={}\n",
    "for length,ele in x:\n",
    "    if length not in dic:\n",
    "        dic[length]=[]\n",
    "        dic[length].append(ele)\n",
    "    else: dic[length].append(ele)\n",
    "print(dic)"
   ]
  }
 ],
 "metadata": {
  "kernelspec": {
   "display_name": "Python 3 (ipykernel)",
   "language": "python",
   "name": "python3"
  },
  "language_info": {
   "codemirror_mode": {
    "name": "ipython",
    "version": 3
   },
   "file_extension": ".py",
   "mimetype": "text/x-python",
   "name": "python",
   "nbconvert_exporter": "python",
   "pygments_lexer": "ipython3",
   "version": "3.12.4"
  }
 },
 "nbformat": 4,
 "nbformat_minor": 5
}
