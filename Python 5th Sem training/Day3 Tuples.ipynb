{
 "cells": [
  {
   "cell_type": "code",
   "execution_count": null,
   "id": "90b543f4-e5b9-4d0a-b608-6a45da18d296",
   "metadata": {},
   "outputs": [],
   "source": [
    "Day 3:Tuple"
   ]
  },
  {
   "cell_type": "code",
   "execution_count": 13,
   "id": "e993fc84-9c9f-4467-8ca9-c305323a41eb",
   "metadata": {},
   "outputs": [
    {
     "name": "stdout",
     "output_type": "stream",
     "text": [
      "<class 'list'>\n"
     ]
    }
   ],
   "source": [
    "list=[1]\n",
    "print(type(list))"
   ]
  },
  {
   "cell_type": "code",
   "execution_count": 21,
   "id": "7ce3acc2-21ba-48ed-8faf-13260aa44e98",
   "metadata": {},
   "outputs": [
    {
     "name": "stdout",
     "output_type": "stream",
     "text": [
      "<class 'tuple'>\n"
     ]
    }
   ],
   "source": [
    "tuple=(1,)\n",
    "print(type(tuple))"
   ]
  },
  {
   "cell_type": "markdown",
   "id": "31e72273-e492-4432-906e-1349496c75c5",
   "metadata": {},
   "source": [
    "for creating  tuple with single element must add comma at last"
   ]
  },
  {
   "cell_type": "code",
   "execution_count": 25,
   "id": "991f1990-238e-4474-9638-478cddf46b3f",
   "metadata": {},
   "outputs": [
    {
     "name": "stdout",
     "output_type": "stream",
     "text": [
      "1\n"
     ]
    }
   ],
   "source": [
    "tuple=(1,2,3,4,5)\n",
    "print(tuple[0])"
   ]
  },
  {
   "cell_type": "code",
   "execution_count": 37,
   "id": "f41a60bb-32ba-4f46-a9d8-19ac50c5ec87",
   "metadata": {},
   "outputs": [
    {
     "name": "stdout",
     "output_type": "stream",
     "text": [
      "<class 'tuple'>\n",
      "<class 'int'>\n"
     ]
    }
   ],
   "source": [
    "L=()\n",
    "print(type(L))\n",
    "L=(1)\n",
    "print(type(L))"
   ]
  },
  {
   "cell_type": "code",
   "execution_count": 33,
   "id": "928049b6-d9cd-44f1-8027-a0ff2f82a66c",
   "metadata": {},
   "outputs": [
    {
     "ename": "TypeError",
     "evalue": "'tuple' object is not callable",
     "output_type": "error",
     "traceback": [
      "\u001b[1;31m---------------------------------------------------------------------------\u001b[0m",
      "\u001b[1;31mTypeError\u001b[0m                                 Traceback (most recent call last)",
      "Cell \u001b[1;32mIn[33], line 1\u001b[0m\n\u001b[1;32m----> 1\u001b[0m L\u001b[38;5;241m=\u001b[39m\u001b[38;5;28mtuple\u001b[39m()\n\u001b[0;32m      2\u001b[0m \u001b[38;5;28mprint\u001b[39m(\u001b[38;5;28mtype\u001b[39m(L))\n",
      "\u001b[1;31mTypeError\u001b[0m: 'tuple' object is not callable"
     ]
    }
   ],
   "source": [
    "L=tuple()\n",
    "print(type(L))"
   ]
  },
  {
   "cell_type": "code",
   "execution_count": 47,
   "id": "2fd5929b-5b1a-4f5e-be8d-2b47258c1938",
   "metadata": {},
   "outputs": [
    {
     "name": "stdout",
     "output_type": "stream",
     "text": [
      "<class 'str'>\n"
     ]
    },
    {
     "ename": "TypeError",
     "evalue": "'tuple' object is not callable",
     "output_type": "error",
     "traceback": [
      "\u001b[1;31m---------------------------------------------------------------------------\u001b[0m",
      "\u001b[1;31mTypeError\u001b[0m                                 Traceback (most recent call last)",
      "Cell \u001b[1;32mIn[47], line 3\u001b[0m\n\u001b[0;32m      1\u001b[0m l\u001b[38;5;241m=\u001b[39m\u001b[38;5;124m\"\u001b[39m\u001b[38;5;124mpython\u001b[39m\u001b[38;5;124m\"\u001b[39m\n\u001b[0;32m      2\u001b[0m \u001b[38;5;28mprint\u001b[39m(\u001b[38;5;28mtype\u001b[39m(l))\n\u001b[1;32m----> 3\u001b[0m \u001b[38;5;28mprint\u001b[39m(\u001b[38;5;28mtuple\u001b[39m(\u001b[38;5;28mtype\u001b[39m(l)))\n",
      "\u001b[1;31mTypeError\u001b[0m: 'tuple' object is not callable"
     ]
    }
   ],
   "source": [
    "l=\"python\"\n",
    "print(type(l))\n",
    "print(tuple(type(l)))"
   ]
  },
  {
   "cell_type": "code",
   "execution_count": 51,
   "id": "cb791f23-ffc1-4bdc-9578-421900201304",
   "metadata": {},
   "outputs": [
    {
     "name": "stdout",
     "output_type": "stream",
     "text": [
      "[1, 2, 3]\n"
     ]
    },
    {
     "ename": "TypeError",
     "evalue": "'list' object is not callable",
     "output_type": "error",
     "traceback": [
      "\u001b[1;31m---------------------------------------------------------------------------\u001b[0m",
      "\u001b[1;31mTypeError\u001b[0m                                 Traceback (most recent call last)",
      "Cell \u001b[1;32mIn[51], line 3\u001b[0m\n\u001b[0;32m      1\u001b[0m x\u001b[38;5;241m=\u001b[39m[\u001b[38;5;241m1\u001b[39m,\u001b[38;5;241m2\u001b[39m,\u001b[38;5;241m3\u001b[39m]\n\u001b[0;32m      2\u001b[0m \u001b[38;5;28mprint\u001b[39m(x)\n\u001b[1;32m----> 3\u001b[0m y\u001b[38;5;241m=\u001b[39m\u001b[38;5;28mlist\u001b[39m(x)\n\u001b[0;32m      4\u001b[0m y[\u001b[38;5;241m0\u001b[39m]\u001b[38;5;241m=\u001b[39m\u001b[38;5;241m4\u001b[39m\n\u001b[0;32m      5\u001b[0m \u001b[38;5;28mprint\u001b[39m(y)\n",
      "\u001b[1;31mTypeError\u001b[0m: 'list' object is not callable"
     ]
    }
   ],
   "source": [
    "x=[1,2,3]\n",
    "print(x)\n",
    "y=list(x)\n",
    "y[0]=4\n",
    "print(y)\n",
    "x=tuple(y)\n",
    "print(x)"
   ]
  }
 ],
 "metadata": {
  "kernelspec": {
   "display_name": "Python 3 (ipykernel)",
   "language": "python",
   "name": "python3"
  },
  "language_info": {
   "codemirror_mode": {
    "name": "ipython",
    "version": 3
   },
   "file_extension": ".py",
   "mimetype": "text/x-python",
   "name": "python",
   "nbconvert_exporter": "python",
   "pygments_lexer": "ipython3",
   "version": "3.12.4"
  }
 },
 "nbformat": 4,
 "nbformat_minor": 5
}
