{
 "cells": [
  {
   "cell_type": "code",
   "execution_count": 3,
   "id": "57ecbfbb-a623-4f78-b76a-ff0c1bd8e437",
   "metadata": {},
   "outputs": [
    {
     "name": "stdout",
     "output_type": "stream",
     "text": [
      "12.34%\n"
     ]
    }
   ],
   "source": [
    "x=0.1234\n",
    "print(f\"{x:.2%}\")"
   ]
  },
  {
   "cell_type": "code",
   "execution_count": 5,
   "id": "b0cbd8f3-0198-443c-a378-0680c768301f",
   "metadata": {},
   "outputs": [
    {
     "name": "stdout",
     "output_type": "stream",
     "text": [
      "123,456,789.00\n"
     ]
    }
   ],
   "source": [
    "x=123456789\n",
    "print(f\"{x:,.2f}\")"
   ]
  },
  {
   "cell_type": "markdown",
   "id": "883645d9-b0fc-47fd-bffc-98af379a7b36",
   "metadata": {},
   "source": [
    "Random Function"
   ]
  },
  {
   "cell_type": "code",
   "execution_count": 26,
   "id": "c4bcb417-ce7f-451c-baba-22f1819aa57d",
   "metadata": {},
   "outputs": [
    {
     "name": "stdout",
     "output_type": "stream",
     "text": [
      "1\n"
     ]
    }
   ],
   "source": [
    "import random\n",
    "x=random.randint(1,10)\n",
    "print(x)"
   ]
  },
  {
   "cell_type": "code",
   "execution_count": 22,
   "id": "f3d0021d-f7e3-4d49-b4b8-f6525fda694e",
   "metadata": {},
   "outputs": [
    {
     "name": "stdout",
     "output_type": "stream",
     "text": [
      "truck\n"
     ]
    }
   ],
   "source": [
    "list=[\"car\",\"bus\",\"truck\"]\n",
    "ch=random.choice(list)\n",
    "print(ch)"
   ]
  },
  {
   "cell_type": "markdown",
   "id": "eb937bb3-fa81-4515-be21-1fbbcb82633f",
   "metadata": {},
   "source": [
    "Create a list of numbers in the range entered by user and find out whether a random no. genered is present in list or no."
   ]
  },
  {
   "cell_type": "code",
   "execution_count": 34,
   "id": "ab65bff9-a7c3-49bf-a2f7-79e31ca69b00",
   "metadata": {},
   "outputs": [
    {
     "name": "stdin",
     "output_type": "stream",
     "text": [
      "Enter a number 1\n",
      "Enter a number 10\n"
     ]
    },
    {
     "name": "stdout",
     "output_type": "stream",
     "text": [
      "2\n"
     ]
    },
    {
     "name": "stdin",
     "output_type": "stream",
     "text": [
      " 0\n",
      " 1\n",
      " 2\n",
      " 34\n",
      " 3\n",
      " 5\n",
      " 6\n",
      " 7\n",
      " 8\n",
      " 9\n"
     ]
    },
    {
     "name": "stdout",
     "output_type": "stream",
     "text": [
      "[1, 2, 3, 5, 6, 7, 8, 9]\n",
      "True\n"
     ]
    }
   ],
   "source": [
    "start=int(input(\"Enter a number\"))\n",
    "end=int(input(\"Enter a number\"))\n",
    "x=random.randint(start,end)\n",
    "print(\"Random No. Generated is\",x)\n",
    "l=[]\n",
    "for i in range(10):\n",
    "    a=int(input())\n",
    "    if(a>=start and a<=end):l.append(a)\n",
    "print(\"List of Elements in Range \",l)\n",
    "print(\"Retuens True if Value is present and False if value is not present :\",x in l)\n"
   ]
  },
  {
   "cell_type": "code",
   "execution_count": null,
   "id": "8bdaa3a7-b9e8-4ce7-a7e1-7163fd8749e9",
   "metadata": {},
   "outputs": [],
   "source": [
    "Switch Case"
   ]
  },
  {
   "cell_type": "code",
   "execution_count": 48,
   "id": "ccf6b8b1-6836-476e-bc50-23cce9828e9f",
   "metadata": {},
   "outputs": [
    {
     "name": "stdout",
     "output_type": "stream",
     "text": [
      " 1 \n"
     ]
    }
   ],
   "source": [
    "ch=1\n",
    "match ch:\n",
    "    case 1:\n",
    "        print(\" 1 \")\n",
    "    case 2:\n",
    "        print(\" 2 \")"
   ]
  },
  {
   "cell_type": "code",
   "execution_count": 60,
   "id": "59fab8fc-9a1e-48ee-a8b1-7e195f4baab4",
   "metadata": {},
   "outputs": [
    {
     "name": "stdin",
     "output_type": "stream",
     "text": [
      " Hii\n"
     ]
    },
    {
     "name": "stdout",
     "output_type": "stream",
     "text": [
      " 2 \n"
     ]
    }
   ],
   "source": [
    "ch=input()\n",
    "match ch:\n",
    "    case \"Name\"|\"Branch\":\n",
    "        print(\"1\")\n",
    "    case \"Hello\"|\"Hii\":\n",
    "        print(\" 2 \")"
   ]
  },
  {
   "cell_type": "code",
   "execution_count": 58,
   "id": "b8cdf874-95d8-439f-ab29-3f17239d6742",
   "metadata": {},
   "outputs": [
    {
     "name": "stdout",
     "output_type": "stream",
     "text": [
      " 1 \n"
     ]
    }
   ],
   "source": [
    "ch=\"a\"\n",
    "match ch:\n",
    "    case \"a\":\n",
    "        print(\" 1 \")\n",
    "    case \"b\":\n",
    "        print(\" 2 \")"
   ]
  },
  {
   "cell_type": "code",
   "execution_count": 76,
   "id": "b53b86e7-69fe-4602-8ebd-019eda4291b9",
   "metadata": {},
   "outputs": [
    {
     "ename": "TypeError",
     "evalue": "'str' object cannot be interpreted as an integer",
     "output_type": "error",
     "traceback": [
      "\u001b[1;31m---------------------------------------------------------------------------\u001b[0m",
      "\u001b[1;31mTypeError\u001b[0m                                 Traceback (most recent call last)",
      "Cell \u001b[1;32mIn[76], line 1\u001b[0m\n\u001b[1;32m----> 1\u001b[0m x\u001b[38;5;241m=\u001b[39m\u001b[38;5;28mrange\u001b[39m(ascii(\u001b[38;5;241m65\u001b[39m),ascii(\u001b[38;5;241m78\u001b[39m))\n\u001b[0;32m      2\u001b[0m \u001b[38;5;28mprint\u001b[39m(x)\n",
      "\u001b[1;31mTypeError\u001b[0m: 'str' object cannot be interpreted as an integer"
     ]
    }
   ],
   "source": [
    "x=range(ascii(65),ascii(78))\n",
    "print(x)\n"
   ]
  },
  {
   "cell_type": "code",
   "execution_count": 74,
   "id": "30295f6c-dc04-41c0-8a47-c008e4d5ca01",
   "metadata": {},
   "outputs": [
    {
     "name": "stdout",
     "output_type": "stream",
     "text": [
      "65\n"
     ]
    }
   ],
   "source": [
    "y=str(ascii(65))\n",
    "print(y)"
   ]
  },
  {
   "cell_type": "markdown",
   "id": "31544d61-89f3-4261-8212-3ee65274de2a",
   "metadata": {},
   "source": [
    "WAP using nested for loop to print the table of 1 to 5 "
   ]
  },
  {
   "cell_type": "code",
   "execution_count": 128,
   "id": "3ab6ba81-a4a1-49ed-abb1-0b5719d8ff23",
   "metadata": {},
   "outputs": [
    {
     "name": "stdout",
     "output_type": "stream",
     "text": [
      "This is table of 1\n",
      "1 * 1 = 1\n",
      "1 * 2 = 2\n",
      "1 * 3 = 3\n",
      "1 * 4 = 4\n",
      "1 * 5 = 5\n",
      "1 * 6 = 6\n",
      "1 * 7 = 7\n",
      "1 * 8 = 8\n",
      "1 * 9 = 9\n",
      "1 * 10 = 10\n",
      "This is table of 2\n",
      "2 * 1 = 2\n",
      "2 * 2 = 4\n",
      "2 * 3 = 6\n",
      "2 * 4 = 8\n",
      "2 * 5 = 10\n",
      "2 * 6 = 12\n",
      "2 * 7 = 14\n",
      "2 * 8 = 16\n",
      "2 * 9 = 18\n",
      "2 * 10 = 20\n",
      "This is table of 3\n",
      "3 * 1 = 3\n",
      "3 * 2 = 6\n",
      "3 * 3 = 9\n",
      "3 * 4 = 12\n",
      "3 * 5 = 15\n",
      "3 * 6 = 18\n",
      "3 * 7 = 21\n",
      "3 * 8 = 24\n",
      "3 * 9 = 27\n",
      "3 * 10 = 30\n",
      "This is table of 4\n",
      "4 * 1 = 4\n",
      "4 * 2 = 8\n",
      "4 * 3 = 12\n",
      "4 * 4 = 16\n",
      "4 * 5 = 20\n",
      "4 * 6 = 24\n",
      "4 * 7 = 28\n",
      "4 * 8 = 32\n",
      "4 * 9 = 36\n",
      "4 * 10 = 40\n",
      "This is table of 5\n",
      "5 * 1 = 5\n",
      "5 * 2 = 10\n",
      "5 * 3 = 15\n",
      "5 * 4 = 20\n",
      "5 * 5 = 25\n",
      "5 * 6 = 30\n",
      "5 * 7 = 35\n",
      "5 * 8 = 40\n",
      "5 * 9 = 45\n",
      "5 * 10 = 50\n"
     ]
    }
   ],
   "source": [
    "for i in range(1,6):\n",
    "    print(\"This is table of\",i)\n",
    "    for j in range(1,11):\n",
    "        print(i,\"*\",j,\"=\",i*j)"
   ]
  },
  {
   "cell_type": "markdown",
   "id": "96f9c55b-86d5-4459-9b7e-09416967d5cc",
   "metadata": {},
   "source": [
    "WAP to to convert 231 to Two Three One by using match "
   ]
  },
  {
   "cell_type": "code",
   "execution_count": 190,
   "id": "fc3cfc6b-a6a0-41b9-8f6e-62c39f19da47",
   "metadata": {},
   "outputs": [
    {
     "name": "stdin",
     "output_type": "stream",
     "text": [
      "Enter a number : 123\n"
     ]
    },
    {
     "name": "stdout",
     "output_type": "stream",
     "text": [
      "\n"
     ]
    }
   ],
   "source": [
    "a=int(input(\"Enter a number :\"))\n",
    "y=3\n",
    "for i in str(a):\n",
    "    rem=rem*10+div%10\n",
    "    temp=temp/10\n",
    "    match temp:\n",
    "        case 1:\n",
    "            result+=\"One \"   \n",
    "        case 2:\n",
    "            result+=\"Two \" \n",
    "        case 3:\n",
    "            result+=\"Three \"\n",
    "print(result)"
   ]
  },
  {
   "cell_type": "code",
   "execution_count": 3,
   "id": "c30a7753-afe9-4d7d-aa91-a5a1ee491cb5",
   "metadata": {},
   "outputs": [
    {
     "name": "stdin",
     "output_type": "stream",
     "text": [
      " 123\n"
     ]
    },
    {
     "name": "stdout",
     "output_type": "stream",
     "text": [
      "one two three "
     ]
    }
   ],
   "source": [
    "dic={\"1\":\"one\",\"2\":\"two\",\"3\":\"three\"}\n",
    "x=input()\n",
    "y=list(x)\n",
    "for i in y:\n",
    "    if i in dic:\n",
    "        print(dic[i],end=' ')"
   ]
  },
  {
   "cell_type": "code",
   "execution_count": 57,
   "id": "78095a81-066e-442f-98ed-398a2b3f36a9",
   "metadata": {},
   "outputs": [
    {
     "name": "stdin",
     "output_type": "stream",
     "text": [
      " 123\n"
     ]
    },
    {
     "name": "stdout",
     "output_type": "stream",
     "text": [
      "one two three "
     ]
    }
   ],
   "source": [
    "dic={\"1\":\"one\",\"2\":\"two\",\"3\":\"three\"}\n",
    "x=input()\n",
    "y=list(x)\n",
    "for i in y:\n",
    "    if i in dic:\n",
    "        print(dic[i],end=' ')"
   ]
  },
  {
   "cell_type": "code",
   "execution_count": 166,
   "id": "be6b8ef8-6495-4e45-8ca7-2fdd7ad5aa92",
   "metadata": {},
   "outputs": [
    {
     "name": "stdin",
     "output_type": "stream",
     "text": [
      " 1\n"
     ]
    },
    {
     "name": "stdout",
     "output_type": "stream",
     "text": [
      "0\n"
     ]
    }
   ],
   "source": [
    "a=input().split()\n",
    "for i in a:\n",
    "    match a:\n",
    "        case \"One\":\n",
    "            result+=\"1 \"   \n",
    "        case 2:\n",
    "            result+=\"Two \" \n",
    "        case 3:\n",
    "            result+=\"Three \"\n",
    "print(result)"
   ]
  },
  {
   "cell_type": "code",
   "execution_count": 192,
   "id": "2acd048f-8357-4978-8ced-6fdb72143c3f",
   "metadata": {},
   "outputs": [
    {
     "name": "stdout",
     "output_type": "stream",
     "text": [
      "4\n",
      "6\n"
     ]
    }
   ],
   "source": [
    "for i in range(4,7,2):\n",
    "    print(i)"
   ]
  },
  {
   "cell_type": "markdown",
   "id": "2874f3ab-6f17-4dd6-a2c8-d5c00b5e1502",
   "metadata": {},
   "source": [
    "Using for with list"
   ]
  },
  {
   "cell_type": "markdown",
   "id": "cb6948aa-bedf-4a66-8ad4-2678eb8ddfb5",
   "metadata": {},
   "source": [
    "WAP to print all the elements of a list using for loop"
   ]
  },
  {
   "cell_type": "code",
   "execution_count": 196,
   "id": "27a4d621-587c-4e9d-ad97-f3abd54ff0e0",
   "metadata": {},
   "outputs": [
    {
     "name": "stdout",
     "output_type": "stream",
     "text": [
      "1\n",
      "2\n",
      "3\n",
      "4\n"
     ]
    }
   ],
   "source": [
    "l=[1,2,3,4]\n",
    "for i in l:\n",
    "    print(i)"
   ]
  },
  {
   "cell_type": "markdown",
   "id": "2b223e2e-f35c-4221-8c16-27232928f2cc",
   "metadata": {},
   "source": [
    "WAP using for loop to print all the items from index to till end"
   ]
  },
  {
   "cell_type": "code",
   "execution_count": 204,
   "id": "34fcef7e-0891-4b11-83dd-ad0ae67151de",
   "metadata": {},
   "outputs": [
    {
     "name": "stdout",
     "output_type": "stream",
     "text": [
      "2\n",
      "3\n",
      "4\n"
     ]
    }
   ],
   "source": [
    "index=2\n",
    "l=[1,2,3,4]\n",
    "for i in range(index,len(l)+1):\n",
    "    print(i)"
   ]
  },
  {
   "cell_type": "code",
   "execution_count": 9,
   "id": "67233b8e-3fd1-4c7a-a020-ebaa1805d832",
   "metadata": {},
   "outputs": [
    {
     "name": "stdin",
     "output_type": "stream",
     "text": [
      " 123\n"
     ]
    }
   ],
   "source": [
    "dic={\"one\":\"1\",\"two\":\"2\",\"three\":\"3\"}\n",
    "x=input().split()\n",
    "y=list(x)\n",
    "for i in y:\n",
    "    if i in dic:\n",
    "        print(dic[i],end='')"
   ]
  },
  {
   "cell_type": "code",
   "execution_count": 21,
   "id": "3c3090fe-9805-45e3-b208-cb85a6411341",
   "metadata": {},
   "outputs": [
    {
     "ename": "KeyboardInterrupt",
     "evalue": "Interrupted by user",
     "output_type": "error",
     "traceback": [
      "\u001b[1;31m---------------------------------------------------------------------------\u001b[0m",
      "\u001b[1;31mKeyboardInterrupt\u001b[0m                         Traceback (most recent call last)",
      "Cell \u001b[1;32mIn[21], line 2\u001b[0m\n\u001b[0;32m      1\u001b[0m dic\u001b[38;5;241m=\u001b[39m{\u001b[38;5;124m\"\u001b[39m\u001b[38;5;124m1\u001b[39m\u001b[38;5;124m\"\u001b[39m:\u001b[38;5;124m\"\u001b[39m\u001b[38;5;124mone\u001b[39m\u001b[38;5;124m\"\u001b[39m,\u001b[38;5;124m\"\u001b[39m\u001b[38;5;124m2\u001b[39m\u001b[38;5;124m\"\u001b[39m:\u001b[38;5;124m\"\u001b[39m\u001b[38;5;124mtwo\u001b[39m\u001b[38;5;124m\"\u001b[39m,\u001b[38;5;124m\"\u001b[39m\u001b[38;5;124m3\u001b[39m\u001b[38;5;124m\"\u001b[39m:\u001b[38;5;124m\"\u001b[39m\u001b[38;5;124mthree\u001b[39m\u001b[38;5;124m\"\u001b[39m}\n\u001b[1;32m----> 2\u001b[0m x\u001b[38;5;241m=\u001b[39m\u001b[38;5;28minput\u001b[39m()\u001b[38;5;241m.\u001b[39msplit()\n\u001b[0;32m      3\u001b[0m \u001b[38;5;28;01mfor\u001b[39;00m i \u001b[38;5;129;01min\u001b[39;00m x:\n\u001b[0;32m      4\u001b[0m     \u001b[38;5;28;01mif\u001b[39;00m i \u001b[38;5;129;01min\u001b[39;00m dic:\n",
      "File \u001b[1;32m~\\anaconda3\\Lib\\site-packages\\ipykernel\\kernelbase.py:1262\u001b[0m, in \u001b[0;36mKernel.raw_input\u001b[1;34m(self, prompt)\u001b[0m\n\u001b[0;32m   1260\u001b[0m     msg \u001b[38;5;241m=\u001b[39m \u001b[38;5;124m\"\u001b[39m\u001b[38;5;124mraw_input was called, but this frontend does not support input requests.\u001b[39m\u001b[38;5;124m\"\u001b[39m\n\u001b[0;32m   1261\u001b[0m     \u001b[38;5;28;01mraise\u001b[39;00m StdinNotImplementedError(msg)\n\u001b[1;32m-> 1262\u001b[0m \u001b[38;5;28;01mreturn\u001b[39;00m \u001b[38;5;28mself\u001b[39m\u001b[38;5;241m.\u001b[39m_input_request(\n\u001b[0;32m   1263\u001b[0m     \u001b[38;5;28mstr\u001b[39m(prompt),\n\u001b[0;32m   1264\u001b[0m     \u001b[38;5;28mself\u001b[39m\u001b[38;5;241m.\u001b[39m_parent_ident[\u001b[38;5;124m\"\u001b[39m\u001b[38;5;124mshell\u001b[39m\u001b[38;5;124m\"\u001b[39m],\n\u001b[0;32m   1265\u001b[0m     \u001b[38;5;28mself\u001b[39m\u001b[38;5;241m.\u001b[39mget_parent(\u001b[38;5;124m\"\u001b[39m\u001b[38;5;124mshell\u001b[39m\u001b[38;5;124m\"\u001b[39m),\n\u001b[0;32m   1266\u001b[0m     password\u001b[38;5;241m=\u001b[39m\u001b[38;5;28;01mFalse\u001b[39;00m,\n\u001b[0;32m   1267\u001b[0m )\n",
      "File \u001b[1;32m~\\anaconda3\\Lib\\site-packages\\ipykernel\\kernelbase.py:1305\u001b[0m, in \u001b[0;36mKernel._input_request\u001b[1;34m(self, prompt, ident, parent, password)\u001b[0m\n\u001b[0;32m   1302\u001b[0m \u001b[38;5;28;01mexcept\u001b[39;00m \u001b[38;5;167;01mKeyboardInterrupt\u001b[39;00m:\n\u001b[0;32m   1303\u001b[0m     \u001b[38;5;66;03m# re-raise KeyboardInterrupt, to truncate traceback\u001b[39;00m\n\u001b[0;32m   1304\u001b[0m     msg \u001b[38;5;241m=\u001b[39m \u001b[38;5;124m\"\u001b[39m\u001b[38;5;124mInterrupted by user\u001b[39m\u001b[38;5;124m\"\u001b[39m\n\u001b[1;32m-> 1305\u001b[0m     \u001b[38;5;28;01mraise\u001b[39;00m \u001b[38;5;167;01mKeyboardInterrupt\u001b[39;00m(msg) \u001b[38;5;28;01mfrom\u001b[39;00m \u001b[38;5;28;01mNone\u001b[39;00m\n\u001b[0;32m   1306\u001b[0m \u001b[38;5;28;01mexcept\u001b[39;00m \u001b[38;5;167;01mException\u001b[39;00m:\n\u001b[0;32m   1307\u001b[0m     \u001b[38;5;28mself\u001b[39m\u001b[38;5;241m.\u001b[39mlog\u001b[38;5;241m.\u001b[39mwarning(\u001b[38;5;124m\"\u001b[39m\u001b[38;5;124mInvalid Message:\u001b[39m\u001b[38;5;124m\"\u001b[39m, exc_info\u001b[38;5;241m=\u001b[39m\u001b[38;5;28;01mTrue\u001b[39;00m)\n",
      "\u001b[1;31mKeyboardInterrupt\u001b[0m: Interrupted by user"
     ]
    }
   ],
   "source": [
    "dic={\"1\":\"one\",\"2\":\"two\",\"3\":\"three\"}\n",
    "x=input()\n",
    "y=list(x)\n",
    "for i in y:\n",
    "    if i in dic:\n",
    "        print(dic[i],end=' ')"
   ]
  },
  {
   "cell_type": "code",
   "execution_count": 55,
   "id": "5094829e-affd-4f20-a855-eec94d82bd28",
   "metadata": {},
   "outputs": [
    {
     "name": "stdin",
     "output_type": "stream",
     "text": [
      " 123\n"
     ]
    }
   ],
   "source": [
    "dic={\"1\":\"one\",\"2\":\"two\",\"3\":\"three\"}\n",
    "x=input()\n",
    "y=list(x)\n",
    "for i in y:\n",
    "    if i in dic:\n",
    "        print(dic[i],end=' ')"
   ]
  },
  {
   "cell_type": "markdown",
   "id": "35d75a32-4d1a-4fe5-bb15-c83779a2effc",
   "metadata": {},
   "source": [
    "WAP to multiply each elments of list by 2"
   ]
  },
  {
   "cell_type": "code",
   "execution_count": 20,
   "id": "778d58b2-edb2-42a9-8418-62970ac09476",
   "metadata": {},
   "outputs": [
    {
     "name": "stdout",
     "output_type": "stream",
     "text": [
      "2 4 6 8 "
     ]
    }
   ],
   "source": [
    "l=[1,2,3,4]\n",
    "for i in l:\n",
    "    l=i*2\n",
    "    print(l,end=' ')"
   ]
  },
  {
   "cell_type": "code",
   "execution_count": 22,
   "id": "4dbb3275-76eb-4851-9b06-74764da56556",
   "metadata": {},
   "outputs": [
    {
     "name": "stdout",
     "output_type": "stream",
     "text": [
      "[2, 4, 6, 8]\n"
     ]
    }
   ],
   "source": [
    "l=[1,2,3,4]\n",
    "number=[x*2 for x in l]\n",
    "print(number)"
   ]
  },
  {
   "cell_type": "markdown",
   "id": "9c561988-f25c-41e2-ae85-a9ca2172572e",
   "metadata": {},
   "source": [
    "WAP to check valid password "
   ]
  },
  {
   "cell_type": "code",
   "execution_count": 54,
   "id": "a6ff8f62-0a9d-40b5-a178-183638edbe88",
   "metadata": {},
   "outputs": [
    {
     "name": "stderr",
     "output_type": "stream",
     "text": [
      "<>:12: SyntaxWarning: invalid decimal literal\n",
      "<>:12: SyntaxWarning: invalid decimal literal\n",
      "C:\\Users\\PC\\AppData\\Local\\Temp\\ipykernel_7728\\1339380652.py:12: SyntaxWarning: invalid decimal literal\n",
      "  print(\"Valid\") if(lower>=1 and digit>=1 and upper>=1 and special>=1and lower+upper+digit+special==len(a)) else print(\"Not valid\")\n"
     ]
    },
    {
     "name": "stdin",
     "output_type": "stream",
     "text": [
      "Enter a password ADC@$123avs\n"
     ]
    },
    {
     "name": "stdout",
     "output_type": "stream",
     "text": [
      "Not valid\n"
     ]
    }
   ],
   "source": [
    "a=input(\"Enter a password\")\n",
    "lower=0\n",
    "upper=0\n",
    "special=0\n",
    "digit=0\n",
    "if(len(a)>=8 and len(a)<=16):\n",
    "  for i in a:\n",
    "      if(a.islower()):lower+=1\n",
    "      if(a.isupper()):upper+=1\n",
    "      if(a.isdigit()):digit+=1\n",
    "      if(a==\"$\" or a==\"&\" or a==\"@\"):special+=1\n",
    "print(\"Valid\") if(lower>=1 and digit>=1 and upper>=1 and special>=1and lower+upper+digit+special==len(a)) else print(\"Not valid\")"
   ]
  },
  {
   "cell_type": "code",
   "execution_count": 58,
   "id": "d66f3f7b-e2ef-4c30-9fa6-1437b2f97df9",
   "metadata": {},
   "outputs": [
    {
     "name": "stderr",
     "output_type": "stream",
     "text": [
      "<>:12: SyntaxWarning: invalid decimal literal\n",
      "<>:12: SyntaxWarning: invalid decimal literal\n",
      "C:\\Users\\PC\\AppData\\Local\\Temp\\ipykernel_7728\\2618543886.py:12: SyntaxWarning: invalid decimal literal\n",
      "  print(\"Valid\")if(lower>=1 and digit>=1 and upper>=1 and special>=1and lower+upper+digit+special==len(a)) else print(\"Not valid\")\n"
     ]
    },
    {
     "name": "stdin",
     "output_type": "stream",
     "text": [
      "Enter a password:  abx@$123A\n"
     ]
    },
    {
     "name": "stdout",
     "output_type": "stream",
     "text": [
      "Valid\n"
     ]
    }
   ],
   "source": [
    "a=input(\"Enter a password: \")\n",
    "lower=0\n",
    "upper=0\n",
    "special=0\n",
    "digit=0\n",
    "if(len(a)>=8 and len(a)<=16):\n",
    "  for i in a:\n",
    "      if(i.islower()):lower+=1\n",
    "      if(i.isupper()):upper+=1\n",
    "      if(i.isdigit()):digit+=1\n",
    "      if(i in [\"$\", \"&\", \"@\"]):special+=1\n",
    "print(\"Valid\")if(lower>=1 and digit>=1 and upper>=1 and special>=1and lower+upper+digit+special==len(a)) else print(\"Not valid\")"
   ]
  },
  {
   "cell_type": "code",
   "execution_count": null,
   "id": "b7b59a8f-04ab-4a1f-889e-ccb0a826b9b2",
   "metadata": {},
   "outputs": [],
   "source": [
    "import turtle\n",
    "t=turtle.Turtle()\n",
    "turtle.bgcolor(\"black\")\n",
    "t.speed(0)\n",
    "colors=[\"red\",\"yellow\",\"blue\",\"green\",\"purple\",\"orange\"]\n",
    "for i in range(300):\n",
    "    t.pencolor(colors[i%6])\n",
    "    t.forward(i*2)\n",
    "    t.right(61)\n",
    "turtle.done()"
   ]
  }
 ],
 "metadata": {
  "kernelspec": {
   "display_name": "Python 3 (ipykernel)",
   "language": "python",
   "name": "python3"
  },
  "language_info": {
   "codemirror_mode": {
    "name": "ipython",
    "version": 3
   },
   "file_extension": ".py",
   "mimetype": "text/x-python",
   "name": "python",
   "nbconvert_exporter": "python",
   "pygments_lexer": "ipython3",
   "version": "3.12.4"
  }
 },
 "nbformat": 4,
 "nbformat_minor": 5
}
