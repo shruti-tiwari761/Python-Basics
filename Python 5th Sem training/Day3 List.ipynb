{
 "cells": [
  {
   "cell_type": "markdown",
   "id": "95fd78af-18b3-4704-aa3c-53284ba4d833",
   "metadata": {},
   "source": [
    "DAY:3"
   ]
  },
  {
   "cell_type": "markdown",
   "id": "228fa488-3c59-4455-9a41-43fec978201b",
   "metadata": {},
   "source": [
    "List"
   ]
  },
  {
   "cell_type": "code",
   "execution_count": 3,
   "id": "99503c88-0489-4941-a401-1971fe132f3a",
   "metadata": {},
   "outputs": [
    {
     "name": "stdout",
     "output_type": "stream",
     "text": [
      "[]\n"
     ]
    }
   ],
   "source": [
    "#Declaraction \n",
    "List=[]\n",
    "print(List)"
   ]
  },
  {
   "cell_type": "code",
   "execution_count": 7,
   "id": "dc6986e0-25e7-4292-aa61-6fdfcc809fa2",
   "metadata": {},
   "outputs": [
    {
     "name": "stdout",
     "output_type": "stream",
     "text": [
      "[1, 2, 3, 4]\n",
      "<class 'list'>\n"
     ]
    }
   ],
   "source": [
    "list1=[1,2,3,4]\n",
    "print(list1)\n",
    "print(type(list1))"
   ]
  },
  {
   "cell_type": "code",
   "execution_count": 9,
   "id": "43d0fb19-fd10-4f03-980a-98c02763ba3c",
   "metadata": {},
   "outputs": [
    {
     "name": "stdout",
     "output_type": "stream",
     "text": [
      "['Siya', 'Sitvat', 'Zoya']\n",
      "<class 'list'>\n"
     ]
    }
   ],
   "source": [
    "friends=[\"Siya\",\"Sitvat\",\"Zoya\"]\n",
    "print(friends)\n",
    "print(type(friends))"
   ]
  },
  {
   "cell_type": "code",
   "execution_count": 11,
   "id": "9fd2eae2-1baa-4291-98c7-3cd84efda880",
   "metadata": {},
   "outputs": [
    {
     "name": "stdout",
     "output_type": "stream",
     "text": [
      "[1, 3, 'Siya', '3']\n"
     ]
    }
   ],
   "source": [
    "mixed=[1,3,\"Siya\",\"3\"]\n",
    "print(mixed)"
   ]
  },
  {
   "cell_type": "markdown",
   "id": "80b47d7f-abe4-44d6-aae3-9e8a0348713f",
   "metadata": {},
   "source": [
    "Accessing Index of list"
   ]
  },
  {
   "cell_type": "code",
   "execution_count": 13,
   "id": "28023d7c-a835-47e1-b6f7-a00eef1ee447",
   "metadata": {},
   "outputs": [
    {
     "name": "stdout",
     "output_type": "stream",
     "text": [
      "1\n",
      "Shruti\n"
     ]
    }
   ],
   "source": [
    "list=[1,\"Shruti\"]\n",
    "print(list[0])\n",
    "print(list[1])"
   ]
  },
  {
   "cell_type": "markdown",
   "id": "e784f19e-7a4e-46ff-b264-285d9bdaa598",
   "metadata": {},
   "source": [
    "Slicing on List"
   ]
  },
  {
   "cell_type": "code",
   "execution_count": 15,
   "id": "18a973b7-58e4-468a-86d0-f44e06123ebc",
   "metadata": {},
   "outputs": [
    {
     "name": "stdout",
     "output_type": "stream",
     "text": [
      "[1, 2, 'Shruti']\n"
     ]
    }
   ],
   "source": [
    "list=[1,2,\"Shruti\"]\n",
    "print(list[0:7])"
   ]
  },
  {
   "cell_type": "markdown",
   "id": "5da3e572-3316-4f46-a7b9-53af08c0e47f",
   "metadata": {},
   "source": [
    "Multidimension List"
   ]
  },
  {
   "cell_type": "code",
   "execution_count": 25,
   "id": "cafcfa32-70cd-4469-ac15-9ab072b4552e",
   "metadata": {},
   "outputs": [
    {
     "name": "stdout",
     "output_type": "stream",
     "text": [
      "[['Sunita', 'Anita', 0], 1, 'siya']\n",
      "<class 'list'>\n",
      "siya\n",
      "0\n",
      "Anita\n"
     ]
    }
   ],
   "source": [
    "list=[[\"Sunita\",\"Anita\",0],1,\"siya\"]\n",
    "print(list)\n",
    "print(type(list))\n",
    "print(list[2])\n",
    "print(list[0][2])\n",
    "print(list[0][1])"
   ]
  },
  {
   "cell_type": "code",
   "execution_count": 50,
   "id": "b5f152c7-784e-48cb-9040-5d988afb142c",
   "metadata": {},
   "outputs": [
    {
     "name": "stdout",
     "output_type": "stream",
     "text": [
      "[[3, 5, 6, 7], 9]\n",
      "6\n",
      "Shruti\n",
      "[]\n"
     ]
    }
   ],
   "source": [
    " multi=[[\"1\",\"Shruti\",2,4,\"Siya\"],[3,5,6,7],8,9,0,\"Sitvat\"]\n",
    "print(multi[1:5:2])\n",
    "print(multi[1][-2])\n",
    "print(multi[0][-4])\n",
    "print(multi[0:2:-1])\n",
    "#print(multi[3:"
   ]
  },
  {
   "cell_type": "markdown",
   "id": "2e23c8c1-5227-412a-b0f6-e246df7e7eb0",
   "metadata": {},
   "source": [
    "When strings are split than the are converted into list"
   ]
  },
  {
   "cell_type": "code",
   "execution_count": 54,
   "id": "d07ed76e-6582-483f-aba9-3316e2a2fa89",
   "metadata": {},
   "outputs": [
    {
     "name": "stdout",
     "output_type": "stream",
     "text": [
      "['HEllo', 'I', 'am', 'Learning', 'Python']\n",
      "<class 'list'>\n",
      "<class 'str'>\n"
     ]
    }
   ],
   "source": [
    "string=\"HEllo I am Learning Python\"\n",
    "x=string.split()\n",
    "print(x)\n",
    "print(type(x))\n",
    "print(type(string))"
   ]
  },
  {
   "cell_type": "code",
   "execution_count": 56,
   "id": "ac0a3247-36e3-43b5-a6cc-6a9c359d16de",
   "metadata": {},
   "outputs": [
    {
     "name": "stdout",
     "output_type": "stream",
     "text": [
      "4\n"
     ]
    }
   ],
   "source": [
    "x=[1,2,3,4]\n",
    "print(len(x))"
   ]
  },
  {
   "cell_type": "markdown",
   "id": "41978d96-3502-48b5-aec6-989843685edc",
   "metadata": {},
   "source": [
    "List Appending"
   ]
  },
  {
   "cell_type": "code",
   "execution_count": 60,
   "id": "ab8c3d83-ebc1-446c-8571-68c365136fdc",
   "metadata": {},
   "outputs": [
    {
     "name": "stdout",
     "output_type": "stream",
     "text": [
      "[]\n",
      "[3, 'Siya']\n"
     ]
    }
   ],
   "source": [
    "list=[]\n",
    "print(list)\n",
    "list.append(3)\n",
    "list.append(\"Siya\")\n",
    "print(list)"
   ]
  },
  {
   "cell_type": "code",
   "execution_count": 78,
   "id": "9b54fcb5-1670-4df0-8a1c-e2b7288bd466",
   "metadata": {},
   "outputs": [
    {
     "name": "stdout",
     "output_type": "stream",
     "text": [
      "[1, 2, 3, 'Name', 'Class']\n",
      "None\n"
     ]
    }
   ],
   "source": [
    "list=[1,2,3]\n",
    "list2=[\"Name\",\"Class\"]\n",
    "print(list+list2)\n",
    "#print(list.append(list2))"
   ]
  },
  {
   "cell_type": "code",
   "execution_count": 76,
   "id": "e8855600-d33e-4c22-9096-67758886ec7e",
   "metadata": {},
   "outputs": [
    {
     "name": "stdout",
     "output_type": "stream",
     "text": [
      "[1, 2, 3, ['Name', 'Class']]\n",
      "None\n"
     ]
    }
   ],
   "source": [
    "list=[1,2,3]\n",
    "list2=[\"Name\",\"Class\"]\n",
    "list.append(list2)\n",
    "print(list)\n",
    "print(list.append(\"siya\"))"
   ]
  },
  {
   "cell_type": "markdown",
   "id": "694fd900-98cf-476a-91ef-88c6f9bf5d00",
   "metadata": {},
   "source": [
    "to find max in a list"
   ]
  },
  {
   "cell_type": "code",
   "execution_count": 90,
   "id": "9d79bcbb-fcb1-4aec-a94e-651bb4ed33f9",
   "metadata": {},
   "outputs": [
    {
     "name": "stdout",
     "output_type": "stream",
     "text": [
      "8\n"
     ]
    }
   ],
   "source": [
    "list=[1,2,3,5,8]\n",
    "print(max(list))"
   ]
  },
  {
   "cell_type": "markdown",
   "id": "8b1b0f13-56f1-48c2-9d46-eeaa51c952cd",
   "metadata": {},
   "source": [
    "Divide a list into 2 equal parts and create two list"
   ]
  },
  {
   "cell_type": "code",
   "execution_count": 114,
   "id": "788bf2c9-ae1d-40f6-a966-e2ef90b383a6",
   "metadata": {},
   "outputs": [
    {
     "name": "stdout",
     "output_type": "stream",
     "text": [
      "[1, 2, 3] [34, 5, 6]\n"
     ]
    }
   ],
   "source": [
    "list=[1,2,3,34,5,6]\n",
    "mid=int(len(list)/2)\n",
    "list1=list[:mid]\n",
    "list2=list[mid:]\n",
    "print(list1,list2)"
   ]
  },
  {
   "cell_type": "markdown",
   "id": "102c349b-119a-4a78-b7ab-028f60110845",
   "metadata": {},
   "source": [
    "Insertion on List"
   ]
  },
  {
   "cell_type": "code",
   "execution_count": 126,
   "id": "ae570df2-50a2-4b1a-834c-fa022ed27279",
   "metadata": {},
   "outputs": [
    {
     "name": "stdout",
     "output_type": "stream",
     "text": [
      "6\n",
      "[1, 2, 3, 89, 4, 56, 0]\n",
      "7\n",
      "[1, 2, 3, 89, 4, 78, 56, 0]\n"
     ]
    }
   ],
   "source": [
    "list=[1,2,3,4,56,0]\n",
    "print(len(list))\n",
    "list.insert(3,89)\n",
    "print(list)\n",
    "print(len(list))\n",
    "list.insert(-2,78)\n",
    "print(list)"
   ]
  },
  {
   "cell_type": "markdown",
   "id": "bc7fce6c-21da-42bc-8457-a1182fa4782e",
   "metadata": {},
   "source": [
    "extend "
   ]
  },
  {
   "cell_type": "code",
   "execution_count": 134,
   "id": "d1d8bf1c-93a0-4cb5-a24e-8da416edc462",
   "metadata": {},
   "outputs": [
    {
     "name": "stdout",
     "output_type": "stream",
     "text": [
      "6\n",
      "[1, 2, 3, 4, 56, 0, 3, 89, 785675, 'Shruti']\n"
     ]
    }
   ],
   "source": [
    "list=[1,2,3,4,56,0]\n",
    "print(len(list))\n",
    "list.extend([3,89,785675,'Shruti'])\n",
    "print(list)"
   ]
  },
  {
   "cell_type": "markdown",
   "id": "2700bec9-9498-4451-82ad-ea577639c6b1",
   "metadata": {},
   "source": [
    "reverse"
   ]
  },
  {
   "cell_type": "code",
   "execution_count": 136,
   "id": "05d5bf8d-6e56-4e6b-9461-2cf17cea5044",
   "metadata": {},
   "outputs": [
    {
     "name": "stdout",
     "output_type": "stream",
     "text": [
      "[0, 56, 4, 3, 2, 1]\n"
     ]
    }
   ],
   "source": [
    "list=[1,2,3,4,56,0]\n",
    "list.reverse()\n",
    "print(list)"
   ]
  },
  {
   "cell_type": "code",
   "execution_count": null,
   "id": "64f97231-646a-4d98-9c98-4f49bd0af973",
   "metadata": {},
   "outputs": [],
   "source": [
    "remove\n",
    "Note : Only first occurance of elements will be remove"
   ]
  },
  {
   "cell_type": "code",
   "execution_count": 140,
   "id": "a1eb514a-889e-42c8-8659-2bf36b3b5e85",
   "metadata": {},
   "outputs": [
    {
     "name": "stdout",
     "output_type": "stream",
     "text": [
      "[1, 2, 34, 'Shruti', 45345, 'Shruti']\n",
      "[1, 2, 34, 45345, 'Shruti']\n"
     ]
    }
   ],
   "source": [
    "list=[1,2,34,\"Shruti\",45345,\"Shruti\"]\n",
    "print(list)\n",
    "list.remove(\"Shruti\")\n",
    "print(list)"
   ]
  },
  {
   "cell_type": "markdown",
   "id": "0fe13fe6-8a5b-4555-9d13-8ccb4d151fb3",
   "metadata": {},
   "source": [
    "pop"
   ]
  },
  {
   "cell_type": "code",
   "execution_count": 156,
   "id": "27d8912d-3213-44d1-87ec-e89a3f494e47",
   "metadata": {},
   "outputs": [
    {
     "name": "stdout",
     "output_type": "stream",
     "text": [
      "[1, 2, 3, 4, 56]\n",
      "[1, 2, 4, 56]\n",
      "[1, 2, 4, 56]\n",
      "[1, 2, 4, 56]\n",
      "[1, 2, 4, 56]\n"
     ]
    }
   ],
   "source": [
    "list=[1,2,3,4,56,0]\n",
    "list.pop()\n",
    "print(list)\n",
    "list.pop(2)\n",
    "print(list)\n",
    "print(list[::])\n",
    "print(list[::1])\n",
    "print(list[-6:])"
   ]
  },
  {
   "cell_type": "code",
   "execution_count": 158,
   "id": "887c44ac-e48c-4a2c-839b-d3a5ea370320",
   "metadata": {},
   "outputs": [
    {
     "name": "stdout",
     "output_type": "stream",
     "text": [
      "[1, 2, 3, 4, 5, 6, 7, 8, 9]\n",
      "[1, 2, 3, 4]\n",
      "[3, 4, 5, 6, 7, 8, 9]\n",
      "[1, 2, 3, 4, 5]\n",
      "[9, 8, 7, 6, 5, 4, 3, 2, 1]\n",
      "[5, 4, 3, 2, 1]\n",
      "[5, 6, 7, 8]\n"
     ]
    }
   ],
   "source": [
    "list=[1,2,3,4,5,6,7,8,9]\n",
    "print(list)\n",
    "print(list[:4])\n",
    "print(list[2:])\n",
    "print(list[:5:])\n",
    "print(list[::-1])\n",
    "print(list[-5::-1])\n",
    "print(list[-5:-1])"
   ]
  },
  {
   "cell_type": "markdown",
   "id": "8dea7901-c1b6-4a90-a178-1e802a08773b",
   "metadata": {},
   "source": [
    "Sorting is list"
   ]
  },
  {
   "cell_type": "code",
   "execution_count": 168,
   "id": "58e047b9-b780-4ff5-89b4-9986955194da",
   "metadata": {},
   "outputs": [
    {
     "name": "stdout",
     "output_type": "stream",
     "text": [
      "[1, 2, 3, 4, 5]\n",
      "[5, 4, 3, 2, 1]\n"
     ]
    }
   ],
   "source": [
    "list=[3,4,5,1,2]\n",
    "list.sort()#for ascending\n",
    "print(list)\n",
    "list.sort(reverse=True)#for descending\n",
    "print(list)"
   ]
  },
  {
   "cell_type": "markdown",
   "id": "09e77878-f470-474d-aedc-92121793982e",
   "metadata": {},
   "source": [
    "Copy method of list"
   ]
  },
  {
   "cell_type": "code",
   "execution_count": 176,
   "id": "9368e04c-20f0-40d4-8765-bc9229647ff9",
   "metadata": {},
   "outputs": [
    {
     "name": "stdout",
     "output_type": "stream",
     "text": [
      "['Shruti', 'Siya', 'Sitvat']\n",
      "['Shruti', 'Siya', 'Sitvat']\n"
     ]
    }
   ],
   "source": [
    "x=[\"Shruti\",\"Siya\",\"Sitvat\"]\n",
    "y=x.copy()\n",
    "print(x)\n",
    "print(y)\n"
   ]
  },
  {
   "cell_type": "code",
   "execution_count": 13,
   "id": "0225298f-ecc1-4511-9911-66d47651d197",
   "metadata": {},
   "outputs": [
    {
     "name": "stdout",
     "output_type": "stream",
     "text": [
      "3\n",
      "[]\n"
     ]
    }
   ],
   "source": [
    "x=[1,2,34,56,3,2,2]\n",
    "print(x.count(2))\n",
    "x.clear()\n",
    "print(x)"
   ]
  },
  {
   "cell_type": "code",
   "execution_count": 9,
   "id": "086c8d33-9257-4184-b003-d45fb48cd730",
   "metadata": {},
   "outputs": [
    {
     "name": "stdout",
     "output_type": "stream",
     "text": [
      "True\n"
     ]
    }
   ],
   "source": [
    "l=[1,2,3,34,5]\n",
    "print(1 in l)"
   ]
  },
  {
   "cell_type": "code",
   "execution_count": 7,
   "id": "5ebe10e5-90db-4444-a06d-f95b0497c816",
   "metadata": {},
   "outputs": [
    {
     "name": "stdout",
     "output_type": "stream",
     "text": [
      "None\n"
     ]
    }
   ],
   "source": [
    "list=[1,2,3,4]\n",
    "l=list.reverse()\n",
    "print(l)"
   ]
  },
  {
   "cell_type": "code",
   "execution_count": 17,
   "id": "53c5e664-e46c-4c2c-bc97-555f2f30810d",
   "metadata": {},
   "outputs": [
    {
     "name": "stdout",
     "output_type": "stream",
     "text": [
      "[['Anita', 'Amit', 'Suresh'], [1, 2], 3, 'Rahul']\n"
     ]
    }
   ],
   "source": [
    "l=[[\"Anita\",\"Amit\"],[1,2,\"Sita\"],3,\"Rahul\"]\n",
    "l1=l[0]\n",
    "l1.append(\"Suresh\")\n",
    "l2=l[1]\n",
    "l2.remove(\"Sita\")\n",
    "print(l)"
   ]
  },
  {
   "cell_type": "code",
   "execution_count": null,
   "id": "d335b2c2-290a-4b59-aef0-eec721d476c1",
   "metadata": {},
   "outputs": [],
   "source": [
    "a=input(\"Enter a string \").split(',')\n",
    "x=[(len(i),i) for i in a]\n",
    "my_dict={}\n",
    "for length, word in x:\n",
    "  if length not in my_dict:\n",
    "    my_dict[length] = []\n",
    "  my_dict[length].append(word)\n",
    "print(my_dict)"
   ]
  }
 ],
 "metadata": {
  "kernelspec": {
   "display_name": "Python 3 (ipykernel)",
   "language": "python",
   "name": "python3"
  },
  "language_info": {
   "codemirror_mode": {
    "name": "ipython",
    "version": 3
   },
   "file_extension": ".py",
   "mimetype": "text/x-python",
   "name": "python",
   "nbconvert_exporter": "python",
   "pygments_lexer": "ipython3",
   "version": "3.12.4"
  }
 },
 "nbformat": 4,
 "nbformat_minor": 5
}
