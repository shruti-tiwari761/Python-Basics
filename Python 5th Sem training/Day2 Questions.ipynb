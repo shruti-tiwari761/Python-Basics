{
 "cells": [
  {
   "cell_type": "raw",
   "id": "9709c4ed-8561-40c2-9b81-d639e945cb14",
   "metadata": {},
   "source": [
    "Replace the first character by @"
   ]
  },
  {
   "cell_type": "code",
   "execution_count": 19,
   "id": "07f89c57-ff58-43f0-95fd-6ad4f2d25dc5",
   "metadata": {},
   "outputs": [
    {
     "name": "stdout",
     "output_type": "stream",
     "text": [
      "@xample exam \n"
     ]
    }
   ],
   "source": [
    "string = \"example exam \"\n",
    "result = '@' + string[1:]\n",
    "print(result)\n"
   ]
  },
  {
   "cell_type": "raw",
   "id": "023d159f-4892-41d5-8f7b-82defecae9d0",
   "metadata": {},
   "source": [
    "2. Create a single string from two strings"
   ]
  },
  {
   "cell_type": "code",
   "execution_count": 10,
   "id": "ac716fcf-da30-441b-935e-bb44ba7cdd65",
   "metadata": {},
   "outputs": [
    {
     "name": "stdout",
     "output_type": "stream",
     "text": [
      "i am learning python This is my session day2\n"
     ]
    }
   ],
   "source": [
    "str1 = \"i am learning python\"\n",
    "str2 = \"This is my session day2\"\n",
    "result = str1 + \" \" + str2\n",
    "print(result)\n"
   ]
  },
  {
   "cell_type": "raw",
   "id": "9f83f5b1-b8a5-443b-aa18-355d62069736",
   "metadata": {},
   "source": [
    "3. Add \"ing\" to the last word in a string"
   ]
  },
  {
   "cell_type": "code",
   "execution_count": 20,
   "id": "47b9f52a-a6bf-4b60-afed-3122659b3bb0",
   "metadata": {},
   "outputs": [
    {
     "name": "stdout",
     "output_type": "stream",
     "text": [
      "I am learning\n"
     ]
    }
   ],
   "source": [
    "string = \"I am learn\"\n",
    "words = string.split()\n",
    "words[-1] += \"ing\"\n",
    "result = ' '.join(words)\n",
    "print(result)\n"
   ]
  },
  {
   "cell_type": "raw",
   "id": "9af1dba0-3d3d-41e7-9068-986f6cfcfa21",
   "metadata": {},
   "source": [
    "4. Add \"ing\" to the word \"learn\" in a string"
   ]
  },
  {
   "cell_type": "code",
   "execution_count": 12,
   "id": "0eb54cc0-9a1c-4a52-b2c4-911e9c62c893",
   "metadata": {},
   "outputs": [
    {
     "name": "stdout",
     "output_type": "stream",
     "text": [
      "I want to learning python\n"
     ]
    }
   ],
   "source": [
    "string = \"I want to learn python\"\n",
    "result = string.replace(\"learn\", \"learning\")\n",
    "print(result)\n"
   ]
  },
  {
   "cell_type": "raw",
   "id": "3a568c0a-19f8-4264-bbc5-86180e8d0a0a",
   "metadata": {},
   "source": [
    "5. Find the first and last occurrence of a character in a string"
   ]
  },
  {
   "cell_type": "code",
   "execution_count": 21,
   "id": "44af7cef-6fed-40ff-8ea5-cb59061993af",
   "metadata": {},
   "outputs": [
    {
     "name": "stdout",
     "output_type": "stream",
     "text": [
      "0 8\n"
     ]
    }
   ],
   "source": [
    "string = \"example exam\"\n",
    "char = \"e\"\n",
    "first_occurrence = string.find(char)\n",
    "last_occurrence = string.rfind(char)\n",
    "print(first_occurrence, last_occurrence)\n"
   ]
  },
  {
   "cell_type": "raw",
   "id": "66cc3d06-8cc4-40c5-8277-edfe16a7824b",
   "metadata": {},
   "source": [
    "6. Print First Half of the String in Uppercase and the Next Half in Lowercase"
   ]
  },
  {
   "cell_type": "code",
   "execution_count": 14,
   "id": "9cf23013-4878-4ab9-bce6-fffed94c19ab",
   "metadata": {},
   "outputs": [
    {
     "name": "stdout",
     "output_type": "stream",
     "text": [
      "HELLOworld\n"
     ]
    }
   ],
   "source": [
    "string = \"HelloWorld\"\n",
    "mid = len(string) // 2\n",
    "result = string[:mid].upper() + string[mid:].lower()\n",
    "print(result)\n"
   ]
  },
  {
   "cell_type": "raw",
   "id": "56c5d15f-fe79-450b-a399-a1d549b2bc13",
   "metadata": {},
   "source": [
    "7. Partition a string into three parts"
   ]
  },
  {
   "cell_type": "code",
   "execution_count": 15,
   "id": "2f32aa2f-f3df-411e-830d-e2947e26e94d",
   "metadata": {},
   "outputs": [
    {
     "name": "stdout",
     "output_type": "stream",
     "text": [
      "Partit ionThi sString\n"
     ]
    }
   ],
   "source": [
    "string = \"PartitionThisString\"\n",
    "n = len(string) // 3\n",
    "part1 = string[:n]\n",
    "part2 = string[n:2*n]\n",
    "part3 = string[2*n:]\n",
    "print(part1, part2, part3)\n"
   ]
  },
  {
   "cell_type": "raw",
   "id": "9b74f390-bc9e-4f11-ac4b-719ac296e42e",
   "metadata": {},
   "source": [
    "8. Replace \"bhavna\" with \"python\" and vice versa, First and Last Characters of Each Word in a String"
   ]
  },
  {
   "cell_type": "code",
   "execution_count": 16,
   "id": "d8768e87-9d1d-4af2-9a0a-a30331a36c4d",
   "metadata": {},
   "outputs": [
    {
     "name": "stdout",
     "output_type": "stream",
     "text": [
      "bhavna is learning bhavna\n"
     ]
    }
   ],
   "source": [
    "string = \"bhavna is learning python\"\n",
    "result = string.replace(\"bhavna\", \"python\").replace(\"python\", \"bhavna\")\n",
    "print(result)\n"
   ]
  },
  {
   "cell_type": "raw",
   "id": "c0e9ae04-d5cd-4312-b8f7-220a5d113963",
   "metadata": {},
   "source": [
    "9. Find the frequency of \"na\" in the given string"
   ]
  },
  {
   "cell_type": "code",
   "execution_count": 17,
   "id": "b8dff09f-629b-48f8-b215-2382ac6d8a1b",
   "metadata": {},
   "outputs": [
    {
     "name": "stdout",
     "output_type": "stream",
     "text": [
      "4\n"
     ]
    }
   ],
   "source": [
    "string = \"banana nana\"\n",
    "substring = \"na\"\n",
    "result = string.count(substring)\n",
    "print(result)\n"
   ]
  },
  {
   "cell_type": "raw",
   "id": "e3d6d181-e529-45cd-baad-7a25dce31c3f",
   "metadata": {},
   "source": [
    "11. Find the frequency of \"ing\" in the given string"
   ]
  },
  {
   "cell_type": "code",
   "execution_count": 18,
   "id": "e929e2ac-c1f3-433e-87a0-2edc8e3fa5df",
   "metadata": {},
   "outputs": [
    {
     "name": "stdout",
     "output_type": "stream",
     "text": [
      "3\n"
     ]
    }
   ],
   "source": [
    "string = \"I am learning and enjoying learning\"\n",
    "result = string.count(\"ing\")\n",
    "print(result)"
   ]
  }
 ],
 "metadata": {
  "kernelspec": {
   "display_name": "Python 3 (ipykernel)",
   "language": "python",
   "name": "python3"
  },
  "language_info": {
   "codemirror_mode": {
    "name": "ipython",
    "version": 3
   },
   "file_extension": ".py",
   "mimetype": "text/x-python",
   "name": "python",
   "nbconvert_exporter": "python",
   "pygments_lexer": "ipython3",
   "version": "3.12.4"
  }
 },
 "nbformat": 4,
 "nbformat_minor": 5
}
