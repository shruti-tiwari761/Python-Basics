{
 "cells": [
  {
   "cell_type": "markdown",
   "id": "ac65e2db-c083-4796-9aba-9daf16b57bd1",
   "metadata": {},
   "source": [
    "Day 1"
   ]
  },
  {
   "cell_type": "code",
   "execution_count": 4,
   "id": "6dae24ce-3178-4799-bef2-315fa257a916",
   "metadata": {},
   "outputs": [
    {
     "name": "stdout",
     "output_type": "stream",
     "text": [
      "Hello\n"
     ]
    }
   ],
   "source": [
    "print('Hello')"
   ]
  },
  {
   "cell_type": "code",
   "execution_count": 6,
   "id": "132b01db-4f2e-42ab-9003-afa1331e2c69",
   "metadata": {},
   "outputs": [
    {
     "name": "stdout",
     "output_type": "stream",
     "text": [
      "Hello\n"
     ]
    }
   ],
   "source": [
    "print(\"Hello\")"
   ]
  },
  {
   "cell_type": "markdown",
   "id": "c3094c04-eefe-472a-83d9-24b882374523",
   "metadata": {},
   "source": [
    "Note: Both the single and double inverted comma i.e (',\") will work."
   ]
  },
  {
   "cell_type": "code",
   "execution_count": 10,
   "id": "8ab34058-dcc9-459b-a0fa-beb361e69379",
   "metadata": {},
   "outputs": [
    {
     "data": {
      "text/plain": [
       "'C:\\\\Users\\\\PC\\\\Python Training'"
      ]
     },
     "execution_count": 10,
     "metadata": {},
     "output_type": "execute_result"
    }
   ],
   "source": [
    "pwd"
   ]
  },
  {
   "cell_type": "markdown",
   "id": "609285e4-9021-457e-9150-2f47eb55fef8",
   "metadata": {},
   "source": [
    "note: pwd command is used for knowing path"
   ]
  },
  {
   "cell_type": "markdown",
   "id": "b9e23616-4612-4838-9803-3c37bf25778f",
   "metadata": {},
   "source": [
    "// For importing all keywords."
   ]
  },
  {
   "cell_type": "code",
   "execution_count": 12,
   "id": "65ce2346-5dfe-4bb1-a2c0-66f60df42fe6",
   "metadata": {},
   "outputs": [
    {
     "name": "stdout",
     "output_type": "stream",
     "text": [
      "['False', 'None', 'True', 'and', 'as', 'assert', 'async', 'await', 'break', 'class', 'continue', 'def', 'del', 'elif', 'else', 'except', 'finally', 'for', 'from', 'global', 'if', 'import', 'in', 'is', 'lambda', 'nonlocal', 'not', 'or', 'pass', 'raise', 'return', 'try', 'while', 'with', 'yield']\n"
     ]
    }
   ],
   "source": [
    "import keyword\n",
    "print(keyword.kwlist)"
   ]
  },
  {
   "cell_type": "markdown",
   "id": "9d5105ca-e520-4d2d-8897-2959bad788b4",
   "metadata": {},
   "source": [
    "for counting number of keywords "
   ]
  },
  {
   "cell_type": "code",
   "execution_count": 14,
   "id": "06ce2a15-0891-4fdf-a39e-bc37ed6bfe98",
   "metadata": {},
   "outputs": [
    {
     "name": "stdout",
     "output_type": "stream",
     "text": [
      "35\n"
     ]
    }
   ],
   "source": [
    "print(len(keyword.kwlist))"
   ]
  },
  {
   "cell_type": "markdown",
   "id": "b89b75a0-96b2-46f4-9924-052ab9bd38c9",
   "metadata": {},
   "source": [
    "Identifiers,Variable,Datatypes"
   ]
  },
  {
   "cell_type": "markdown",
   "id": "4380d96f-85ed-4f2a-a1cf-92fdcd52f7eb",
   "metadata": {},
   "source": [
    "Comments:\n",
    "1)Single line : use #\n",
    "2)Multi line : use ''' or \"\"\""
   ]
  },
  {
   "cell_type": "code",
   "execution_count": 18,
   "id": "a9e42928-cee8-4708-be1f-9f8ea0ac0956",
   "metadata": {},
   "outputs": [
    {
     "name": "stdout",
     "output_type": "stream",
     "text": [
      "Python is a popular programming language.\n",
      "Python can be used on a server to create web applications.\n",
      "\n"
     ]
    }
   ],
   "source": [
    "#Single line\n",
    "A='''Python is a popular programming language.\n",
    "Python can be used on a server to create web applications.\n",
    "'''\n",
    "print(A)"
   ]
  },
  {
   "cell_type": "markdown",
   "id": "ec12c291-81e7-4c47-8a26-4b7f9300e520",
   "metadata": {},
   "source": [
    "Identifers: Name given to any entities\n",
    "Variable: Integer, Float,String, Boolean, Complex"
   ]
  },
  {
   "cell_type": "markdown",
   "id": "d74b5386-0dbb-412c-b621-e5c412886327",
   "metadata": {},
   "source": [
    "variables"
   ]
  },
  {
   "cell_type": "code",
   "execution_count": 20,
   "id": "de5c1df4-b6ee-49a2-a76d-8d61d0b72e1a",
   "metadata": {},
   "outputs": [
    {
     "name": "stdout",
     "output_type": "stream",
     "text": [
      "8\n"
     ]
    }
   ],
   "source": [
    "print(3+5)"
   ]
  },
  {
   "cell_type": "code",
   "execution_count": 22,
   "id": "6a83c836-697d-49bf-9097-42ee7740bbff",
   "metadata": {},
   "outputs": [
    {
     "name": "stdout",
     "output_type": "stream",
     "text": [
      "8\n"
     ]
    }
   ],
   "source": [
    "x=3\n",
    "y=5\n",
    "z=x+y\n",
    "print(z)"
   ]
  },
  {
   "cell_type": "code",
   "execution_count": 26,
   "id": "27692f43-c8da-4b96-8f5a-fdca4fcc7d1d",
   "metadata": {},
   "outputs": [
    {
     "name": "stdout",
     "output_type": "stream",
     "text": [
      "9\n",
      "rita\n"
     ]
    }
   ],
   "source": [
    "x,y,r=3,6,\"rita\"\n",
    "z=x+y\n",
    "print(z)\n",
    "print(r)"
   ]
  },
  {
   "cell_type": "markdown",
   "id": "26cc68fc-57e3-407b-adda-0018b862a016",
   "metadata": {},
   "source": [
    "// for category of variable we use type"
   ]
  },
  {
   "cell_type": "code",
   "execution_count": 34,
   "id": "c9914e05-0ad1-40fe-ad5d-db094b90a309",
   "metadata": {},
   "outputs": [
    {
     "name": "stdout",
     "output_type": "stream",
     "text": [
      "<class 'int'>\n",
      "<class 'str'>\n",
      "<class 'int'> <class 'str'>\n"
     ]
    }
   ],
   "source": [
    "x=4\n",
    "r=\"rita\"\n",
    "print(type(x))\n",
    "print(type(r))\n",
    "print(type(x),type(r))"
   ]
  },
  {
   "cell_type": "markdown",
   "id": "b8d8d1c2-ce20-4f05-a904-c728f8044625",
   "metadata": {},
   "source": [
    "Note : if value of both variables are same then storgae location of both will be same and we can get it by using id"
   ]
  },
  {
   "cell_type": "code",
   "execution_count": 40,
   "id": "e94fedb7-ca7c-4ea5-8589-d271d12898bf",
   "metadata": {},
   "outputs": [
    {
     "name": "stdout",
     "output_type": "stream",
     "text": [
      "140705128463000\n",
      "140705128463000\n"
     ]
    }
   ],
   "source": [
    "x=8\n",
    "y=8\n",
    "z=x+y\n",
    "print(id(x))\n",
    "print(id(y))"
   ]
  },
  {
   "cell_type": "code",
   "execution_count": 44,
   "id": "9aed64ae-d1a1-4e5b-b3c8-71343e61f993",
   "metadata": {},
   "outputs": [
    {
     "name": "stdout",
     "output_type": "stream",
     "text": [
      "<class 'complex'>\n",
      "(3+6j)\n"
     ]
    }
   ],
   "source": [
    "#Complex Number:\n",
    "x=3+6j\n",
    "print(type(x))\n",
    "print(x)"
   ]
  },
  {
   "cell_type": "code",
   "execution_count": 46,
   "id": "2906a35c-13a0-4400-aa1f-21440611947c",
   "metadata": {},
   "outputs": [
    {
     "name": "stdout",
     "output_type": "stream",
     "text": [
      "3.0\n",
      "6.0\n"
     ]
    }
   ],
   "source": [
    "#for real part\n",
    "print(x.real)\n",
    "# for imag part\n",
    "print(x.imag)"
   ]
  },
  {
   "cell_type": "code",
   "execution_count": 50,
   "id": "faab90b2-5704-47c8-b318-4c9498d565e3",
   "metadata": {},
   "outputs": [
    {
     "name": "stdout",
     "output_type": "stream",
     "text": [
      "my name is Shruti\n",
      "Length of name 6\n"
     ]
    }
   ],
   "source": [
    "x=\"Shruti\"\n",
    "print(\"my name is\",x)\n",
    "y=len(x)\n",
    "print(\"Length of name\",y)"
   ]
  },
  {
   "cell_type": "code",
   "execution_count": 58,
   "id": "0838bc20-b6da-4e09-98dd-aa84fbe46895",
   "metadata": {},
   "outputs": [
    {
     "name": "stdout",
     "output_type": "stream",
     "text": [
      "6\n",
      "6\n",
      "6\n",
      "6\n",
      "6\n",
      "6\n",
      "6\n",
      "6\n",
      "6\n"
     ]
    }
   ],
   "source": [
    "#Names of the variables:\n",
    "_a=6\n",
    "_a_=6\n",
    "_1a=6\n",
    "_A____=6\n",
    "_A__3__=6\n",
    "_1_3_A_a__=6\n",
    "__A___234_A__=6\n",
    "____3____=6\n",
    "_12A_45_=6\n",
    "print(_a)\n",
    "print(_a_)\n",
    "print(_1a)\n",
    "print(_A____)\n",
    "print(_A__3__)\n",
    "print(_1_3_A_a__)\n",
    "print(__A___234_A__)\n",
    "print(____3____)\n",
    "print(_12A_45_)"
   ]
  },
  {
   "cell_type": "code",
   "execution_count": 60,
   "id": "df39833e-2dcb-47fc-846b-8759f98cce3c",
   "metadata": {},
   "outputs": [
    {
     "name": "stdout",
     "output_type": "stream",
     "text": [
      "<class 'bool'>\n",
      "<class 'bool'>\n",
      "1\n"
     ]
    }
   ],
   "source": [
    "#boolean\n",
    "x=True\n",
    "y=False\n",
    "print(type(x))\n",
    "print(type(y))\n",
    "z=x+y\n",
    "print(z)"
   ]
  },
  {
   "cell_type": "markdown",
   "id": "8641b71c-f181-4ed0-b53b-d6d0fe3ea7a2",
   "metadata": {},
   "source": [
    "Note : ord will give you ASCII value"
   ]
  },
  {
   "cell_type": "code",
   "execution_count": 1,
   "id": "83a7eafb-9f69-44dc-b855-e4c01233ab42",
   "metadata": {},
   "outputs": [
    {
     "name": "stdout",
     "output_type": "stream",
     "text": [
      "97\n"
     ]
    }
   ],
   "source": [
    "print(ord('a'))"
   ]
  }
 ],
 "metadata": {
  "kernelspec": {
   "display_name": "Python 3 (ipykernel)",
   "language": "python",
   "name": "python3"
  },
  "language_info": {
   "codemirror_mode": {
    "name": "ipython",
    "version": 3
   },
   "file_extension": ".py",
   "mimetype": "text/x-python",
   "name": "python",
   "nbconvert_exporter": "python",
   "pygments_lexer": "ipython3",
   "version": "3.12.4"
  }
 },
 "nbformat": 4,
 "nbformat_minor": 5
}
