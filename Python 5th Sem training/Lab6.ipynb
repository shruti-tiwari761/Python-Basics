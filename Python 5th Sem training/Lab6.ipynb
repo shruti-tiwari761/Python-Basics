{
 "cells": [
  {
   "cell_type": "markdown",
   "id": "2c0a8f9e-c823-4b60-8c21-a07924222d8d",
   "metadata": {},
   "source": [
    "# Lab 6"
   ]
  },
  {
   "cell_type": "code",
   "execution_count": null,
   "id": "009aaeb2-837a-4541-b346-7741860cecb8",
   "metadata": {},
   "outputs": [],
   "source": [
    "#inheritance"
   ]
  },
  {
   "cell_type": "markdown",
   "id": "b673aba9-950a-472a-aedc-027ef7d09286",
   "metadata": {},
   "source": [
    "# Single Inheritance"
   ]
  },
  {
   "cell_type": "code",
   "execution_count": 2,
   "id": "a86e8f22-62ab-457d-a578-ca3cfbdabed2",
   "metadata": {},
   "outputs": [
    {
     "name": "stdout",
     "output_type": "stream",
     "text": [
      "This is parent class\n",
      "This is base class\n"
     ]
    }
   ],
   "source": [
    "class P:\n",
    "    def m(self):\n",
    "        print(\"This is parent class\")\n",
    "class C(P):\n",
    "    def m1(self):\n",
    "        print(\"This is base class\")\n",
    "obj1=C()\n",
    "obj1.m()\n",
    "obj1.m1()"
   ]
  },
  {
   "cell_type": "code",
   "execution_count": 5,
   "id": "fccd9992-d2ba-47a2-a069-9cfc7cfb591c",
   "metadata": {},
   "outputs": [
    {
     "name": "stdout",
     "output_type": "stream",
     "text": [
      "This is base class\n",
      "This is parent class\n"
     ]
    }
   ],
   "source": [
    "class P:\n",
    "    def m(self):\n",
    "        print(\"This is parent class\")\n",
    "class C(P):\n",
    "    def m(self):\n",
    "        print(\"This is base class\")\n",
    "obj1=C()\n",
    "obj1.m()\n",
    "obj2=P()\n",
    "obj2.m()"
   ]
  },
  {
   "cell_type": "markdown",
   "id": "80cef706-9d51-45c6-b254-2211af5dcd21",
   "metadata": {},
   "source": [
    "# Multi Level Inheritance"
   ]
  },
  {
   "cell_type": "code",
   "execution_count": 13,
   "id": "a560521a-7c6e-4a3b-bc49-ea1e4327223e",
   "metadata": {},
   "outputs": [
    {
     "name": "stdout",
     "output_type": "stream",
     "text": [
      "This is  grand parent class\n",
      "This is parent  class\n",
      "This is child class \n"
     ]
    }
   ],
   "source": [
    "class P:\n",
    "    def m(self):\n",
    "        print(\"This is  grand parent class\")\n",
    "class C(P):\n",
    "    def m1(self):\n",
    "        print(\"This is parent  class\")\n",
    "class M(C):\n",
    "    def m2(self):\n",
    "        print(\"This is child class \")\n",
    "obj1=M()\n",
    "obj1.m()\n",
    "obj1.m1()\n",
    "obj1.m2()"
   ]
  },
  {
   "cell_type": "code",
   "execution_count": 16,
   "id": "9b03841d-81b9-4007-9de4-47283c9cdbe2",
   "metadata": {},
   "outputs": [
    {
     "name": "stdout",
     "output_type": "stream",
     "text": [
      "Parent constructor\n",
      "Child constructor\n",
      "This is parent class\n",
      "This is child class\n",
      "This is parent class\n"
     ]
    }
   ],
   "source": [
    "class P:\n",
    "    def __init__(self):\n",
    "        print(\"Parent constructor\")\n",
    "    def m(self):\n",
    "        print(\"This is parent class\")\n",
    "class C(P):\n",
    "    def __init__(self):\n",
    "        super().__init__()\n",
    "        print(\"Child constructor\")\n",
    "    def m1(self):\n",
    "        super().m()\n",
    "        print(\"This is child class\")\n",
    "obj=C()\n",
    "obj.m1()\n",
    "obj.m()\n",
    "                  \n",
    "        "
   ]
  },
  {
   "cell_type": "code",
   "execution_count": 24,
   "id": "33152d93-1a8e-4aa2-ae36-127f90c0e88a",
   "metadata": {},
   "outputs": [
    {
     "name": "stdout",
     "output_type": "stream",
     "text": [
      "Name :  Shruti\n",
      "Age :  21\n",
      "RollNo.:  189\n"
     ]
    }
   ],
   "source": [
    "class person:\n",
    "    def __init__(self,n,a):\n",
    "        self.name=n\n",
    "        self.age=a\n",
    "    def showname(self):\n",
    "        print(\"Name : \",self.name)\n",
    "    def showage(self):\n",
    "        print(\"Age : \",self.age)\n",
    "class student(person):\n",
    "    def rollno(self,r):\n",
    "        self.rollno=r\n",
    "    def showrollno(self):\n",
    "        print(\"RollNo.: \",self.rollno)\n",
    "s1=student(\"Shruti\",21)\n",
    "s1.showname()\n",
    "s1.showage()\n",
    "s1.rollno(189)\n",
    "s1.showrollno()"
   ]
  },
  {
   "cell_type": "code",
   "execution_count": 34,
   "id": "3de9d41c-56bd-4342-a96d-cc387010908c",
   "metadata": {},
   "outputs": [
    {
     "name": "stdin",
     "output_type": "stream",
     "text": [
      "Enter a title of Book : Lets learn Python\n",
      "Enter the price of book : 450\n"
     ]
    },
    {
     "name": "stdout",
     "output_type": "stream",
     "text": [
      "Title of Book :  Lets learn Python\n",
      "Price of Book :  450\n"
     ]
    },
    {
     "name": "stdin",
     "output_type": "stream",
     "text": [
      "Enter the page count of book : 459\n"
     ]
    },
    {
     "name": "stdout",
     "output_type": "stream",
     "text": [
      "Count of Pages :  459\n"
     ]
    },
    {
     "name": "stdin",
     "output_type": "stream",
     "text": [
      "Enter the play time : 345\n"
     ]
    },
    {
     "name": "stdout",
     "output_type": "stream",
     "text": [
      "Playing Time  :  345 minutes\n"
     ]
    }
   ],
   "source": [
    "class Publication:\n",
    "    def getdata(self,title,price):\n",
    "        self.title=title\n",
    "        self.price=price\n",
    "    def putdata(self):\n",
    "        print(\"Title of Book : \",self.title)\n",
    "        print(\"Price of Book : \",self.price)\n",
    "class Book(Publication):\n",
    "    def getdata(self,pc):\n",
    "        self.pagecount=pc\n",
    "    def putdata(self):\n",
    "        print(\"Count of Pages : \",self.pagecount)\n",
    "class CD(Publication):\n",
    "    def getdata(self,pt):\n",
    "        self.playingtime=pt\n",
    "    def putdata(self):\n",
    "        print(\"Playing Time  : \",self.playingtime,\"minutes\")\n",
    "obj=Publication()\n",
    "tn=input(\"Enter a title of Book :\")\n",
    "bookprice=int(input(\"Enter the price of book :\"))\n",
    "obj.getdata(tn,bookprice)\n",
    "obj.putdata()\n",
    "obj1=Book()\n",
    "pagec=int(input(\"Enter the page count of book :\"))\n",
    "obj1.getdata(pagec)\n",
    "obj1.putdata()\n",
    "obj2=CD()\n",
    "playtime=int(input(\"Enter the play time :\"))\n",
    "obj2.getdata(playtime)\n",
    "obj2.putdata()"
   ]
  },
  {
   "cell_type": "code",
   "execution_count": 42,
   "id": "6ee9f388-5dde-44ce-a97e-8826f28e767f",
   "metadata": {},
   "outputs": [
    {
     "name": "stdout",
     "output_type": "stream",
     "text": [
      "Name : Shruti\n",
      "Age :  20\n",
      "Grade Of Student :  A\n",
      "Student Id : 120\n",
      "Name : Komal ma'am \n",
      "Age :  101\n",
      "Subject : Shruti\n",
      "Teacher Id : 20\n"
     ]
    }
   ],
   "source": [
    "class Person:\n",
    "    def getdata(self,name,age):\n",
    "        self.name=name\n",
    "        self.age=age\n",
    "    def display_info(self):\n",
    "        print(\"Name :\" , self.name)\n",
    "        print(\"Age : \",self.age)\n",
    "class Student(Person):\n",
    "    def getdata(self,grade,student_id):\n",
    "        self.grade=grade\n",
    "        self.student_id=student_id\n",
    "    def display_info(self):\n",
    "        print(\"Grade Of Student : \",self.grade)\n",
    "        print(\"Student Id :\",self.student_id)\n",
    "class Teacher(Person):\n",
    "    def getdata(self,subject,teacher_id):\n",
    "        self.subject=subject\n",
    "        self.teacher_id=teacher_id\n",
    "    def display_info(self):\n",
    "        print(\"Subject :\" ,self.subject)\n",
    "        print(\"Teacher Id :\",self.teacher_id)\n",
    "obj=Person()\n",
    "obj.getdata('Shruti',20)\n",
    "obj.display_info()\n",
    "obj1=Student()\n",
    "obj1.getdata('A',120)\n",
    "obj1.display_info()\n",
    "obj2=Person()\n",
    "obj2.getdata(\"Komal ma'am \",101)\n",
    "obj2.display_info()\n",
    "obj3=Teacher()\n",
    "obj3.getdata('Shruti',20)\n",
    "obj3.display_info()\n"
   ]
  }
 ],
 "metadata": {
  "kernelspec": {
   "display_name": "Python 3 (ipykernel)",
   "language": "python",
   "name": "python3"
  },
  "language_info": {
   "codemirror_mode": {
    "name": "ipython",
    "version": 3
   },
   "file_extension": ".py",
   "mimetype": "text/x-python",
   "name": "python",
   "nbconvert_exporter": "python",
   "pygments_lexer": "ipython3",
   "version": "3.12.4"
  }
 },
 "nbformat": 4,
 "nbformat_minor": 5
}
