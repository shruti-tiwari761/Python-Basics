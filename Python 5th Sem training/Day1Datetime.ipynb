{
 "cells": [
  {
   "cell_type": "markdown",
   "id": "729e2df9-0efe-476a-8c8c-fc3c409be045",
   "metadata": {},
   "source": [
    "Current Date and time"
   ]
  },
  {
   "cell_type": "code",
   "execution_count": 3,
   "id": "1a738b28-c0e9-481d-b074-b3a7e1ebb16d",
   "metadata": {},
   "outputs": [
    {
     "name": "stdout",
     "output_type": "stream",
     "text": [
      "2024-08-27 19:30:49.498045\n"
     ]
    }
   ],
   "source": [
    "import datetime\n",
    "print(datetime.datetime.now())"
   ]
  },
  {
   "cell_type": "markdown",
   "id": "2842a5f9-9157-4577-a7e5-082ae2c77ec2",
   "metadata": {},
   "source": [
    "current date only"
   ]
  },
  {
   "cell_type": "code",
   "execution_count": 27,
   "id": "b20a9f7f-8283-4c36-9772-5586f831262b",
   "metadata": {},
   "outputs": [
    {
     "ename": "SyntaxError",
     "evalue": "unmatched ')' (654351916.py, line 4)",
     "output_type": "error",
     "traceback": [
      "\u001b[1;36m  Cell \u001b[1;32mIn[27], line 4\u001b[1;36m\u001b[0m\n\u001b[1;33m    ay)\u001b[0m\n\u001b[1;37m      ^\u001b[0m\n\u001b[1;31mSyntaxError\u001b[0m\u001b[1;31m:\u001b[0m unmatched ')'\n"
     ]
    }
   ],
   "source": [
    "import datetime\n",
    "print(datetime.date.today())ay)\n"
   ]
  },
  {
   "cell_type": "markdown",
   "id": "65106f5c-c913-4c21-bc92-07dd3685c5ee",
   "metadata": {},
   "source": [
    "current time only"
   ]
  },
  {
   "cell_type": "code",
   "execution_count": 29,
   "id": "11a8effe-5445-4daa-998d-0d8e889dc969",
   "metadata": {},
   "outputs": [
    {
     "name": "stdout",
     "output_type": "stream",
     "text": [
      "Current time: 19:37:16.672121\n"
     ]
    }
   ],
   "source": [
    "import datetime\n",
    "now = datetime.datetime.now()\n",
    "current_time = now.time()\n",
    "print(\"Current time:\", current_time)\n"
   ]
  },
  {
   "cell_type": "markdown",
   "id": "ac16965e-b027-4816-bd2e-9a6fb88c3891",
   "metadata": {},
   "source": [
    "Specific time "
   ]
  },
  {
   "cell_type": "code",
   "execution_count": 33,
   "id": "93e1472e-9cfd-464d-9874-ca33d5a10ec8",
   "metadata": {},
   "outputs": [
    {
     "name": "stdout",
     "output_type": "stream",
     "text": [
      "14:30:45\n"
     ]
    }
   ],
   "source": [
    "import datetime\n",
    "print(datetime.time(14, 30, 45))"
   ]
  },
  {
   "cell_type": "code",
   "execution_count": null,
   "id": "ba40a9b5-e54e-4f87-9c2f-859cd9a6a0d2",
   "metadata": {},
   "outputs": [],
   "source": [
    "print(\"hello\")\n"
   ]
  }
 ],
 "metadata": {
  "kernelspec": {
   "display_name": "Python 3 (ipykernel)",
   "language": "python",
   "name": "python3"
  },
  "language_info": {
   "codemirror_mode": {
    "name": "ipython",
    "version": 3
   },
   "file_extension": ".py",
   "mimetype": "text/x-python",
   "name": "python",
   "nbconvert_exporter": "python",
   "pygments_lexer": "ipython3",
   "version": "3.12.4"
  }
 },
 "nbformat": 4,
 "nbformat_minor": 5
}
