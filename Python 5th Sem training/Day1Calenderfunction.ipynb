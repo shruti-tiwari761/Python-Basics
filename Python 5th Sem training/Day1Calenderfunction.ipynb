{
 "cells": [
  {
   "cell_type": "markdown",
   "id": "a782604f-1fab-4d44-a90d-640b5b705561",
   "metadata": {},
   "source": [
    "Calender function"
   ]
  },
  {
   "cell_type": "code",
   "execution_count": 3,
   "id": "a76c402e-0944-4d9e-a3f5-9b3a35817fe6",
   "metadata": {},
   "outputs": [
    {
     "name": "stdout",
     "output_type": "stream",
     "text": [
      "                                  2024\n",
      "\n",
      "      January                   February                   March\n",
      "Mo Tu We Th Fr Sa Su      Mo Tu We Th Fr Sa Su      Mo Tu We Th Fr Sa Su\n",
      " 1  2  3  4  5  6  7                1  2  3  4                   1  2  3\n",
      " 8  9 10 11 12 13 14       5  6  7  8  9 10 11       4  5  6  7  8  9 10\n",
      "15 16 17 18 19 20 21      12 13 14 15 16 17 18      11 12 13 14 15 16 17\n",
      "22 23 24 25 26 27 28      19 20 21 22 23 24 25      18 19 20 21 22 23 24\n",
      "29 30 31                  26 27 28 29               25 26 27 28 29 30 31\n",
      "\n",
      "       April                      May                       June\n",
      "Mo Tu We Th Fr Sa Su      Mo Tu We Th Fr Sa Su      Mo Tu We Th Fr Sa Su\n",
      " 1  2  3  4  5  6  7             1  2  3  4  5                      1  2\n",
      " 8  9 10 11 12 13 14       6  7  8  9 10 11 12       3  4  5  6  7  8  9\n",
      "15 16 17 18 19 20 21      13 14 15 16 17 18 19      10 11 12 13 14 15 16\n",
      "22 23 24 25 26 27 28      20 21 22 23 24 25 26      17 18 19 20 21 22 23\n",
      "29 30                     27 28 29 30 31            24 25 26 27 28 29 30\n",
      "\n",
      "        July                     August                  September\n",
      "Mo Tu We Th Fr Sa Su      Mo Tu We Th Fr Sa Su      Mo Tu We Th Fr Sa Su\n",
      " 1  2  3  4  5  6  7                1  2  3  4                         1\n",
      " 8  9 10 11 12 13 14       5  6  7  8  9 10 11       2  3  4  5  6  7  8\n",
      "15 16 17 18 19 20 21      12 13 14 15 16 17 18       9 10 11 12 13 14 15\n",
      "22 23 24 25 26 27 28      19 20 21 22 23 24 25      16 17 18 19 20 21 22\n",
      "29 30 31                  26 27 28 29 30 31         23 24 25 26 27 28 29\n",
      "                                                    30\n",
      "\n",
      "      October                   November                  December\n",
      "Mo Tu We Th Fr Sa Su      Mo Tu We Th Fr Sa Su      Mo Tu We Th Fr Sa Su\n",
      "    1  2  3  4  5  6                   1  2  3                         1\n",
      " 7  8  9 10 11 12 13       4  5  6  7  8  9 10       2  3  4  5  6  7  8\n",
      "14 15 16 17 18 19 20      11 12 13 14 15 16 17       9 10 11 12 13 14 15\n",
      "21 22 23 24 25 26 27      18 19 20 21 22 23 24      16 17 18 19 20 21 22\n",
      "28 29 30 31               25 26 27 28 29 30         23 24 25 26 27 28 29\n",
      "                                                    30 31\n",
      "\n"
     ]
    }
   ],
   "source": [
    "import calendar \n",
    "print (calendar.calendar(2024)) "
   ]
  },
  {
   "cell_type": "markdown",
   "id": "7b44fdcc-6b3c-4cdc-96fa-97a9d35f7db8",
   "metadata": {},
   "source": [
    "Leap Year"
   ]
  },
  {
   "cell_type": "code",
   "execution_count": 11,
   "id": "e9d1f130-ac57-4e84-b646-1a7fb7896586",
   "metadata": {},
   "outputs": [
    {
     "name": "stdout",
     "output_type": "stream",
     "text": [
      "True\n"
     ]
    }
   ],
   "source": [
    "import calendar\n",
    "year = 2024\n",
    "print(calendar.isleap(year))\n"
   ]
  },
  {
   "cell_type": "markdown",
   "id": "2faecbac-2949-400e-af97-74d2148c181d",
   "metadata": {},
   "source": [
    "Leap Year in range"
   ]
  },
  {
   "cell_type": "code",
   "execution_count": 19,
   "id": "b6ee7296-2118-4fdc-bfac-27a26f9a5956",
   "metadata": {},
   "outputs": [
    {
     "name": "stdout",
     "output_type": "stream",
     "text": [
      "7\n",
      "Leap years are:\n",
      "2000\n",
      "2004\n",
      "2008\n",
      "2012\n",
      "2016\n",
      "2020\n",
      "2024\n"
     ]
    }
   ],
   "source": [
    "import calendar\n",
    "start_year = 2000\n",
    "end_year = 2025\n",
    "print( calendar.leapdays(start_year, end_year))#count of leap year\n",
    "print(\"Leap years are:\")\n",
    "for year in range(start_year, end_year):\n",
    "    if calendar.isleap(year):\n",
    "        print(year)"
   ]
  },
  {
   "cell_type": "markdown",
   "id": "9e20dfbe-30d0-4b0c-991d-9c0bc80ffcaf",
   "metadata": {},
   "source": [
    "Day( Note: 0 means monday and 6 means sunday)"
   ]
  },
  {
   "cell_type": "code",
   "execution_count": 31,
   "id": "fbd3f4a0-329e-4da6-8aba-afd9f41b77ac",
   "metadata": {},
   "outputs": [
    {
     "name": "stdout",
     "output_type": "stream",
     "text": [
      "6\n"
     ]
    }
   ],
   "source": [
    "import calendar\n",
    "year = 2024\n",
    "month = 8\n",
    "day = 25\n",
    "print( calendar.weekday(year, month, day))"
   ]
  },
  {
   "cell_type": "code",
   "execution_count": 49,
   "id": "5de99c45-4fce-451c-80d3-adf367dd3cdd",
   "metadata": {},
   "outputs": [
    {
     "name": "stdout",
     "output_type": "stream",
     "text": [
      "1 31\n"
     ]
    }
   ],
   "source": [
    "import calendar\n",
    "year = 2023\n",
    "month = 8\n",
    "first_weekday, num_days = calendar.monthrange(year, month)\n",
    "print(first_weekday,num_days)"
   ]
  }
 ],
 "metadata": {
  "kernelspec": {
   "display_name": "Python 3 (ipykernel)",
   "language": "python",
   "name": "python3"
  },
  "language_info": {
   "codemirror_mode": {
    "name": "ipython",
    "version": 3
   },
   "file_extension": ".py",
   "mimetype": "text/x-python",
   "name": "python",
   "nbconvert_exporter": "python",
   "pygments_lexer": "ipython3",
   "version": "3.12.4"
  }
 },
 "nbformat": 4,
 "nbformat_minor": 5
}
