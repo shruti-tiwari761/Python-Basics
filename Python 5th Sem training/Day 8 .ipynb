{
 "cells": [
  {
   "cell_type": "markdown",
   "id": "b7af1e31-bf1b-4619-9d12-27e7d8c730c0",
   "metadata": {},
   "source": [
    "enum"
   ]
  },
  {
   "cell_type": "code",
   "execution_count": 3,
   "id": "6f7ba2bc-e00d-4984-ac6e-647513241d02",
   "metadata": {},
   "outputs": [
    {
     "name": "stdout",
     "output_type": "stream",
     "text": [
      "<enumerate object at 0x0000027C1E1C5260>\n"
     ]
    }
   ],
   "source": [
    "l=['apple','banana','cherry']\n",
    "print(enumerate(l))"
   ]
  },
  {
   "cell_type": "code",
   "execution_count": 5,
   "id": "be3eb5f1-8e70-40af-842c-ec40a78f4614",
   "metadata": {},
   "outputs": [
    {
     "name": "stdout",
     "output_type": "stream",
     "text": [
      "[(0, 'apple'), (1, 'banana'), (2, 'cherry')]\n"
     ]
    }
   ],
   "source": [
    "l=['apple','banana','cherry']\n",
    "print(list(enumerate(l)))"
   ]
  },
  {
   "cell_type": "code",
   "execution_count": 7,
   "id": "1e83e6b6-f179-4af7-9145-1bf834cba0e1",
   "metadata": {},
   "outputs": [
    {
     "name": "stdout",
     "output_type": "stream",
     "text": [
      "((0, 'apple'), (1, 'banana'), (2, 'cherry'))\n"
     ]
    }
   ],
   "source": [
    "l=['apple','banana','cherry']\n",
    "print(tuple(enumerate(l)))"
   ]
  },
  {
   "cell_type": "code",
   "execution_count": 11,
   "id": "ebbda868-0d11-4ddd-a416-3e9e8d353956",
   "metadata": {},
   "outputs": [
    {
     "name": "stdout",
     "output_type": "stream",
     "text": [
      "{0: 'apple', 1: 'banana', 2: 'cherry'}\n"
     ]
    }
   ],
   "source": [
    "l=['apple','banana','cherry']\n",
    "print(dict(enumerate(l)))"
   ]
  },
  {
   "cell_type": "code",
   "execution_count": 13,
   "id": "b9bf5ea4-07c1-4af9-b022-9d2eaa3f64f8",
   "metadata": {},
   "outputs": [
    {
     "name": "stdout",
     "output_type": "stream",
     "text": [
      "(0, 'eat')\n",
      "(1, 'sleep')\n",
      "(2, 'repeat')\n"
     ]
    }
   ],
   "source": [
    "l1=[\"eat\",\"sleep\",\"repeat\"]\n",
    "for ele in enumerate(l1):\n",
    "    print(ele)"
   ]
  },
  {
   "cell_type": "code",
   "execution_count": 17,
   "id": "e303dd8a-ebdf-4240-b495-7e1c12de69ce",
   "metadata": {},
   "outputs": [
    {
     "name": "stdout",
     "output_type": "stream",
     "text": [
      "100 eat\n",
      "101 sleep\n",
      "102 repeat\n"
     ]
    }
   ],
   "source": [
    "l1=[\"eat\",\"sleep\",\"repeat\"]\n",
    "for count,ele in enumerate(l1,100):\n",
    "    print(count,ele)"
   ]
  },
  {
   "cell_type": "code",
   "execution_count": 21,
   "id": "22497282-ae38-4c9d-b098-2ef7959decf0",
   "metadata": {},
   "outputs": [
    {
     "name": "stdout",
     "output_type": "stream",
     "text": [
      "0 eat\n",
      "1 sleep\n",
      "2 repeat\n"
     ]
    }
   ],
   "source": [
    "l1=[\"eat\",\"sleep\",\"repeat\"]\n",
    "for count,ele in enumerate(l1):\n",
    "    print(count,ele)"
   ]
  },
  {
   "cell_type": "markdown",
   "id": "7d64930e-7523-479d-982a-136454d03e03",
   "metadata": {},
   "source": [
    "Using enumeration find out all the elements present at odd position in list"
   ]
  },
  {
   "cell_type": "code",
   "execution_count": 39,
   "id": "0b953476-5ab0-434e-8721-2516ea2714c2",
   "metadata": {},
   "outputs": [
    {
     "name": "stdout",
     "output_type": "stream",
     "text": [
      "[1, 3, 5]\n"
     ]
    }
   ],
   "source": [
    "l=[0,1,2,3,4,5,6]\n",
    "l2=[]\n",
    "for count,ele in enumerate(l):\n",
    "    if count%2!=0:\n",
    "        l2.append(ele) \n",
    "print(l2)"
   ]
  },
  {
   "cell_type": "markdown",
   "id": "677d4209-60ab-46ba-b638-3c049c78afdb",
   "metadata": {},
   "source": [
    "WAP to enter a new element in a list after a desired elements "
   ]
  },
  {
   "cell_type": "code",
   "execution_count": 55,
   "id": "dccd8dcb-0706-49b9-95db-516686bd6b20",
   "metadata": {},
   "outputs": [
    {
     "name": "stdin",
     "output_type": "stream",
     "text": [
      "Enter a index value 2\n",
      "Enter a elements Shruti\n"
     ]
    },
    {
     "name": "stdout",
     "output_type": "stream",
     "text": [
      "['apple', 1, 'Shruti', 'hello', 8]\n"
     ]
    }
   ],
   "source": [
    "l=[\"apple\",1,\"hello\",8]\n",
    "index=int(input(\"Enter a index value\"))\n",
    "element=input(\"Enter a elements\")\n",
    "for count,ele in enumerate(l):\n",
    "    if(count==index):\n",
    "        l.insert(index,element)\n",
    "print(l)"
   ]
  },
  {
   "cell_type": "markdown",
   "id": "7a626a79-d898-4fe8-be84-0961c999b025",
   "metadata": {},
   "source": [
    "WAP to enter a new element in a dict after a desired elements "
   ]
  },
  {
   "cell_type": "code",
   "execution_count": 59,
   "id": "e7208b88-d61d-46fd-828f-15df64511fca",
   "metadata": {},
   "outputs": [
    {
     "name": "stdin",
     "output_type": "stream",
     "text": [
      "Enter a index value 2\n",
      "Enter a elements Hel\n"
     ]
    },
    {
     "name": "stdout",
     "output_type": "stream",
     "text": [
      "{0: 'apple', 1: 1, 2: 'Hel', 3: 'hello', 4: 8}\n"
     ]
    }
   ],
   "source": [
    "l=[\"apple\",1,\"hello\",8]\n",
    "index=int(input(\"Enter a index value\"))\n",
    "element=input(\"Enter a elements\")\n",
    "for count,ele in enumerate(l):\n",
    "    if(count==index):\n",
    "        l.insert(index,element)\n",
    "print(dict(enumerate(l)))"
   ]
  },
  {
   "cell_type": "code",
   "execution_count": 99,
   "id": "d6545205-fb9d-42b9-bfc8-e638e26984b7",
   "metadata": {},
   "outputs": [
    {
     "name": "stdin",
     "output_type": "stream",
     "text": [
      "Enter a index value 3\n",
      "Enter a elements Hell9o\n"
     ]
    },
    {
     "ename": "TypeError",
     "evalue": "'list' object is not callable",
     "output_type": "error",
     "traceback": [
      "\u001b[1;31m---------------------------------------------------------------------------\u001b[0m",
      "\u001b[1;31mTypeError\u001b[0m                                 Traceback (most recent call last)",
      "Cell \u001b[1;32mIn[99], line 8\u001b[0m\n\u001b[0;32m      6\u001b[0m     \u001b[38;5;28;01mif\u001b[39;00m count\u001b[38;5;241m==\u001b[39mindex:\n\u001b[0;32m      7\u001b[0m        \u001b[38;5;28mdict\u001b[39m[index]\u001b[38;5;241m=\u001b[39melement\n\u001b[1;32m----> 8\u001b[0m \u001b[38;5;28mprint\u001b[39m(\u001b[38;5;28mdict\u001b[39m(\u001b[38;5;28menumerate\u001b[39m(\u001b[38;5;28mdict\u001b[39m)))\n",
      "\u001b[1;31mTypeError\u001b[0m: 'list' object is not callable"
     ]
    }
   ],
   "source": [
    "dict={1:\"Hello\",2:\"Hi\",4:\"byee\"}\n",
    "index=int(input(\"Enter a index value\"))\n",
    "element=input(\"Enter a elements\")\n",
    "dict=list(dict)\n",
    "for count,ele in enumerate(dict):\n",
    "    if count==index:\n",
    "       dict[index]=element\n",
    "print(dict(enumerate(dict)))"
   ]
  },
  {
   "cell_type": "code",
   "execution_count": 105,
   "id": "f52bea49-3490-42c1-870c-a6cb547b880d",
   "metadata": {},
   "outputs": [
    {
     "name": "stdin",
     "output_type": "stream",
     "text": [
      "Enter a index value 2\n",
      "Enter a elements Hell9o\n"
     ]
    },
    {
     "ename": "IndexError",
     "evalue": "list assignment index out of range",
     "output_type": "error",
     "traceback": [
      "\u001b[1;31m---------------------------------------------------------------------------\u001b[0m",
      "\u001b[1;31mIndexError\u001b[0m                                Traceback (most recent call last)",
      "Cell \u001b[1;32mIn[105], line 7\u001b[0m\n\u001b[0;32m      5\u001b[0m \u001b[38;5;28;01mfor\u001b[39;00m i,ele \u001b[38;5;129;01min\u001b[39;00m \u001b[38;5;28menumerate\u001b[39m(dic):\n\u001b[0;32m      6\u001b[0m     \u001b[38;5;28;01mif\u001b[39;00m i\u001b[38;5;241m==\u001b[39mindex:\n\u001b[1;32m----> 7\u001b[0m         \u001b[38;5;28mdict\u001b[39m[keys[index]]\u001b[38;5;241m=\u001b[39melement\n\u001b[0;32m      8\u001b[0m \u001b[38;5;28mprint\u001b[39m(dic)\n",
      "\u001b[1;31mIndexError\u001b[0m: list assignment index out of range"
     ]
    }
   ],
   "source": [
    "dic={1:\"Hello\",2:\"Hi\",4:\"byee\"}\n",
    "index=int(input(\"Enter a index value\"))\n",
    "element=input(\"Enter a elements\")\n",
    "keys=list(dic.keys())\n",
    "for i,ele in enumerate(dic):\n",
    "    if i==index:\n",
    "        dict[keys[index]]=element\n",
    "print(dic)"
   ]
  },
  {
   "cell_type": "code",
   "execution_count": 115,
   "id": "2b4b6468-3551-4cfd-8e66-73a8117f685d",
   "metadata": {},
   "outputs": [
    {
     "name": "stdin",
     "output_type": "stream",
     "text": [
      "Enter an index value:  2\n",
      "Enter an element:  fhg\n"
     ]
    },
    {
     "ename": "TypeError",
     "evalue": "'dict' object is not callable",
     "output_type": "error",
     "traceback": [
      "\u001b[1;31m---------------------------------------------------------------------------\u001b[0m",
      "\u001b[1;31mTypeError\u001b[0m                                 Traceback (most recent call last)",
      "Cell \u001b[1;32mIn[115], line 9\u001b[0m\n\u001b[0;32m      7\u001b[0m     \u001b[38;5;28;01mif\u001b[39;00m i\u001b[38;5;241m==\u001b[39mindex:\n\u001b[0;32m      8\u001b[0m         items\u001b[38;5;241m.\u001b[39minsert(index, (element, \u001b[38;5;124m'\u001b[39m\u001b[38;5;124m'\u001b[39m))\n\u001b[1;32m----> 9\u001b[0m new \u001b[38;5;241m=\u001b[39m \u001b[38;5;28mdict\u001b[39m(items)\n\u001b[0;32m     10\u001b[0m \u001b[38;5;28mprint\u001b[39m(new)\n",
      "\u001b[1;31mTypeError\u001b[0m: 'dict' object is not callable"
     ]
    }
   ],
   "source": [
    "dict={1:\"Hello\",2:\"Hi\",4:\"byee\"}\n",
    "index=int(input(\"Enter an index value: \"))\n",
    "element=input(\"Enter an element: \")\n",
    "items = list(dict.items())\n",
    "new={}\n",
    "for i in enumerate(items):\n",
    "    if i==index:\n",
    "        items.insert(index, (element, ''))\n",
    "new = dict(items)\n",
    "print(new)"
   ]
  },
  {
   "cell_type": "markdown",
   "id": "9ce6fa4a-5200-45b2-8b0a-ce2cfdde8fa9",
   "metadata": {},
   "source": [
    "NEXT "
   ]
  },
  {
   "cell_type": "code",
   "execution_count": 149,
   "id": "043a2d6b-c3ba-41e3-84e6-7b0cf0c80e4b",
   "metadata": {},
   "outputs": [
    {
     "name": "stdout",
     "output_type": "stream",
     "text": [
      "My list:(0, 'A')\n"
     ]
    }
   ],
   "source": [
    "l=[\"A\",\"B\",\"C\",\"D\"]\n",
    "a=enumerate(l)\n",
    "a1=next(a)\n",
    "print(f\"My list:{a1}\")"
   ]
  },
  {
   "cell_type": "code",
   "execution_count": 147,
   "id": "bded3aea-188e-47f1-baad-9c0aa8b54aeb",
   "metadata": {},
   "outputs": [
    {
     "name": "stdout",
     "output_type": "stream",
     "text": [
      "My list:(0, 'A')\n",
      "My list:(1, 'B')\n",
      "My list:(2, 'C')\n",
      "My list:(3, 'D')\n"
     ]
    }
   ],
   "source": [
    "l=[\"A\",\"B\",\"C\",\"D\"]\n",
    "a=enumerate(l)\n",
    "for i in l:\n",
    "    a1=next(a)\n",
    "    print(f\"My list:{a1}\")"
   ]
  },
  {
   "cell_type": "code",
   "execution_count": null,
   "id": "a474e767-19fe-4ad1-b843-71e003bb5ecd",
   "metadata": {},
   "outputs": [],
   "source": [
    "fruits=['apple','banana','cherry']\n",
    "enum_fruits=enumerate(fruits)\n",
    "next_ele=next(enum_fruits)\n",
    "print"
   ]
  },
  {
   "cell_type": "code",
   "execution_count": 191,
   "id": "0af54503-cee0-4744-89a9-f7cf5db2ae2b",
   "metadata": {},
   "outputs": [
    {
     "name": "stdin",
     "output_type": "stream",
     "text": [
      "Enter a string  I,am,Learning\n"
     ]
    },
    {
     "name": "stdout",
     "output_type": "stream",
     "text": [
      "['I', 'am', 'Learning']-[1, 2, 8]\n"
     ]
    }
   ],
   "source": [
    "a=input(\"Enter a string \").split(',')\n",
    "x=[len(i) for i in a]\n",
    "print(f\"{a}-{x}\")"
   ]
  },
  {
   "cell_type": "code",
   "execution_count": 242,
   "id": "7c38e9b0-55a7-4466-9fb4-17fdf11010de",
   "metadata": {},
   "outputs": [
    {
     "name": "stdin",
     "output_type": "stream",
     "text": [
      "Enter a string  i,am,learning,is,in\n"
     ]
    },
    {
     "name": "stdout",
     "output_type": "stream",
     "text": [
      "[(1, 'i'), (2, 'am'), (8, 'learning'), (2, 'is'), (2, 'in')]\n",
      "(1, 'i')\n",
      "(2, 'am')\n",
      "(8, 'learning')\n",
      "(2, 'is')\n",
      "(2, 'in')\n"
     ]
    }
   ],
   "source": [
    "a=input(\"Enter a string \").split(',')\n",
    "x=[(len(i),i) for i in a]\n",
    "print(x)\n",
    "for i in x:\n",
    "    print(i)"
   ]
  },
  {
   "cell_type": "code",
   "execution_count": 246,
   "id": "0df18e25-bb45-495e-8a8a-3d6c0ba4128a",
   "metadata": {},
   "outputs": [
    {
     "name": "stdin",
     "output_type": "stream",
     "text": [
      "Enter a string  i,am,learninh\n"
     ]
    },
    {
     "ename": "TypeError",
     "evalue": "'dict' object is not callable",
     "output_type": "error",
     "traceback": [
      "\u001b[1;31m---------------------------------------------------------------------------\u001b[0m",
      "\u001b[1;31mTypeError\u001b[0m                                 Traceback (most recent call last)",
      "Cell \u001b[1;32mIn[246], line 3\u001b[0m\n\u001b[0;32m      1\u001b[0m a\u001b[38;5;241m=\u001b[39m\u001b[38;5;28minput\u001b[39m(\u001b[38;5;124m\"\u001b[39m\u001b[38;5;124mEnter a string \u001b[39m\u001b[38;5;124m\"\u001b[39m)\u001b[38;5;241m.\u001b[39msplit(\u001b[38;5;124m'\u001b[39m\u001b[38;5;124m,\u001b[39m\u001b[38;5;124m'\u001b[39m)\n\u001b[0;32m      2\u001b[0m x\u001b[38;5;241m=\u001b[39m[(\u001b[38;5;28mlen\u001b[39m(i),i) \u001b[38;5;28;01mfor\u001b[39;00m i \u001b[38;5;129;01min\u001b[39;00m a]\n\u001b[1;32m----> 3\u001b[0m y\u001b[38;5;241m=\u001b[39m\u001b[38;5;28mdict\u001b[39m(x)\n\u001b[0;32m      4\u001b[0m \u001b[38;5;28mprint\u001b[39m(y)\n",
      "\u001b[1;31mTypeError\u001b[0m: 'dict' object is not callable"
     ]
    }
   ],
   "source": [
    "a=input(\"Enter a string \").split(',')\n",
    "x=[(len(i),i) for i in a]\n",
    "y=dict(x)\n",
    "print(y)"
   ]
  },
  {
   "cell_type": "code",
   "execution_count": 254,
   "id": "e0926a28-a4a3-49be-bcca-6e2d56f10981",
   "metadata": {},
   "outputs": [
    {
     "name": "stdin",
     "output_type": "stream",
     "text": [
      "Enter a string  233\n"
     ]
    }
   ],
   "source": [
    "a=input(\"Enter a string \").split(',')\n",
    "x=[(len(i),i) for i in a]\n",
    "dic={}\n",
    "for count, ele in x:\n",
    "    pass"
   ]
  },
  {
   "cell_type": "code",
   "execution_count": 3,
   "id": "c7902194-32cf-465f-b3ae-e02d52439f50",
   "metadata": {},
   "outputs": [
    {
     "name": "stdin",
     "output_type": "stream",
     "text": [
      "Enter a string  I,am,String\n"
     ]
    },
    {
     "name": "stdout",
     "output_type": "stream",
     "text": [
      "{1: ['I'], 2: ['am'], 6: ['String']}\n"
     ]
    }
   ],
   "source": [
    "a=input(\"Enter a string \").split(',')\n",
    "x=[(len(i),i) for i in a]\n",
    "dic={}\n",
    "for length,ele in x:\n",
    "    if length not in dic:\n",
    "        dic[length]=[]\n",
    "        dic[length].append(ele)\n",
    "    else: dic[length].append(ele)\n",
    "print(dic)"
   ]
  },
  {
   "cell_type": "markdown",
   "id": "c1ed2aba-700d-4752-ac48-b6a5501fe61b",
   "metadata": {},
   "source": [
    "Function:"
   ]
  },
  {
   "cell_type": "markdown",
   "id": "6537bad8-a4cf-4811-a843-94b94800971f",
   "metadata": {},
   "source": [
    "function without argument"
   ]
  },
  {
   "cell_type": "code",
   "execution_count": 5,
   "id": "0d6e107e-20fe-49ee-84b8-38b1a7302323",
   "metadata": {},
   "outputs": [
    {
     "name": "stdin",
     "output_type": "stream",
     "text": [
      " 1\n",
      " 2\n"
     ]
    },
    {
     "name": "stdout",
     "output_type": "stream",
     "text": [
      "3\n"
     ]
    }
   ],
   "source": [
    "a=int(input())\n",
    "b=int(input())\n",
    "def add():\n",
    "    print(a+b)\n",
    "add()"
   ]
  },
  {
   "cell_type": "markdown",
   "id": "d1620b77-c20f-41e5-9990-44067b3f86ff",
   "metadata": {},
   "source": [
    "function with argument and without  return type"
   ]
  },
  {
   "cell_type": "code",
   "execution_count": 7,
   "id": "886edcf5-9749-4491-91be-cad6e1671bbc",
   "metadata": {},
   "outputs": [
    {
     "name": "stdin",
     "output_type": "stream",
     "text": [
      " 3\n",
      " 4\n"
     ]
    },
    {
     "name": "stdout",
     "output_type": "stream",
     "text": [
      "7\n"
     ]
    }
   ],
   "source": [
    "a=int(input())\n",
    "b=int(input())\n",
    "def add(a,b):\n",
    "    print(a+b)\n",
    "add(a,b)"
   ]
  },
  {
   "cell_type": "markdown",
   "id": "4aa3bcf7-7e90-429f-b4e2-8d5d90f4ec78",
   "metadata": {},
   "source": [
    "function with argument and with return type"
   ]
  },
  {
   "cell_type": "code",
   "execution_count": 9,
   "id": "64241ca8-b6af-4f22-b538-33cab7811e61",
   "metadata": {},
   "outputs": [
    {
     "name": "stdin",
     "output_type": "stream",
     "text": [
      " 1\n",
      " 2\n"
     ]
    },
    {
     "name": "stdout",
     "output_type": "stream",
     "text": [
      "3\n"
     ]
    }
   ],
   "source": [
    "a=int(input())\n",
    "b=int(input())\n",
    "def add(a,b):\n",
    "    c=a+b\n",
    "    return c\n",
    "print(add(a,b))"
   ]
  },
  {
   "cell_type": "code",
   "execution_count": 11,
   "id": "6ec43041-619c-4a8a-844c-505830a30a57",
   "metadata": {},
   "outputs": [
    {
     "name": "stdin",
     "output_type": "stream",
     "text": [
      " 34\n",
      " 23\n"
     ]
    },
    {
     "name": "stdout",
     "output_type": "stream",
     "text": [
      "57\n",
      "11\n"
     ]
    }
   ],
   "source": [
    "def add():\n",
    "    c=a+b\n",
    "    print(c)\n",
    "def sub():\n",
    "    d=a-b\n",
    "    print(d)\n",
    "a=int(input(\"Enter a no1\"))\n",
    "b=int(input(\"ENter a no.2\"))\n",
    "add()\n",
    "sub()"
   ]
  },
  {
   "cell_type": "code",
   "execution_count": null,
   "id": "7270c4b3-8a12-4e26-8628-89f0e30391e7",
   "metadata": {},
   "outputs": [],
   "source": [
    "positional argument"
   ]
  },
  {
   "cell_type": "code",
   "execution_count": 13,
   "id": "397f95dd-6a73-46ba-b27f-e3021816a3c9",
   "metadata": {},
   "outputs": [
    {
     "name": "stdout",
     "output_type": "stream",
     "text": [
      "7 4 3\n",
      "-1\n"
     ]
    }
   ],
   "source": [
    "def add(a,b):\n",
    "    c=a+b\n",
    "    print(c,a,b)\n",
    "def sub():\n",
    "    d=a-b\n",
    "    print(d)\n",
    "a=3\n",
    "b=4\n",
    "add(4,3)\n",
    "sub()"
   ]
  },
  {
   "cell_type": "markdown",
   "id": "8558b16f-19a0-46ec-ad96-b98d062c088e",
   "metadata": {},
   "source": [
    "keyword argument"
   ]
  },
  {
   "cell_type": "code",
   "execution_count": 3,
   "id": "c6f84614-a47d-4888-b155-150aaead75dc",
   "metadata": {},
   "outputs": [
    {
     "name": "stdout",
     "output_type": "stream",
     "text": [
      "15\n"
     ]
    }
   ],
   "source": [
    "def add(a,b):\n",
    "    print(a+b)\n",
    "a=9\n",
    "b=89\n",
    "add(a=7,b=8)"
   ]
  },
  {
   "cell_type": "markdown",
   "id": "57ef564f-80a1-4818-b4be-dbed28e38d7e",
   "metadata": {},
   "source": [
    "default argument"
   ]
  },
  {
   "cell_type": "code",
   "execution_count": 15,
   "id": "0ca0231e-b8ff-40db-b108-b892a722b04d",
   "metadata": {},
   "outputs": [
    {
     "name": "stdout",
     "output_type": "stream",
     "text": [
      "7\n"
     ]
    }
   ],
   "source": [
    "def add(a,b=4):\n",
    "    print(a+b)\n",
    "add(3)"
   ]
  },
  {
   "cell_type": "markdown",
   "id": "99e48408-eaf5-4041-9aab-f06df840a7ea",
   "metadata": {},
   "source": [
    "variable argument"
   ]
  },
  {
   "cell_type": "code",
   "execution_count": 17,
   "id": "32cfe4c6-c7b6-4f3f-8413-23dee86f4fa6",
   "metadata": {},
   "outputs": [
    {
     "name": "stdin",
     "output_type": "stream",
     "text": [
      "Enter a string :  Hello I Am Learning python\n"
     ]
    },
    {
     "name": "stdout",
     "output_type": "stream",
     "text": [
      "Hello I Am Learning python\n"
     ]
    }
   ],
   "source": [
    "def vary(*argv):\n",
    "    for i in argv:\n",
    "        print(i)\n",
    "s=input(\"Enter a string :\")\n",
    "vary(s)"
   ]
  },
  {
   "cell_type": "code",
   "execution_count": 21,
   "id": "c7c55617-1cb0-4816-b4fc-3c4edfb567d2",
   "metadata": {},
   "outputs": [
    {
     "name": "stdout",
     "output_type": "stream",
     "text": [
      "10\n"
     ]
    }
   ],
   "source": [
    "def vary(*argv):\n",
    "    s=a+b+c+d\n",
    "    print(s)\n",
    "a=1\n",
    "b=2\n",
    "c=3\n",
    "d=4\n",
    "vary(a,b,c,d)"
   ]
  },
  {
   "cell_type": "code",
   "execution_count": 33,
   "id": "87455dea-4e22-4293-9c7b-3f7e0826aa8f",
   "metadata": {},
   "outputs": [
    {
     "name": "stdout",
     "output_type": "stream",
     "text": [
      "(1, 2, 3, 4)\n"
     ]
    }
   ],
   "source": [
    "def vary(*argv):\n",
    "    print(argv)\n",
    "a=1\n",
    "b=2\n",
    "c=3\n",
    "d=4\n",
    "vary(a,b,c,d)"
   ]
  },
  {
   "cell_type": "markdown",
   "id": "06c68356-8d48-4ed6-bcdc-c8f28e84aedf",
   "metadata": {},
   "source": [
    "Keywords with variable length"
   ]
  },
  {
   "cell_type": "code",
   "execution_count": 23,
   "id": "0a875818-c294-4fb0-8339-a8cf754858e5",
   "metadata": {},
   "outputs": [
    {
     "name": "stdout",
     "output_type": "stream",
     "text": [
      "sub==>Python\n",
      "typ==>training\n",
      "tas==>program\n"
     ]
    }
   ],
   "source": [
    "def ka(**kwargs):\n",
    "    for i,j in kwargs.items():\n",
    "        print(i+\"==>\"+j)\n",
    "ka(sub=\"Python\",typ=\"training\",tas=\"program\")"
   ]
  },
  {
   "cell_type": "code",
   "execution_count": 37,
   "id": "a378a33b-f4b5-4073-9c65-8773b0c9a293",
   "metadata": {},
   "outputs": [
    {
     "name": "stdout",
     "output_type": "stream",
     "text": [
      "6\n"
     ]
    }
   ],
   "source": [
    "def sum(*args):\n",
    "    res = 0\n",
    "    for x in args:\n",
    "        res += x\n",
    "    return res\n",
    "list1 = [1, 2, 3]\n",
    "print(sum(*list1))"
   ]
  },
  {
   "cell_type": "code",
   "execution_count": 53,
   "id": "7272afa7-e3b1-424e-be02-adaccabf1bc3",
   "metadata": {},
   "outputs": [
    {
     "name": "stdout",
     "output_type": "stream",
     "text": [
      "2\n",
      "4\n",
      "6\n",
      "None\n"
     ]
    }
   ],
   "source": [
    "def mul(*args):\n",
    "    for i in args:\n",
    "        l=i*2\n",
    "        print(l)\n",
    "l=[1,2,3]\n",
    "print(mul(*l))"
   ]
  },
  {
   "cell_type": "code",
   "execution_count": 13,
   "id": "6aa38293-d80e-44c8-b965-bd0fcf599310",
   "metadata": {},
   "outputs": [
    {
     "name": "stdout",
     "output_type": "stream",
     "text": [
      "2 dsfd\n"
     ]
    }
   ],
   "source": [
    "def add(**kwargs):\n",
    "    print(*kwargs.values())\n",
    "add(a=\"2\",b=\"dsfd\")"
   ]
  },
  {
   "cell_type": "code",
   "execution_count": 25,
   "id": "40e21930-2fb4-460d-b26c-2b81c4a0d9cc",
   "metadata": {},
   "outputs": [
    {
     "name": "stdout",
     "output_type": "stream",
     "text": [
      "a b\n"
     ]
    }
   ],
   "source": [
    "def add(**kwargs):\n",
    "    print(*kwargs)\n",
    "add(a=\"2\",b=\"dsfd\")"
   ]
  },
  {
   "cell_type": "code",
   "execution_count": 29,
   "id": "cb7108df-1484-45dc-9fb1-a77bee720d98",
   "metadata": {},
   "outputs": [
    {
     "name": "stdout",
     "output_type": "stream",
     "text": [
      "a b ==> 2 dsfd\n"
     ]
    }
   ],
   "source": [
    "def add(**kwargs):\n",
    "    print(*kwargs,\"==>\",*kwargs.values())\n",
    "add(a=\"2\",b=\"dsfd\")"
   ]
  },
  {
   "cell_type": "code",
   "execution_count": 45,
   "id": "a50d79c7-7f67-404b-b31a-4ec7208bf981",
   "metadata": {},
   "outputs": [
    {
     "ename": "TypeError",
     "evalue": "add() got an unexpected keyword argument 'b'",
     "output_type": "error",
     "traceback": [
      "\u001b[1;31m---------------------------------------------------------------------------\u001b[0m",
      "\u001b[1;31mTypeError\u001b[0m                                 Traceback (most recent call last)",
      "Cell \u001b[1;32mIn[45], line 5\u001b[0m\n\u001b[0;32m      3\u001b[0m         \u001b[38;5;28mprint\u001b[39m(i\u001b[38;5;241m+\u001b[39mb)\n\u001b[0;32m      4\u001b[0m l\u001b[38;5;241m=\u001b[39m[\u001b[38;5;241m3\u001b[39m,\u001b[38;5;241m4\u001b[39m,\u001b[38;5;241m5\u001b[39m,\u001b[38;5;241m6\u001b[39m]\n\u001b[1;32m----> 5\u001b[0m add(l,b\u001b[38;5;241m=\u001b[39m\u001b[38;5;241m3\u001b[39m)\n",
      "\u001b[1;31mTypeError\u001b[0m: add() got an unexpected keyword argument 'b'"
     ]
    }
   ],
   "source": [
    "def add(*l):\n",
    "    for i in l:\n",
    "        print(i+b)\n",
    "l=[3,4,5,6]\n",
    "add(l,b=3)"
   ]
  },
  {
   "cell_type": "code",
   "execution_count": 49,
   "id": "ed685807-c538-4fcf-b77d-dd45366409af",
   "metadata": {},
   "outputs": [
    {
     "name": "stdout",
     "output_type": "stream",
     "text": [
      "9\n"
     ]
    }
   ],
   "source": [
    "def add(a,b=4):\n",
    "    print(a+b)\n",
    "add(5)"
   ]
  },
  {
   "cell_type": "code",
   "execution_count": 65,
   "id": "85dd2546-bcb8-488e-8774-91e97667eb1b",
   "metadata": {},
   "outputs": [
    {
     "name": "stdout",
     "output_type": "stream",
     "text": [
      "[1, 2, 3, 1, 2, 3, 1, 2, 3, 1, 2, 3]\n"
     ]
    }
   ],
   "source": [
    "def add(*argv,b=4):\n",
    "    for i in argv:\n",
    "        print(i*b)\n",
    "l=[1,2,3]\n",
    "add(l)"
   ]
  },
  {
   "cell_type": "markdown",
   "id": "45ca2c6e-9494-4dd9-ac22-eb038c79703e",
   "metadata": {},
   "source": [
    "lambda"
   ]
  },
  {
   "cell_type": "code",
   "execution_count": 75,
   "id": "0c082e34-1871-4b55-9f1c-76a306b633a7",
   "metadata": {},
   "outputs": [
    {
     "name": "stdout",
     "output_type": "stream",
     "text": [
      "12\n",
      "2\n"
     ]
    }
   ],
   "source": [
    "#without using lambda\n",
    "def add(a,b):\n",
    "    print(a+b)\n",
    "def sub(a,b):\n",
    "    print(a-b)\n",
    "a=7\n",
    "b=5\n",
    "add(a,b)\n",
    "sub(a,b)"
   ]
  },
  {
   "cell_type": "code",
   "execution_count": 73,
   "id": "6c343abd-626b-457d-93ca-e5effb044dec",
   "metadata": {},
   "outputs": [
    {
     "name": "stdout",
     "output_type": "stream",
     "text": [
      "12\n",
      "2\n"
     ]
    }
   ],
   "source": [
    "#with using lambda\n",
    "add=lambda a,b:a+b\n",
    "print(add(a,b))\n",
    "sub=lambda a,b:a-b\n",
    "print(sub(a,b))\n",
    "a=7\n",
    "b=5"
   ]
  },
  {
   "cell_type": "markdown",
   "id": "2bff551a-d3de-4dd9-a8ba-7e7030cc1c0f",
   "metadata": {},
   "source": [
    "filter"
   ]
  },
  {
   "cell_type": "code",
   "execution_count": 85,
   "id": "645362b4-38ff-4fbc-94c8-e7238290cffb",
   "metadata": {},
   "outputs": [
    {
     "name": "stdout",
     "output_type": "stream",
     "text": [
      "The filtered elements are : \n",
      "i\n",
      "a\n"
     ]
    }
   ],
   "source": [
    "def fun(variable):\n",
    "    letters=['a','e','i','o','u']\n",
    "    if(variable in letters):\n",
    "        return True\n",
    "    else:\n",
    "        return False\n",
    "sequence=['g','h','i','t','r','a']\n",
    "filtered=filter(fun,sequence)\n",
    "print(\"The filtered elements are : \")\n",
    "for s in filtered:\n",
    "    print(s)"
   ]
  },
  {
   "cell_type": "markdown",
   "id": "95f348a2-a534-4fff-9bd5-42cc5928d0dd",
   "metadata": {},
   "source": [
    "using function and filter find out the even numbers from a list"
   ]
  },
  {
   "cell_type": "code",
   "execution_count": 87,
   "id": "81993589-f890-47e8-a795-f1c402eef815",
   "metadata": {},
   "outputs": [
    {
     "name": "stdout",
     "output_type": "stream",
     "text": [
      "2\n",
      "4\n"
     ]
    }
   ],
   "source": [
    "def check(*argv):\n",
    "    for i in argv:\n",
    "        if i%2==0:\n",
    "            return True\n",
    "        else:\n",
    "            return False\n",
    "list=[1,2,3,4,5,7]\n",
    "filtered=filter(check,list)\n",
    "for s in filtered:\n",
    "    print(s)"
   ]
  },
  {
   "cell_type": "markdown",
   "id": "c44fb449-a16a-4996-aed6-4bcaef67f292",
   "metadata": {},
   "source": [
    "find out all the numbers which are divisble by 3 and 2 from 1 to 1000"
   ]
  },
  {
   "cell_type": "code",
   "execution_count": 89,
   "id": "58886e2c-bff4-444e-a169-21a54d1a8da5",
   "metadata": {},
   "outputs": [
    {
     "name": "stdout",
     "output_type": "stream",
     "text": [
      "6\n",
      "12\n",
      "18\n",
      "24\n",
      "30\n",
      "36\n",
      "42\n",
      "48\n",
      "54\n",
      "60\n",
      "66\n",
      "72\n",
      "78\n",
      "84\n",
      "90\n",
      "96\n",
      "102\n",
      "108\n",
      "114\n",
      "120\n",
      "126\n",
      "132\n",
      "138\n",
      "144\n",
      "150\n",
      "156\n",
      "162\n",
      "168\n",
      "174\n",
      "180\n",
      "186\n",
      "192\n",
      "198\n",
      "204\n",
      "210\n",
      "216\n",
      "222\n",
      "228\n",
      "234\n",
      "240\n",
      "246\n",
      "252\n",
      "258\n",
      "264\n",
      "270\n",
      "276\n",
      "282\n",
      "288\n",
      "294\n",
      "300\n",
      "306\n",
      "312\n",
      "318\n",
      "324\n",
      "330\n",
      "336\n",
      "342\n",
      "348\n",
      "354\n",
      "360\n",
      "366\n",
      "372\n",
      "378\n",
      "384\n",
      "390\n",
      "396\n",
      "402\n",
      "408\n",
      "414\n",
      "420\n",
      "426\n",
      "432\n",
      "438\n",
      "444\n",
      "450\n",
      "456\n",
      "462\n",
      "468\n",
      "474\n",
      "480\n",
      "486\n",
      "492\n",
      "498\n",
      "504\n",
      "510\n",
      "516\n",
      "522\n",
      "528\n",
      "534\n",
      "540\n",
      "546\n",
      "552\n",
      "558\n",
      "564\n",
      "570\n",
      "576\n",
      "582\n",
      "588\n",
      "594\n",
      "600\n",
      "606\n",
      "612\n",
      "618\n",
      "624\n",
      "630\n",
      "636\n",
      "642\n",
      "648\n",
      "654\n",
      "660\n",
      "666\n",
      "672\n",
      "678\n",
      "684\n",
      "690\n",
      "696\n",
      "702\n",
      "708\n",
      "714\n",
      "720\n",
      "726\n",
      "732\n",
      "738\n",
      "744\n",
      "750\n",
      "756\n",
      "762\n",
      "768\n",
      "774\n",
      "780\n",
      "786\n",
      "792\n",
      "798\n",
      "804\n",
      "810\n",
      "816\n",
      "822\n",
      "828\n",
      "834\n",
      "840\n",
      "846\n",
      "852\n",
      "858\n",
      "864\n",
      "870\n",
      "876\n",
      "882\n",
      "888\n",
      "894\n",
      "900\n",
      "906\n",
      "912\n",
      "918\n",
      "924\n",
      "930\n",
      "936\n",
      "942\n",
      "948\n",
      "954\n",
      "960\n",
      "966\n",
      "972\n",
      "978\n",
      "984\n",
      "990\n",
      "996\n"
     ]
    }
   ],
   "source": [
    "for i in range(1,1001):\n",
    "    if(i%2==0 and i%3==0):\n",
    "        print(i)"
   ]
  },
  {
   "cell_type": "code",
   "execution_count": 91,
   "id": "7be51995-15bc-4f6b-915d-9d22bd4392e0",
   "metadata": {},
   "outputs": [
    {
     "name": "stdin",
     "output_type": "stream",
     "text": [
      "Enter a start: 1\n",
      "Enter a end: 1000\n"
     ]
    }
   ],
   "source": [
    "def div(*argv):\n",
    "    for i in argv:\n",
    "        if a%2==0 and a%3==0:\n",
    "            return True\n",
    "        else:\n",
    "            return False\n",
    "a=int(input(\"Enter a start:\"))\n",
    "b=int(input(\"Enter a end:\"))\n",
    "l=[]\n",
    "for i in range(a,b):\n",
    "    l.append(i)\n",
    "filtered=filter(div,l)\n",
    "for s in filtered:\n",
    "    print(s)"
   ]
  },
  {
   "cell_type": "markdown",
   "id": "7353782e-5f57-4761-a560-63fdd80fbc2b",
   "metadata": {},
   "source": [
    "Write down a function to find a string  and no is palindrome or not present in list for all emements"
   ]
  },
  {
   "cell_type": "code",
   "execution_count": 111,
   "id": "7804e909-96e3-4984-b593-ca579e489f4a",
   "metadata": {},
   "outputs": [
    {
     "ename": "TypeError",
     "evalue": "list indices must be integers or slices, not list",
     "output_type": "error",
     "traceback": [
      "\u001b[1;31m---------------------------------------------------------------------------\u001b[0m",
      "\u001b[1;31mTypeError\u001b[0m                                 Traceback (most recent call last)",
      "Cell \u001b[1;32mIn[111], line 7\u001b[0m\n\u001b[0;32m      5\u001b[0m         \u001b[38;5;28;01melse\u001b[39;00m:\n\u001b[0;32m      6\u001b[0m             \u001b[38;5;28mprint\u001b[39m(\u001b[38;5;124m\"\u001b[39m\u001b[38;5;124mFalse\u001b[39m\u001b[38;5;124m\"\u001b[39m)\n\u001b[1;32m----> 7\u001b[0m numcheck(l)\n\u001b[0;32m      8\u001b[0m l\u001b[38;5;241m=\u001b[39m[]\n\u001b[0;32m      9\u001b[0m a\u001b[38;5;241m=\u001b[39m\u001b[38;5;28mint\u001b[39m(\u001b[38;5;28minput\u001b[39m())\n",
      "Cell \u001b[1;32mIn[111], line 3\u001b[0m, in \u001b[0;36mnumcheck\u001b[1;34m(*argv)\u001b[0m\n\u001b[0;32m      1\u001b[0m \u001b[38;5;28;01mdef\u001b[39;00m \u001b[38;5;21mnumcheck\u001b[39m(\u001b[38;5;241m*\u001b[39margv):\n\u001b[0;32m      2\u001b[0m     \u001b[38;5;28;01mfor\u001b[39;00m i \u001b[38;5;129;01min\u001b[39;00m argv:\n\u001b[1;32m----> 3\u001b[0m         \u001b[38;5;28;01mif\u001b[39;00m l[i]\u001b[38;5;241m==\u001b[39ml[i[::\u001b[38;5;241m-\u001b[39m\u001b[38;5;241m1\u001b[39m]]:\n\u001b[0;32m      4\u001b[0m             \u001b[38;5;28mprint\u001b[39m(\u001b[38;5;124m\"\u001b[39m\u001b[38;5;124mTrue\u001b[39m\u001b[38;5;124m\"\u001b[39m)\n\u001b[0;32m      5\u001b[0m         \u001b[38;5;28;01melse\u001b[39;00m:\n",
      "\u001b[1;31mTypeError\u001b[0m: list indices must be integers or slices, not list"
     ]
    }
   ],
   "source": [
    "def numcheck(*argv):\n",
    "    for i in argv:\n",
    "        if l[i]==l[i[::-1]]:\n",
    "            print(\"True\")\n",
    "        else:\n",
    "            print(\"False\")\n",
    "l=[]\n",
    "a=int(input())\n",
    "for i in range(a):\n",
    "    s=input()\n",
    "    l.append(s)\n",
    "print(l)\n"
   ]
  },
  {
   "cell_type": "code",
   "execution_count": 113,
   "id": "553ae380-02c8-42d7-bd73-4ca0913b4d52",
   "metadata": {},
   "outputs": [
    {
     "name": "stdout",
     "output_type": "stream",
     "text": [
      "No\n"
     ]
    }
   ],
   "source": [
    "l=[1,2,4]\n",
    "if(l==l[::-1]):\n",
    "    print(\"yes\")\n",
    "else:\n",
    "    print(\"No\")"
   ]
  },
  {
   "cell_type": "code",
   "execution_count": 109,
   "id": "ede64ea4-8e8b-4074-aaf5-8141fabb0cd1",
   "metadata": {},
   "outputs": [
    {
     "ename": "TypeError",
     "evalue": "'int' object is not subscriptable",
     "output_type": "error",
     "traceback": [
      "\u001b[1;31m---------------------------------------------------------------------------\u001b[0m",
      "\u001b[1;31mTypeError\u001b[0m                                 Traceback (most recent call last)",
      "Cell \u001b[1;32mIn[109], line 3\u001b[0m\n\u001b[0;32m      1\u001b[0m l\u001b[38;5;241m=\u001b[39m[\u001b[38;5;241m1\u001b[39m,\u001b[38;5;241m2\u001b[39m,\u001b[38;5;241m4\u001b[39m]\n\u001b[0;32m      2\u001b[0m \u001b[38;5;28;01mfor\u001b[39;00m i \u001b[38;5;129;01min\u001b[39;00m l:\n\u001b[1;32m----> 3\u001b[0m     \u001b[38;5;28;01mif\u001b[39;00m l[i]\u001b[38;5;241m==\u001b[39ml[i[::\u001b[38;5;241m-\u001b[39m\u001b[38;5;241m1\u001b[39m]]:\n\u001b[0;32m      4\u001b[0m         \u001b[38;5;28;01mpass\u001b[39;00m\n\u001b[0;32m      5\u001b[0m         \u001b[38;5;28mprint\u001b[39m(\u001b[38;5;124m\"\u001b[39m\u001b[38;5;124mTrue\u001b[39m\u001b[38;5;124m\"\u001b[39m)\n",
      "\u001b[1;31mTypeError\u001b[0m: 'int' object is not subscriptable"
     ]
    }
   ],
   "source": [
    "l=[1,2,4]\n",
    "for i in l:\n",
    "    if l[i]==l[i[::-1]]:\n",
    "        print(\"True\")\n",
    "    else:\n",
    "        print(\"False\")"
   ]
  },
  {
   "cell_type": "code",
   "execution_count": 119,
   "id": "7d6826c1-26b5-44a8-9c5f-2fdfdee3105f",
   "metadata": {},
   "outputs": [
    {
     "name": "stdout",
     "output_type": "stream",
     "text": [
      "Yes\n"
     ]
    }
   ],
   "source": [
    "def check(s):\n",
    "    if(s==s[::-1]):\n",
    "        print(\"Yes\")\n",
    "    else:\n",
    "        print(\"No\")\n",
    "check(\"madam\")"
   ]
  },
  {
   "cell_type": "code",
   "execution_count": 127,
   "id": "0200e805-e9e3-43af-95fa-78a30894d7a2",
   "metadata": {},
   "outputs": [
    {
     "name": "stdin",
     "output_type": "stream",
     "text": [
      " madam\n",
      " abs\n",
      " 232\n",
      " 456\n"
     ]
    },
    {
     "ename": "TypeError",
     "evalue": "list indices must be integers or slices, not str",
     "output_type": "error",
     "traceback": [
      "\u001b[1;31m---------------------------------------------------------------------------\u001b[0m",
      "\u001b[1;31mTypeError\u001b[0m                                 Traceback (most recent call last)",
      "Cell \u001b[1;32mIn[127], line 6\u001b[0m\n\u001b[0;32m      4\u001b[0m     l\u001b[38;5;241m.\u001b[39mappend(a)\n\u001b[0;32m      5\u001b[0m \u001b[38;5;28;01mfor\u001b[39;00m i \u001b[38;5;129;01min\u001b[39;00m l:\n\u001b[1;32m----> 6\u001b[0m     \u001b[38;5;28;01mif\u001b[39;00m(l[i]\u001b[38;5;241m==\u001b[39ml[i][::\u001b[38;5;241m-\u001b[39m\u001b[38;5;241m1\u001b[39m]):\n\u001b[0;32m      7\u001b[0m         \u001b[38;5;28mprint\u001b[39m(\u001b[38;5;124m\"\u001b[39m\u001b[38;5;124mYes\u001b[39m\u001b[38;5;124m\"\u001b[39m)\n\u001b[0;32m      8\u001b[0m     \u001b[38;5;28;01melse\u001b[39;00m:\n",
      "\u001b[1;31mTypeError\u001b[0m: list indices must be integers or slices, not str"
     ]
    }
   ],
   "source": [
    "l=[]\n",
    "for i in range(4):\n",
    "    a=input()\n",
    "    l.append(a)\n",
    "for i in l:\n",
    "    if(l[i]==l[i][::-1]):\n",
    "        print(\"Yes\")\n",
    "    else:\n",
    "        print(\"No\")"
   ]
  },
  {
   "cell_type": "code",
   "execution_count": 137,
   "id": "d93c1200-3146-4086-8ef7-fac2abfcc589",
   "metadata": {},
   "outputs": [
    {
     "name": "stdin",
     "output_type": "stream",
     "text": [
      " madam\n",
      " aba\n",
      " 121\n",
      " 12321\n"
     ]
    },
    {
     "name": "stdout",
     "output_type": "stream",
     "text": [
      "['madam', 'aba', '121', '12321']\n",
      "121 No\n",
      "12321 No\n",
      "Digit palindrome: ['121', '12321']\n",
      "String palindrome: ['madam', 'aba']\n"
     ]
    }
   ],
   "source": [
    "l=[]\n",
    "l1=[]\n",
    "l2=[]\n",
    "for i in range(4):\n",
    "    a=input()\n",
    "    l.append(a)\n",
    "print(l)\n",
    "for x in l:\n",
    "    org = x\n",
    "    rev = org[::-1]\n",
    "    if org == rev and x.isdigit():\n",
    "        l1.append(x)\n",
    "    if org == rev and x.isalpha():\n",
    "        l2.append(x)\n",
    "    else:\n",
    "        print(x,\"No\")\n",
    "print(\"Digit palindrome:\",l1)\n",
    "print(\"String palindrome:\",l2)"
   ]
  },
  {
   "cell_type": "code",
   "execution_count": 147,
   "id": "6067b1ee-8ffa-4233-b5b4-e94d9c55214e",
   "metadata": {},
   "outputs": [
    {
     "name": "stdin",
     "output_type": "stream",
     "text": [
      " aba\n",
      " madam\n",
      " shruti\n",
      " 123\n"
     ]
    },
    {
     "name": "stdout",
     "output_type": "stream",
     "text": [
      "['aba', 'madam', 'shruti', '123'] No\n",
      "Digit palindrome: []\n",
      "String palindrome: []\n"
     ]
    }
   ],
   "source": [
    "def check(*argv):\n",
    "   for x in argv:\n",
    "       org = x\n",
    "       rev = org[::-1]\n",
    "       if org == rev and x.isdigit():\n",
    "           l1.append(x)\n",
    "       if org == rev and x.isalpha():\n",
    "           l2.append(x)\n",
    "       else:\n",
    "           print(x,\"No\")\n",
    "l=[]\n",
    "l1=[]\n",
    "l2=[]\n",
    "for i in range(4):\n",
    "    a=input()\n",
    "    l.append(a)\n",
    "check(l)\n",
    "print(\"Digit palindrome:\",l1)\n",
    "print(\"String palindrome:\",l2)"
   ]
  }
 ],
 "metadata": {
  "kernelspec": {
   "display_name": "Python 3 (ipykernel)",
   "language": "python",
   "name": "python3"
  },
  "language_info": {
   "codemirror_mode": {
    "name": "ipython",
    "version": 3
   },
   "file_extension": ".py",
   "mimetype": "text/x-python",
   "name": "python",
   "nbconvert_exporter": "python",
   "pygments_lexer": "ipython3",
   "version": "3.12.4"
  }
 },
 "nbformat": 4,
 "nbformat_minor": 5
}
