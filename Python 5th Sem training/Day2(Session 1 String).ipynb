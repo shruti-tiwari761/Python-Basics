{
 "cells": [
  {
   "cell_type": "code",
   "execution_count": 1,
   "id": "dfe48cf3-81f3-4d86-837e-8d5c96c5fccc",
   "metadata": {},
   "outputs": [
    {
     "name": "stdout",
     "output_type": "stream",
     "text": [
      "615\n"
     ]
    }
   ],
   "source": [
    "n=\"5\"\n",
    "print(int(n)+int(2*n)+int(3*n))"
   ]
  },
  {
   "cell_type": "markdown",
   "id": "62af2183-42d7-4bd6-b953-98a1bc0590e3",
   "metadata": {},
   "source": [
    "Slicing"
   ]
  },
  {
   "cell_type": "markdown",
   "id": "ea5fe24b-8c0f-493d-888f-042650c85229",
   "metadata": {},
   "source": [
    "Negative Slicing"
   ]
  },
  {
   "cell_type": "code",
   "execution_count": 22,
   "id": "bc9d7210-b878-4ebe-bb71-7fc563ea579b",
   "metadata": {},
   "outputs": [
    {
     "name": "stdout",
     "output_type": "stream",
     "text": [
      "\n"
     ]
    }
   ],
   "source": [
    "x=\"Python Learning\"\n",
    "print(x[-1:-2])"
   ]
  },
  {
   "cell_type": "code",
   "execution_count": 32,
   "id": "0fdf2558-a698-41ca-9447-173f1ab81cc4",
   "metadata": {},
   "outputs": [
    {
     "name": "stdout",
     "output_type": "stream",
     "text": [
      "n\n"
     ]
    }
   ],
   "source": [
    "x=\"Python Learning\"\n",
    "y=x[-2:-1]\n",
    "print(y)"
   ]
  },
  {
   "cell_type": "code",
   "execution_count": 44,
   "id": "40133467-e86d-4a86-b3e9-0ebcfbb1a9df",
   "metadata": {},
   "outputs": [
    {
     "name": "stdout",
     "output_type": "stream",
     "text": [
      "ty\n"
     ]
    }
   ],
   "source": [
    "x=\"Python Learning\"\n",
    "print(x[2:-15:-1])"
   ]
  },
  {
   "cell_type": "code",
   "execution_count": 50,
   "id": "29efc3cf-87ff-47bf-a889-c8254f9dca94",
   "metadata": {},
   "outputs": [
    {
     "data": {
      "text/plain": [
       "''"
      ]
     },
     "execution_count": 50,
     "metadata": {},
     "output_type": "execute_result"
    }
   ],
   "source": [
    "x=\"Python Learning\"\n",
    "x[4:6:-1]"
   ]
  },
  {
   "cell_type": "code",
   "execution_count": 58,
   "id": "16033151-d61f-46e0-9306-4265d18c723a",
   "metadata": {},
   "outputs": [
    {
     "data": {
      "text/plain": [
       "''"
      ]
     },
     "execution_count": 58,
     "metadata": {},
     "output_type": "execute_result"
    }
   ],
   "source": [
    "x=\"Python Learning\"\n",
    "x[-12:6:-2]"
   ]
  },
  {
   "cell_type": "code",
   "execution_count": 70,
   "id": "ecc80ec3-d92e-4640-80fd-42c428e1c98f",
   "metadata": {},
   "outputs": [
    {
     "data": {
      "text/plain": [
       "'ython '"
      ]
     },
     "execution_count": 70,
     "metadata": {},
     "output_type": "execute_result"
    }
   ],
   "source": [
    "x=\"Python Learning\"\n",
    "x[-14:7:-1]"
   ]
  },
  {
   "cell_type": "code",
   "execution_count": null,
   "id": "bbd98b7b-a3f1-4094-b06d-c7758b60a235",
   "metadata": {},
   "outputs": [],
   "source": [
    "x=\"Python Learning\"\n",
    "x[-14:7:-1]"
   ]
  },
  {
   "cell_type": "markdown",
   "id": "3a372808-624d-4b12-b123-1ded4b7add84",
   "metadata": {},
   "source": [
    "Positive"
   ]
  },
  {
   "cell_type": "code",
   "execution_count": 38,
   "id": "b16a69d0-8f93-4da0-9d6e-7de0f83d26bf",
   "metadata": {},
   "outputs": [
    {
     "data": {
      "text/plain": [
       "'yh'"
      ]
     },
     "execution_count": 38,
     "metadata": {},
     "output_type": "execute_result"
    }
   ],
   "source": [
    "x=\"Python Learning\"\n",
    "x[1:4:2]"
   ]
  },
  {
   "cell_type": "code",
   "execution_count": 48,
   "id": "6d940b0d-8f5a-4692-a9ca-297ac8b25d3d",
   "metadata": {},
   "outputs": [
    {
     "data": {
      "text/plain": [
       "'on'"
      ]
     },
     "execution_count": 48,
     "metadata": {},
     "output_type": "execute_result"
    }
   ],
   "source": [
    "x=\"Python Learning\"\n",
    "x[4:6]"
   ]
  },
  {
   "cell_type": "code",
   "execution_count": 60,
   "id": "e5a552f1-4f4d-4ff1-925a-2690e746bcf9",
   "metadata": {},
   "outputs": [
    {
     "data": {
      "text/plain": [
       "'hn'"
      ]
     },
     "execution_count": 60,
     "metadata": {},
     "output_type": "execute_result"
    }
   ],
   "source": [
    "x=\"Python Learning\"\n",
    "x[-12:6:2]"
   ]
  },
  {
   "cell_type": "code",
   "execution_count": 72,
   "id": "8bc689b2-485f-4a13-b83e-7d66b5e184b6",
   "metadata": {},
   "outputs": [
    {
     "data": {
      "text/plain": [
       "'ython '"
      ]
     },
     "execution_count": 72,
     "metadata": {},
     "output_type": "execute_result"
    }
   ],
   "source": [
    "x=\"Python Learning\"\n",
    "x[-14:7:1]"
   ]
  },
  {
   "cell_type": "code",
   "execution_count": 84,
   "id": "19d107c8-5440-43d0-8685-90673953ed45",
   "metadata": {},
   "outputs": [
    {
     "data": {
      "text/plain": [
       "'o'"
      ]
     },
     "execution_count": 84,
     "metadata": {},
     "output_type": "execute_result"
    }
   ],
   "source": [
    "x[4:7:14]"
   ]
  },
  {
   "cell_type": "code",
   "execution_count": 78,
   "id": "c7945fce-edcb-4248-b970-cdfb3c3c106f",
   "metadata": {},
   "outputs": [
    {
     "data": {
      "text/plain": [
       "'o'"
      ]
     },
     "execution_count": 78,
     "metadata": {},
     "output_type": "execute_result"
    }
   ],
   "source": [
    "x[4:8:7]"
   ]
  },
  {
   "cell_type": "markdown",
   "id": "aff6a440-2c7c-4c6b-b5a8-7daa4e55b93c",
   "metadata": {},
   "source": [
    "Functions:"
   ]
  },
  {
   "cell_type": "code",
   "execution_count": 86,
   "id": "9dc5446d-ae95-4389-93c5-e25432015754",
   "metadata": {},
   "outputs": [
    {
     "name": "stdout",
     "output_type": "stream",
     "text": [
      "    python programming     \n",
      "python programming\n"
     ]
    }
   ],
   "source": [
    "#Strip\n",
    "x=\"    python programming     \"\n",
    "print(x)\n",
    "print(x.strip())"
   ]
  },
  {
   "cell_type": "code",
   "execution_count": 88,
   "id": "ff43d7fa-debe-48e5-8585-4459d1727c6e",
   "metadata": {},
   "outputs": [
    {
     "data": {
      "text/plain": [
       "False"
      ]
     },
     "execution_count": 88,
     "metadata": {},
     "output_type": "execute_result"
    }
   ],
   "source": [
    "#compare two strings:\n",
    "x=\"python programming a \"\n",
    "y=\"python programming b\"\n",
    "x==y"
   ]
  },
  {
   "cell_type": "code",
   "execution_count": 92,
   "id": "54bd38c5-4aa4-4abc-9e52-c7fdd6de804c",
   "metadata": {},
   "outputs": [
    {
     "name": "stdout",
     "output_type": "stream",
     "text": [
      "Tython Trogramming\n",
      "Python Programming\n"
     ]
    }
   ],
   "source": [
    "#Replace\n",
    "x=\"Python Programming\"\n",
    "print(x.replace('P','T'))\n",
    "print(x)#Note Strings are immutable and values cannot be changed"
   ]
  },
  {
   "cell_type": "code",
   "execution_count": 94,
   "id": "012a9b1a-44fe-475a-b11d-dde532c511d5",
   "metadata": {},
   "outputs": [
    {
     "name": "stdout",
     "output_type": "stream",
     "text": [
      "P\n"
     ]
    },
    {
     "ename": "TypeError",
     "evalue": "'str' object does not support item assignment",
     "output_type": "error",
     "traceback": [
      "\u001b[1;31m---------------------------------------------------------------------------\u001b[0m",
      "\u001b[1;31mTypeError\u001b[0m                                 Traceback (most recent call last)",
      "Cell \u001b[1;32mIn[94], line 3\u001b[0m\n\u001b[0;32m      1\u001b[0m x\u001b[38;5;241m=\u001b[39m\u001b[38;5;124m\"\u001b[39m\u001b[38;5;124mPython\u001b[39m\u001b[38;5;124m\"\u001b[39m\n\u001b[0;32m      2\u001b[0m \u001b[38;5;28mprint\u001b[39m(x[\u001b[38;5;241m0\u001b[39m])\n\u001b[1;32m----> 3\u001b[0m x[\u001b[38;5;241m0\u001b[39m]\u001b[38;5;241m=\u001b[39m\u001b[38;5;124m'\u001b[39m\u001b[38;5;124me\u001b[39m\u001b[38;5;124m'\u001b[39m\n\u001b[0;32m      4\u001b[0m \u001b[38;5;28mprint\u001b[39m(x[\u001b[38;5;241m0\u001b[39m])\n",
      "\u001b[1;31mTypeError\u001b[0m: 'str' object does not support item assignment"
     ]
    }
   ],
   "source": [
    "x=\"Python\"\n",
    "print(x[0])\n",
    "x[0]='e'# values of strings cannot be changed by using any specific index value \n",
    "print(x[0])"
   ]
  },
  {
   "cell_type": "code",
   "execution_count": 96,
   "id": "3463b02b-a3db-411d-9bd1-b7c8e5964695",
   "metadata": {},
   "outputs": [
    {
     "name": "stdout",
     "output_type": "stream",
     "text": [
      "Python\n",
      "Sython\n"
     ]
    }
   ],
   "source": [
    "x=\"Python\"\n",
    "y=x.replace('P','S')\n",
    "print(x)\n",
    "print(y)"
   ]
  },
  {
   "cell_type": "markdown",
   "id": "0bbdd717-8298-4201-a8fe-61519f3cc827",
   "metadata": {},
   "source": [
    "IN Operator is used to find where sub string is a part of string"
   ]
  },
  {
   "cell_type": "code",
   "execution_count": 3,
   "id": "72514b45-6dbb-40bb-a572-66875783ce90",
   "metadata": {},
   "outputs": [
    {
     "name": "stdout",
     "output_type": "stream",
     "text": [
      "True\n"
     ]
    }
   ],
   "source": [
    "#in operator\n",
    "x=\"Python Programming\"\n",
    "print(\"th\" in x)"
   ]
  },
  {
   "cell_type": "code",
   "execution_count": 5,
   "id": "38822cf8-be9a-4412-b21b-0af779533c39",
   "metadata": {},
   "outputs": [
    {
     "name": "stdout",
     "output_type": "stream",
     "text": [
      "False\n"
     ]
    }
   ],
   "source": [
    "#NOT IN\n",
    "x=\"Python Programming\"\n",
    "print(\"th\" not in x)"
   ]
  },
  {
   "cell_type": "code",
   "execution_count": null,
   "id": "c917df69-e577-4ff6-9338-ed98adfc9ac6",
   "metadata": {},
   "outputs": [],
   "source": [
    "IsAlpha: IS used to check alphabets"
   ]
  },
  {
   "cell_type": "code",
   "execution_count": 21,
   "id": "f433ed03-81f7-4775-bf87-8d58146c3d73",
   "metadata": {},
   "outputs": [
    {
     "name": "stdout",
     "output_type": "stream",
     "text": [
      "True\n",
      "True\n"
     ]
    }
   ],
   "source": [
    "#Isalpha\n",
    "x=\"Pythonprogramming\"\n",
    "print(x.isalpha())\n",
    "y=\"123\"\n",
    "print(y.isdigit())"
   ]
  },
  {
   "cell_type": "markdown",
   "id": "94450648-499d-46c1-9173-d95baf5c3fde",
   "metadata": {},
   "source": [
    "Lower ,Upper"
   ]
  },
  {
   "cell_type": "code",
   "execution_count": 19,
   "id": "21b81e1f-915c-413f-b18b-e982ef7e25fe",
   "metadata": {},
   "outputs": [
    {
     "name": "stdout",
     "output_type": "stream",
     "text": [
      "python\n",
      "PYTHON\n",
      "False\n",
      "False\n"
     ]
    }
   ],
   "source": [
    "x=\"PythON\"\n",
    "print(x.lower())\n",
    "print(x.upper())\n",
    "print(x.islower())\n",
    "print(x.isupper())"
   ]
  },
  {
   "cell_type": "code",
   "execution_count": 45,
   "id": "e66d5c4d-446b-49de-aaab-73119dbfe553",
   "metadata": {},
   "outputs": [
    {
     "name": "stdout",
     "output_type": "stream",
     "text": [
      "0\n",
      "29\n",
      "p@y@t@h@o@n@ @p@r@o@g@r@a@m@m@i@n@g@ @p@i@n@g@ @r@i@n@g@ @p@O@c@k@e@t\n",
      "('python ', 'pr', 'ogramming ping ring pOcket')\n",
      "3\n",
      "PYTHON PROGRAMMING PING RING PoCKET\n",
      "['python programming ping ring pOcket']\n"
     ]
    }
   ],
   "source": [
    "x=\"python programming ping ring pOcket\"\n",
    "print(x.find('p'))\n",
    "print(x.rfind('p'))\n",
    "print('@'.join(x))\n",
    "print(x.partition('pr'))\n",
    "print(x.count('ing'))\n",
    "print(x.swapcase())\n",
    "print(x.split())"
   ]
  },
  {
   "cell_type": "markdown",
   "id": "1036df2d-e446-4549-b781-628cf5e3fe82",
   "metadata": {},
   "source": [
    "WAP to replace the first character by @"
   ]
  },
  {
   "cell_type": "code",
   "execution_count": 67,
   "id": "cc5ec817-8f60-4867-a031-19eb3ced3fa7",
   "metadata": {},
   "outputs": [
    {
     "name": "stdout",
     "output_type": "stream",
     "text": [
      "P\n",
      "@ython @rogramming\n"
     ]
    }
   ],
   "source": [
    "x=\"Python Programming\"\n",
    "y=x.find('P')\n",
    "z=x[y:y+1]\n",
    "print(z)\n",
    "print(x.replace(z,'@'))"
   ]
  },
  {
   "cell_type": "markdown",
   "id": "9a9ec15e-2247-4e5d-9e42-38a956f7f6aa",
   "metadata": {},
   "source": [
    "Create single string from two string \"i am learning python\",\"This is my session day 2\""
   ]
  },
  {
   "cell_type": "code",
   "execution_count": 83,
   "id": "1614a1a6-07e8-43f8-966f-14c0c6f27d79",
   "metadata": {},
   "outputs": [
    {
     "name": "stdout",
     "output_type": "stream",
     "text": [
      "\"i am learning python\",\"This is my session day 2\"\n"
     ]
    }
   ],
   "source": [
    "x=\"\\\"i am learning python\\\"\"\n",
    "y=\"\\\"This is my session day 2\\\"\"\n",
    "print(x+\",\"+y)\n"
   ]
  },
  {
   "cell_type": "markdown",
   "id": "8d8e2621-4c9a-4783-85ad-3556d6b07779",
   "metadata": {},
   "source": [
    "WAP to add ing to last word of string"
   ]
  },
  {
   "cell_type": "code",
   "execution_count": 21,
   "id": "62133b68-0673-4bde-a07b-aee2e4bf51c4",
   "metadata": {},
   "outputs": [
    {
     "name": "stdout",
     "output_type": "stream",
     "text": [
      "I am learning\n"
     ]
    }
   ],
   "source": [
    "x = \"I am learn\"\n",
    "words = x.split()\n",
    "words[-1] += \"ing\"\n",
    "print(' '.join(words))"
   ]
  },
  {
   "cell_type": "markdown",
   "id": "71982bb8-15a1-42fd-b730-49e40f767602",
   "metadata": {},
   "source": [
    "WAP to add ing to the word learn in a string"
   ]
  },
  {
   "cell_type": "code",
   "execution_count": 91,
   "id": "ba67f27a-6b20-4f04-ad98-597727ce8d8c",
   "metadata": {},
   "outputs": [
    {
     "name": "stdout",
     "output_type": "stream",
     "text": [
      "I am learning python\n"
     ]
    }
   ],
   "source": [
    "x=\"I am learn python\"\n",
    "y=x.find('learn')\n",
    "print(x[0:y]+x[y:y+5]+\"ing\"+x[y+5:])"
   ]
  },
  {
   "cell_type": "code",
   "execution_count": 3,
   "id": "85eecabd-bd11-45c2-a7fd-ad1b70afb4da",
   "metadata": {},
   "outputs": [
    {
     "name": "stdout",
     "output_type": "stream",
     "text": [
      "00abc\n",
      "0000001234\n"
     ]
    }
   ],
   "source": [
    "x=\"abc\"\n",
    "y=\"1234\"\n",
    "print(x.zfill(5))\n",
    "print(y.zfill(10))"
   ]
  },
  {
   "cell_type": "markdown",
   "id": "76130d28-5e42-409c-92bb-55a0df66308d",
   "metadata": {},
   "source": [
    "WAP to replace the first character by @"
   ]
  },
  {
   "cell_type": "code",
   "execution_count": 15,
   "id": "a262783b-c547-48b5-83c7-e81ad67068cc",
   "metadata": {},
   "outputs": [
    {
     "name": "stdout",
     "output_type": "stream",
     "text": [
      "@xample exam \n"
     ]
    }
   ],
   "source": [
    "string = \"example exam \"\n",
    "print( '@' + string[1:])"
   ]
  },
  {
   "cell_type": "code",
   "execution_count": 17,
   "id": "f39b2bf1-4d52-4412-9159-5771e18144fd",
   "metadata": {},
   "outputs": [
    {
     "name": "stdout",
     "output_type": "stream",
     "text": [
      "HELLO I am LEARNING \n"
     ]
    }
   ],
   "source": [
    "x=\"Hello I am learning \"\n",
    "print(x.replace('Hello','HELLO').replace('learning','LEARNING'))"
   ]
  },
  {
   "cell_type": "code",
   "execution_count": 23,
   "id": "30ac327f-8440-4921-8ad3-7375929c72bc",
   "metadata": {},
   "outputs": [
    {
     "name": "stdout",
     "output_type": "stream",
     "text": [
      "Rose\n",
      "Rise\n"
     ]
    }
   ],
   "source": [
    "s=\"Rose\"\n",
    "print(s)\n",
    "s=s.replace('o','i')\n",
    "print(s)"
   ]
  },
  {
   "cell_type": "code",
   "execution_count": 35,
   "id": "8d55c4ab-0c8c-4fbf-815a-0bcd9d22ea42",
   "metadata": {},
   "outputs": [
    {
     "name": "stdout",
     "output_type": "stream",
     "text": [
      " WORLD \n",
      "Hello World Hello Hello \n",
      "Hello world hello hello \n",
      "2\n"
     ]
    }
   ],
   "source": [
    "x=\"Hello world Hello Hello \"\n",
    "print(x[5:12].upper())\n",
    "print(x.title())\n",
    "print(x.capitalize())\n",
    "y=len(x)\n",
    "print(x.count(\"Hello\",12,y))"
   ]
  },
  {
   "cell_type": "markdown",
   "id": "b76f0ac7-6bb2-4c25-a05e-138656065c90",
   "metadata": {},
   "source": [
    "Find the first and last occurrence of a character in a string"
   ]
  },
  {
   "cell_type": "code",
   "execution_count": 39,
   "id": "5708c5de-8387-4144-9c90-031e6c186638",
   "metadata": {},
   "outputs": [
    {
     "name": "stdout",
     "output_type": "stream",
     "text": [
      "0 6\n"
     ]
    }
   ],
   "source": [
    "s = \"example\"\n",
    "f = s.find('e')\n",
    "l= s.rfind('e')\n",
    "print(f, l)"
   ]
  }
 ],
 "metadata": {
  "kernelspec": {
   "display_name": "Python 3 (ipykernel)",
   "language": "python",
   "name": "python3"
  },
  "language_info": {
   "codemirror_mode": {
    "name": "ipython",
    "version": 3
   },
   "file_extension": ".py",
   "mimetype": "text/x-python",
   "name": "python",
   "nbconvert_exporter": "python",
   "pygments_lexer": "ipython3",
   "version": "3.12.4"
  }
 },
 "nbformat": 4,
 "nbformat_minor": 5
}
