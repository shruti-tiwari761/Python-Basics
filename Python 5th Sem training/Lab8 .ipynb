{
 "cells": [
  {
   "cell_type": "markdown",
   "id": "1fd3d22b-977e-4c59-a739-82e30b449268",
   "metadata": {},
   "source": [
    "# Hybrid Inheritance"
   ]
  },
  {
   "cell_type": "code",
   "execution_count": 10,
   "id": "92241f63-40e1-4f94-a502-0f28c5e50a88",
   "metadata": {},
   "outputs": [
    {
     "data": {
      "text/plain": [
       "{'p': 6,\n",
       " 'name': 'Shruti',\n",
       " 'age': 23,\n",
       " 'r': 25,\n",
       " 's': 20000,\n",
       " 'subject': 'Physics'}"
      ]
     },
     "execution_count": 10,
     "metadata": {},
     "output_type": "execute_result"
    }
   ],
   "source": [
    "class person:\n",
    "    def __init__(self,name,age):\n",
    "        self.name=n\n",
    "        self.age=a\n",
    "class student(person):\n",
    "    def __init__(self,r):\n",
    "        self.roll=r\n",
    "class teacher(person):\n",
    "    def __init__(self,s,sub):\n",
    "        self.salary=s\n",
    "        self.subject=sub\n",
    "class brightstudent(student,teacher):\n",
    "    def __init__(self,name,age,r,s,sub,points):\n",
    "        self.p=points\n",
    "        self.name=name\n",
    "        self.age=age\n",
    "        self.r=r\n",
    "        self.s=s\n",
    "        self.subject=sub\n",
    "obj=brightstudent(\"Shruti\",23,25,20000,\"Physics\",6)\n",
    "obj.__dict__"
   ]
  },
  {
   "cell_type": "code",
   "execution_count": 14,
   "id": "74b74f31-ddb1-4890-bd38-085a73620d69",
   "metadata": {},
   "outputs": [
    {
     "name": "stdout",
     "output_type": "stream",
     "text": [
      "10\n"
     ]
    },
    {
     "ename": "AttributeError",
     "evalue": "type object 'test' has no attribute '__h'",
     "output_type": "error",
     "traceback": [
      "\u001b[1;31m---------------------------------------------------------------------------\u001b[0m",
      "\u001b[1;31mAttributeError\u001b[0m                            Traceback (most recent call last)",
      "Cell \u001b[1;32mIn[14], line 5\u001b[0m\n\u001b[0;32m      3\u001b[0m     __h\u001b[38;5;241m=\u001b[39m\u001b[38;5;241m20\u001b[39m\u001b[38;5;66;03m# private\u001b[39;00m\n\u001b[0;32m      4\u001b[0m \u001b[38;5;28mprint\u001b[39m(test\u001b[38;5;241m.\u001b[39mx)\n\u001b[1;32m----> 5\u001b[0m \u001b[38;5;28mprint\u001b[39m(test\u001b[38;5;241m.\u001b[39m__h)\n",
      "\u001b[1;31mAttributeError\u001b[0m: type object 'test' has no attribute '__h'"
     ]
    }
   ],
   "source": [
    "class test:\n",
    "    x=10\n",
    "    __h=20# private\n",
    "print(test.x)\n",
    "print(test.__h)"
   ]
  },
  {
   "cell_type": "code",
   "execution_count": 18,
   "id": "a1330d3a-8aa0-475e-9393-fba83141c487",
   "metadata": {},
   "outputs": [
    {
     "name": "stdout",
     "output_type": "stream",
     "text": [
      "10\n",
      "20\n"
     ]
    }
   ],
   "source": [
    "class test:\n",
    "    x=10\n",
    "    __h=20# private\n",
    "print(test.x)\n",
    "print(test._test__h)# this unhide the value of hidden value of h"
   ]
  },
  {
   "cell_type": "markdown",
   "id": "97c93d0e-7ab9-46ec-a459-ad49b49a0422",
   "metadata": {},
   "source": [
    "# Hybrid Inheritance"
   ]
  },
  {
   "cell_type": "code",
   "execution_count": 23,
   "id": "80578cd0-85d9-45b2-a8e0-e623b5194405",
   "metadata": {},
   "outputs": [
    {
     "name": "stdin",
     "output_type": "stream",
     "text": [
      "Enter the name of the brand:  Toyota\n",
      "Enter the name of the model:  Sedans\n",
      "Enter seating capacity:  5\n",
      "Enter the name of the engine:  V6\n",
      "Enter battery capacity:  1000\n"
     ]
    },
    {
     "name": "stdout",
     "output_type": "stream",
     "text": [
      "Brand: Toyota\n",
      "Model: Sedans\n",
      "Seat Capacity: 5\n",
      "Name of Engine: V6\n",
      "Battery Capacity: 1000\n"
     ]
    }
   ],
   "source": [
    "class Vehicle:\n",
    "    def __init__(self):\n",
    "        self.brand = input(\"Enter the name of the brand: \")\n",
    "        self.model = input(\"Enter the name of the model: \")\n",
    "    def show(self):\n",
    "        print(\"Brand:\", self.brand)\n",
    "        print(\"Model:\", self.model)\n",
    "class Car(Vehicle):\n",
    "    def __init__(self):\n",
    "        super().__init__()\n",
    "        self.engine_type = input(\"Enter the name of the engine: \")\n",
    "    def show(self):\n",
    "        super().show()\n",
    "        print(\"Name of Engine:\", self.engine_type)\n",
    "class Bike(Vehicle):\n",
    "    def __init__(self):\n",
    "        super().__init__()\n",
    "        self.seat_capacity = int(input(\"Enter seating capacity: \"))\n",
    "    def show(self):\n",
    "        super().show()\n",
    "        print(\"Seat Capacity:\", self.seat_capacity)\n",
    "class ElectricVehicle(Car, Bike):\n",
    "    def __init__(self):\n",
    "        super().__init__()\n",
    "        self.battery_capacity = input(\"Enter battery capacity: \")\n",
    "\n",
    "    def show(self):\n",
    "        super().show()\n",
    "        print(\"Battery Capacity:\", self.battery_capacity)\n",
    "obj1 = ElectricVehicle()\n",
    "obj1.show()\n"
   ]
  },
  {
   "cell_type": "markdown",
   "id": "91df3a51-29f6-4045-aebe-8214f0a7fdff",
   "metadata": {},
   "source": [
    "# Data Hiding"
   ]
  },
  {
   "cell_type": "code",
   "execution_count": 35,
   "id": "ac6d6b43-615d-4dc9-9bb5-34988d3f98f7",
   "metadata": {},
   "outputs": [
    {
     "name": "stdout",
     "output_type": "stream",
     "text": [
      "Private Attribute : 0\n",
      "3\n"
     ]
    }
   ],
   "source": [
    "class CounterClass:\n",
    "    __PrivateCount=0\n",
    "    def  count(self):\n",
    "        self.__PrivateCount=self.__PrivateCount+1\n",
    "obj1=CounterClass()\n",
    "obj1.count()\n",
    "obj1.count()\n",
    "obj1.count()\n",
    "print(\"Private Attribute :\",CounterClass._CounterClass__PrivateCount)\n",
    "print(obj1._CounterClass__PrivateCount)"
   ]
  },
  {
   "cell_type": "code",
   "execution_count": 41,
   "id": "43c221ac-dd44-4b81-829b-e24167ddc9b8",
   "metadata": {},
   "outputs": [
    {
     "name": "stdin",
     "output_type": "stream",
     "text": [
      "Enter the value of brand:  Hello\n",
      "Enter the value of model:  hsdhls\n"
     ]
    },
    {
     "name": "stdout",
     "output_type": "stream",
     "text": [
      "Brand Of Car: Hello\n",
      "Model Of Car: hsdhls\n",
      "Sail!\n",
      "Fly!\n"
     ]
    }
   ],
   "source": [
    "class Car:\n",
    "    def __init__(self):\n",
    "        self.brand = input(\"Enter the value of brand: \")\n",
    "        self.model = input(\"Enter the value of model: \")\n",
    "    def move(self):\n",
    "        print(\"Brand Of Car:\", self.brand)\n",
    "        print(\"Model Of Car:\", self.model)\n",
    "class Boat:\n",
    "    def __init__(self, brand, model):\n",
    "        self.brand = brand\n",
    "        self.model = model\n",
    "    def move(self):\n",
    "        print(\"Sail!\")\n",
    "class Plane:\n",
    "    def __init__(self, brand, model):\n",
    "        self.brand = brand\n",
    "        self.model = model\n",
    "    def move(self):\n",
    "        print(\"Fly!\")\n",
    "car1 = Car()  \n",
    "boat1 = Boat(\"Ibiza\", \"Touring 20\")\n",
    "plane1 = Plane(\"Boeing\", \"747\")\n",
    "for x in (car1, boat1, plane1):\n",
    "    x.move()\n"
   ]
  },
  {
   "cell_type": "code",
   "execution_count": 43,
   "id": "e04966db-cf27-4154-a49f-7f532070ffdd",
   "metadata": {},
   "outputs": [
    {
     "name": "stdout",
     "output_type": "stream",
     "text": [
      "Class A\n",
      "Class B\n"
     ]
    }
   ],
   "source": [
    "class A:\n",
    "    def f1(self):\n",
    "        print(\"Class A\")\n",
    "class B:\n",
    "    def f1(self):\n",
    "        print(\"Class B\")\n",
    "obj=A()\n",
    "obj.f1()\n",
    "obj=B()\n",
    "obj.f1()"
   ]
  },
  {
   "cell_type": "code",
   "execution_count": 47,
   "id": "b219aeaa-9fa8-4c47-ba36-9dd59e8706a0",
   "metadata": {},
   "outputs": [
    {
     "name": "stdout",
     "output_type": "stream",
     "text": [
      "New Delhi\n",
      "Hindi\n",
      "Developing\n",
      "Washington\n",
      "english\n",
      "Developed\n"
     ]
    }
   ],
   "source": [
    "class India:\n",
    "    def captial(self):\n",
    "        print(\"New Delhi\")\n",
    "    def language(self):\n",
    "        print(\"Hindi\")\n",
    "    def type(self):\n",
    "        print(\"Developing\")\n",
    "class USA:\n",
    "    def captial(self):\n",
    "        print(\"Washington\")\n",
    "    def language(self):\n",
    "        print(\"english\")\n",
    "    def type(self):\n",
    "        print(\"Developed\")\n",
    "obj_India=India()\n",
    "obj_USA=USA()\n",
    "for i in(obj_India,obj_USA):\n",
    "    i.captial()\n",
    "    i.language()\n",
    "    i.type()"
   ]
  },
  {
   "cell_type": "code",
   "execution_count": 2,
   "id": "d22ec723-8066-4c27-8c98-1e51f1984494",
   "metadata": {},
   "outputs": [
    {
     "name": "stdin",
     "output_type": "stream",
     "text": [
      "Enter the length of rectangle:  2\n",
      "Enter the breadth of rectangle:  4\n",
      "Enter the radius of the circle:  25\n",
      "Enter the breadth of the triangle:  12\n",
      "Enter the height of the triangle:  5\n"
     ]
    },
    {
     "name": "stdout",
     "output_type": "stream",
     "text": [
      "Area of Rectangle: 8\n",
      "Area of Circle: 1962.5\n",
      "Area of Triangle: 30.0\n"
     ]
    }
   ],
   "source": [
    "class Shape:\n",
    "    def calculate_area(self):\n",
    "        pass\n",
    "class Rectangle(Shape):\n",
    "    def __init__(self):\n",
    "        self.length = int(input(\"Enter the length of rectangle: \"))\n",
    "        self.breadth = int(input(\"Enter the breadth of rectangle: \"))\n",
    "    def calculate_area(self):\n",
    "        area = self.length * self.breadth\n",
    "        print(\"Area of Rectangle:\", area)\n",
    "\n",
    "class Circle(Shape):\n",
    "    def __init__(self):\n",
    "        self.radius = int(input(\"Enter the radius of the circle: \"))\n",
    "    def calculate_area(self):\n",
    "        area = 3.14 * self.radius * self.radius\n",
    "        print(\"Area of Circle:\", area)\n",
    "\n",
    "class Triangle(Shape):\n",
    "    def __init__(self):\n",
    "        self.breadth = int(input(\"Enter the breadth of the triangle: \"))\n",
    "        self.height = int(input(\"Enter the height of the triangle: \"))\n",
    "    def calculate_area(self):\n",
    "        area = 0.5 * self.breadth * self.height\n",
    "        print(\"Area of Triangle:\", area)\n",
    "obj_Rect = Rectangle()\n",
    "obj_Circ = Circle()\n",
    "obj_Tri = Triangle()\n",
    "for i in (obj_Rect, obj_Circ, obj_Tri):\n",
    "    i.calculate_area()\n"
   ]
  },
  {
   "cell_type": "code",
   "execution_count": 4,
   "id": "d13d27f8-f37f-4f00-a92d-3cc4a600bf2d",
   "metadata": {},
   "outputs": [
    {
     "name": "stdout",
     "output_type": "stream",
     "text": [
      "Bark\n",
      "Meow\n",
      "Some generic animal sound\n"
     ]
    }
   ],
   "source": [
    "\n",
    "class Animal:\n",
    "    def make_sound(self):\n",
    "        print(\"Some generic animal sound\")\n",
    "class Dog(Animal):\n",
    "    def make_sound(self):\n",
    "        print(\"Bark\")\n",
    "class Cat(Animal):\n",
    "    def make_sound(self):\n",
    "        print(\"Meow\")\n",
    "animals = [Dog(), Cat(), Animal()]\n",
    "for animal in animals:\n",
    "    animal.make_sound()\n"
   ]
  }
 ],
 "metadata": {
  "kernelspec": {
   "display_name": "Python 3 (ipykernel)",
   "language": "python",
   "name": "python3"
  },
  "language_info": {
   "codemirror_mode": {
    "name": "ipython",
    "version": 3
   },
   "file_extension": ".py",
   "mimetype": "text/x-python",
   "name": "python",
   "nbconvert_exporter": "python",
   "pygments_lexer": "ipython3",
   "version": "3.12.4"
  }
 },
 "nbformat": 4,
 "nbformat_minor": 5
}
