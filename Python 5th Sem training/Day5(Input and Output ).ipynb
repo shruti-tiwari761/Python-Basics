{
 "cells": [
  {
   "cell_type": "markdown",
   "id": "0c13e402-e164-43d4-8350-af3baa6e34d2",
   "metadata": {},
   "source": [
    "Day 5: Input and output"
   ]
  },
  {
   "cell_type": "code",
   "execution_count": null,
   "id": "0460c638-d0dc-4eda-b9b9-aa8306974e0b",
   "metadata": {},
   "outputs": [],
   "source": [
    "Output"
   ]
  },
  {
   "cell_type": "code",
   "execution_count": 67,
   "id": "1f87653d-5d65-4518-b7fb-5922badcd88d",
   "metadata": {},
   "outputs": [
    {
     "name": "stdout",
     "output_type": "stream",
     "text": [
      "My name is Shruti I am studying in 5th Sem\n",
      "My name is Shruti I am studying in 5th Sem\n",
      "My name is Shruti I am studying in 5th Sem\n",
      "My name is Shruti I am studying in 5th Sem\n",
      "Shruti has 6 members and all are studying in 5th Sem\n",
      "My name is Shruti I am studying in V Sem\n",
      "My name is Shruti I am studying in V Sem\n",
      "My name is Shruti I am studying in 5th Sem\n",
      "The salary is:3000.57\n",
      "My Name is Shruti\n",
      "My Name is Shruti and I am Studying in 5th And I have offered Intership of Stipend of 3000.57 \n"
     ]
    }
   ],
   "source": [
    "Name=\"Shruti\"\n",
    "Sem=\"5th\"\n",
    "sem=5\n",
    "s=3000.567\n",
    "print(\"My name is \"+Name+\" I am studying in \"+Sem+\" Sem\")\n",
    "print(\"My name is\",Name,\"I am studying in\",Sem,\"Sem\")\n",
    "print(f\"My name is {Name} I am studying in {Sem} Sem\")\n",
    "print(f\"My name is {Name} I am studying in {Sem} Sem\\n{Name} has 6 members and all are studying in {Sem} Sem\")\n",
    "print(\"My name is {Name} I am studying in {Sem} Sem\".format(Name=\"Shruti\",Sem=\"V\"))\n",
    "print(\"My name is {0} I am studying in {1} Sem\".format(\"Shruti\",\"V\"))\n",
    "print(\"My name is {} I am studying in {} Sem\".format(Name,Sem))\n",
    "print(\"The salary is:{:.2f}\".format(s))\n",
    "print(\"My Name is %s\"%Name)\n",
    "print(\"My Name is %s and I am Studying in %s And I have offered Intership of Stipend of %0.2f \"%(Name,Sem,s))"
   ]
  },
  {
   "cell_type": "markdown",
   "id": "cd31916b-ddec-4ac4-89fe-036c858d2bd2",
   "metadata": {},
   "source": [
    "Input"
   ]
  },
  {
   "cell_type": "code",
   "execution_count": 79,
   "id": "7d8958fc-09a3-4e6f-887f-abefd0ac5ffc",
   "metadata": {},
   "outputs": [
    {
     "name": "stdin",
     "output_type": "stream",
     "text": [
      "1 3\n"
     ]
    },
    {
     "name": "stdout",
     "output_type": "stream",
     "text": [
      "<class 'str'>\n"
     ]
    },
    {
     "name": "stdin",
     "output_type": "stream",
     "text": [
      " 3\n"
     ]
    },
    {
     "name": "stdout",
     "output_type": "stream",
     "text": [
      "<class 'str'>\n",
      "The additon of 3 and 3 is 33\n"
     ]
    }
   ],
   "source": [
    "a=input(1)\n",
    "print(type(a))\n",
    "b=input(\"\")\n",
    "print(type(b))\n",
    "c=a+b\n",
    "print(f\"The additon of {a} and {b} is {c}\")"
   ]
  },
  {
   "cell_type": "markdown",
   "id": "62249af3-ff94-4940-a025-28e71f02dc7d",
   "metadata": {},
   "source": [
    "WAP to add 2 numbers"
   ]
  },
  {
   "cell_type": "code",
   "execution_count": 83,
   "id": "13a3f341-412b-4d6a-8b6a-749b4d487cd9",
   "metadata": {},
   "outputs": [
    {
     "name": "stdin",
     "output_type": "stream",
     "text": [
      "Enter no a 23\n"
     ]
    },
    {
     "name": "stdout",
     "output_type": "stream",
     "text": [
      "<class 'int'>\n"
     ]
    },
    {
     "name": "stdin",
     "output_type": "stream",
     "text": [
      "Enter no b 34\n"
     ]
    },
    {
     "name": "stdout",
     "output_type": "stream",
     "text": [
      "<class 'int'>\n",
      "The additon of 23 and 34 is 57\n"
     ]
    }
   ],
   "source": [
    "a=int(input(\"Enter no a\"))\n",
    "#print(type(a))\n",
    "b=int(input(\"Enter no b\"))\n",
    "#print(type(b))\n",
    "c=a+b\n",
    "print(f\"The additon of {a} and {b} is {c}\")"
   ]
  },
  {
   "cell_type": "code",
   "execution_count": 85,
   "id": "96dc1105-acea-4260-b421-623ee2552b92",
   "metadata": {},
   "outputs": [
    {
     "name": "stdout",
     "output_type": "stream",
     "text": [
      "The value of x,y,z is:202\n"
     ]
    }
   ],
   "source": [
    "x=34\n",
    "y=90\n",
    "z=78\n",
    "print(f\"The value of x,y,z is:{x+y+z}\")"
   ]
  },
  {
   "cell_type": "code",
   "execution_count": 111,
   "id": "52771bcf-ea3d-4875-822c-d044432d55fc",
   "metadata": {},
   "outputs": [
    {
     "name": "stdin",
     "output_type": "stream",
     "text": [
      "Enter a Numbers : 2,4\n"
     ]
    },
    {
     "name": "stdout",
     "output_type": "stream",
     "text": [
      "2 4\n"
     ]
    }
   ],
   "source": [
    "a,b=input(\"Enter a Numbers :\").split(',')\n",
    "\n",
    "print(a,b)"
   ]
  },
  {
   "cell_type": "code",
   "execution_count": 133,
   "id": "33892044-b9e3-4880-b052-793a662ea9ed",
   "metadata": {},
   "outputs": [
    {
     "name": "stdout",
     "output_type": "stream",
     "text": [
      "Python training program\n",
      "Python training program\n",
      "Python\n",
      "training\n",
      "program\n",
      "27-3-2023\n"
     ]
    }
   ],
   "source": [
    "print(\"Python\",\"training\",\"program\")\n",
    "print(\"Python\",\"training\",\"program\",end='')\n",
    "print(\"Python\",\"training\",\"program\",sep='\\n')\n",
    "print(\"27\",\"3\",\"2023\",sep=\"-\")"
   ]
  },
  {
   "cell_type": "code",
   "execution_count": 127,
   "id": "c6138248-95bb-4838-b4a0-9954d0fd1875",
   "metadata": {},
   "outputs": [
    {
     "name": "stdout",
     "output_type": "stream",
     "text": [
      "34 90 78\n",
      "python traning program\n"
     ]
    }
   ],
   "source": [
    "print(x,y,z)\n",
    "print(\"python traning program\")"
   ]
  },
  {
   "cell_type": "code",
   "execution_count": 129,
   "id": "71995746-5726-475a-9924-5686931e55d4",
   "metadata": {},
   "outputs": [
    {
     "name": "stdout",
     "output_type": "stream",
     "text": [
      "34 90 78 python traning program\n"
     ]
    }
   ],
   "source": [
    "print(x,y,z,end=\" \")\n",
    "print(\"python traning program\")"
   ]
  },
  {
   "cell_type": "code",
   "execution_count": 139,
   "id": "daf8f465-fa1f-408f-af8f-4ecf4da7fcb6",
   "metadata": {},
   "outputs": [
    {
     "name": "stdout",
     "output_type": "stream",
     "text": [
      "1 2 3\n"
     ]
    }
   ],
   "source": [
    "a=1\n",
    "b=2\n",
    "c=3\n",
    "print(a,b,c,end='\\n')"
   ]
  },
  {
   "cell_type": "code",
   "execution_count": 4,
   "id": "c19c3873-8a32-4113-b6f7-a273f189bc19",
   "metadata": {},
   "outputs": [
    {
     "name": "stdout",
     "output_type": "stream",
     "text": [
      "The cow jumped over the moon\n"
     ]
    }
   ],
   "source": [
    "from string import Template\n",
    "t=Template(\"The $animal jumped over the $object\")\n",
    "data={\"animal\":\"cow\",\"object\":\"moon\"}\n",
    "result=t.substitute(data)\n",
    "print(result)"
   ]
  },
  {
   "cell_type": "code",
   "execution_count": 13,
   "id": "34fcad5d-9eb0-477d-9f45-a0c58957552d",
   "metadata": {},
   "outputs": [
    {
     "name": "stdout",
     "output_type": "stream",
     "text": [
      "Hello, My Name is Shruti\n"
     ]
    }
   ],
   "source": [
    "name=\"Shruti\"\n",
    "x=\"s\"\n",
    "print(\"Hello, My Name is %{}\".format(x)%name)"
   ]
  },
  {
   "cell_type": "code",
   "execution_count": 26,
   "id": "e8137fff-6dd3-4925-8857-77ca9e959900",
   "metadata": {},
   "outputs": [
    {
     "name": "stdin",
     "output_type": "stream",
     "text": [
      " 34\n",
      " 23\n",
      " 45\n",
      " 23\n",
      " 23\n",
      " 45\n",
      " 2\n",
      " 33\n",
      " 4\n",
      " 5\n"
     ]
    },
    {
     "name": "stdout",
     "output_type": "stream",
     "text": [
      "[34, 23, 45, 23, 23, 45, 2, 33, 4, 5]\n"
     ]
    }
   ],
   "source": [
    "l=[]\n",
    "for i in range(10):\n",
    "    a=int(input())\n",
    "    l.append(a)\n",
    "print(l)"
   ]
  },
  {
   "cell_type": "code",
   "execution_count": null,
   "id": "bb63ccff-1d80-4db4-bd65-5631a826661e",
   "metadata": {},
   "outputs": [],
   "source": []
  }
 ],
 "metadata": {
  "kernelspec": {
   "display_name": "Python 3 (ipykernel)",
   "language": "python",
   "name": "python3"
  },
  "language_info": {
   "codemirror_mode": {
    "name": "ipython",
    "version": 3
   },
   "file_extension": ".py",
   "mimetype": "text/x-python",
   "name": "python",
   "nbconvert_exporter": "python",
   "pygments_lexer": "ipython3",
   "version": "3.12.4"
  }
 },
 "nbformat": 4,
 "nbformat_minor": 5
}
