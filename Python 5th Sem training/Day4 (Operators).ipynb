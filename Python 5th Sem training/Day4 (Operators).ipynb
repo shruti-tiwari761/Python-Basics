{
 "cells": [
  {
   "cell_type": "code",
   "execution_count": 7,
   "id": "950cc5ec-5516-46c9-8221-d6629de3f311",
   "metadata": {},
   "outputs": [
    {
     "data": {
      "text/plain": [
       "29"
      ]
     },
     "execution_count": 7,
     "metadata": {},
     "output_type": "execute_result"
    }
   ],
   "source": [
    "22+(7-2//9**2)"
   ]
  },
  {
   "cell_type": "code",
   "execution_count": 12,
   "id": "123882f6-8799-422e-a9bb-02bf652b70fd",
   "metadata": {},
   "outputs": [
    {
     "data": {
      "text/plain": [
       "7.0"
      ]
     },
     "execution_count": 12,
     "metadata": {},
     "output_type": "execute_result"
    }
   ],
   "source": [
    "21//4+6/3"
   ]
  },
  {
   "cell_type": "code",
   "execution_count": null,
   "id": "b973cd4f-68bd-4c96-814c-c6f19d1531cc",
   "metadata": {},
   "outputs": [],
   "source": [
    "((15//2**2)*)"
   ]
  }
 ],
 "metadata": {
  "kernelspec": {
   "display_name": "Python 3 (ipykernel)",
   "language": "python",
   "name": "python3"
  },
  "language_info": {
   "codemirror_mode": {
    "name": "ipython",
    "version": 3
   },
   "file_extension": ".py",
   "mimetype": "text/x-python",
   "name": "python",
   "nbconvert_exporter": "python",
   "pygments_lexer": "ipython3",
   "version": "3.12.4"
  }
 },
 "nbformat": 4,
 "nbformat_minor": 5
}
