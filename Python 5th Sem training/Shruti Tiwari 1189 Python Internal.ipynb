{
 "cells": [
  {
   "cell_type": "code",
   "execution_count": 1,
   "id": "9a981fa8-6f0b-4df4-bc42-b1b58efeb613",
   "metadata": {},
   "outputs": [
    {
     "name": "stdin",
     "output_type": "stream",
     "text": [
      "Enter a title of Book : Lets learn python\n",
      "Enter the price of book : 300\n"
     ]
    },
    {
     "name": "stdout",
     "output_type": "stream",
     "text": [
      "Title of Book :  Lets learn python\n",
      "Price of Book :  300\n"
     ]
    },
    {
     "name": "stdin",
     "output_type": "stream",
     "text": [
      "Enter the page count of book : 456\n"
     ]
    },
    {
     "name": "stdout",
     "output_type": "stream",
     "text": [
      "Count of Pages :  456\n"
     ]
    },
    {
     "name": "stdin",
     "output_type": "stream",
     "text": [
      "Enter the play time : 23\n"
     ]
    },
    {
     "name": "stdout",
     "output_type": "stream",
     "text": [
      "Playing Time  :  23 minutes\n"
     ]
    }
   ],
   "source": [
    "class Publication:\n",
    "    def getdata(self,title,price):\n",
    "        self.title=title\n",
    "        self.price=price\n",
    "    def putdata(self):\n",
    "        print(\"Title of Book : \",self.title)\n",
    "        print(\"Price of Book : \",self.price)\n",
    "class Book(Publication):\n",
    "    def getdata(self,pc):\n",
    "        self.pagecount=pc\n",
    "    def putdata(self):\n",
    "        print(\"Count of Pages : \",self.pagecount)\n",
    "class CD(Publication):\n",
    "    def getdata(self,pt):\n",
    "        self.playingtime=pt\n",
    "    def putdata(self):\n",
    "        print(\"Playing Time  : \",self.playingtime,\"minutes\")\n",
    "obj=Publication()\n",
    "tn=input(\"Enter a title of Book :\")\n",
    "bookprice=int(input(\"Enter the price of book :\"))\n",
    "obj.getdata(tn,bookprice)\n",
    "obj.putdata()\n",
    "obj1=Book()\n",
    "pagec=int(input(\"Enter the page count of book :\"))\n",
    "obj1.getdata(pagec)\n",
    "obj1.putdata()\n",
    "obj2=CD()\n",
    "playtime=int(input(\"Enter the play time :\"))\n",
    "obj2.getdata(playtime)\n",
    "obj2.putdata()"
   ]
  },
  {
   "cell_type": "code",
   "execution_count": 5,
   "id": "e634ddaf-5918-48e6-a28a-78f017b1d55f",
   "metadata": {},
   "outputs": [
    {
     "name": "stdin",
     "output_type": "stream",
     "text": [
      "Enter the length of rectangle:  23\n",
      "Enter the breadth of rectangle:  45\n",
      "Enter the radius of the circle:  12\n",
      "Enter the breadth of the triangle:  4\n",
      "Enter the height of the triangle:  12\n"
     ]
    },
    {
     "name": "stdout",
     "output_type": "stream",
     "text": [
      "Area of Rectangle: 1035\n",
      "Area of Circle: 452.15999999999997\n",
      "Area of Triangle: 24.0\n"
     ]
    }
   ],
   "source": [
    "class Shape:\n",
    "    def calculate_area(self):\n",
    "        pass\n",
    "class Rectangle(Shape):\n",
    "    def __init__(self):\n",
    "        self.length = int(input(\"Enter the length of rectangle: \"))\n",
    "        self.breadth = int(input(\"Enter the breadth of rectangle: \"))\n",
    "    def calculate_area(self):\n",
    "        area = self.length * self.breadth\n",
    "        print(\"Area of Rectangle:\", area)\n",
    "\n",
    "class Circle(Shape):\n",
    "    def __init__(self):\n",
    "        self.radius = int(input(\"Enter the radius of the circle: \"))\n",
    "    def calculate_area(self):\n",
    "        area = 3.14 * self.radius * self.radius\n",
    "        print(\"Area of Circle:\", area)\n",
    "\n",
    "class Triangle(Shape):\n",
    "    def __init__(self):\n",
    "        self.breadth = int(input(\"Enter the breadth of the triangle: \"))\n",
    "        self.height = int(input(\"Enter the height of the triangle: \"))\n",
    "    def calculate_area(self):\n",
    "        area = 0.5 * self.breadth * self.height\n",
    "        print(\"Area of Triangle:\", area)\n",
    "obj_Rect = Rectangle()\n",
    "obj_Circ = Circle()\n",
    "obj_Tri = Triangle()\n",
    "for i in (obj_Rect, obj_Circ, obj_Tri):\n",
    "    i.calculate_area()"
   ]
  }
 ],
 "metadata": {
  "kernelspec": {
   "display_name": "Python 3 (ipykernel)",
   "language": "python",
   "name": "python3"
  },
  "language_info": {
   "codemirror_mode": {
    "name": "ipython",
    "version": 3
   },
   "file_extension": ".py",
   "mimetype": "text/x-python",
   "name": "python",
   "nbconvert_exporter": "python",
   "pygments_lexer": "ipython3",
   "version": "3.12.4"
  }
 },
 "nbformat": 4,
 "nbformat_minor": 5
}
