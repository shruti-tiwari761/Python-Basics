{
 "cells": [
  {
   "cell_type": "markdown",
   "id": "f53471a6-ed4b-442f-a6c4-627aac2ff9c5",
   "metadata": {},
   "source": [
    "1) Write a program to add two numbers."
   ]
  },
  {
   "cell_type": "code",
   "execution_count": 3,
   "id": "62f7a828-9ae8-47a9-bdeb-c0bb04e5b06e",
   "metadata": {},
   "outputs": [
    {
     "name": "stdin",
     "output_type": "stream",
     "text": [
      "Enter a number:  7\n",
      "Enter a number:  1\n"
     ]
    },
    {
     "name": "stdout",
     "output_type": "stream",
     "text": [
      "8\n"
     ]
    }
   ],
   "source": [
    "a=int(input(\"Enter a number: \"))\n",
    "b=int(input(\"Enter a number: \"))\n",
    "c=a+b\n",
    "print(c)"
   ]
  },
  {
   "cell_type": "markdown",
   "id": "71be2c3a-dd41-48f2-991d-8eb0cc52edd7",
   "metadata": {},
   "source": [
    "2) Write a program to find remainder when a number is divided by z."
   ]
  },
  {
   "cell_type": "code",
   "execution_count": 6,
   "id": "6bed83bb-249d-43d3-b7b4-78617172c057",
   "metadata": {},
   "outputs": [
    {
     "name": "stdin",
     "output_type": "stream",
     "text": [
      "Enter a number:  4\n",
      "Enter a number:  3\n"
     ]
    },
    {
     "name": "stdout",
     "output_type": "stream",
     "text": [
      "Remainder when a is divide by z is 1\n"
     ]
    }
   ],
   "source": [
    "a=int(input(\"Enter a number: \"))\n",
    "z=int(input(\"Enter a number: \"))\n",
    "print(\"Remainder when a is divide by z is\",a%z)"
   ]
  },
  {
   "cell_type": "markdown",
   "id": "c18cfbed-a2f2-4c4a-a10e-a6bf1acb1e46",
   "metadata": {},
   "source": [
    " 3) Check the type of variable assigned using input() function."
   ]
  },
  {
   "cell_type": "code",
   "execution_count": 9,
   "id": "3f31dcbf-7531-41a2-b914-2031fcb9583a",
   "metadata": {},
   "outputs": [
    {
     "name": "stdin",
     "output_type": "stream",
     "text": [
      "Enter a number:  6\n"
     ]
    },
    {
     "name": "stdout",
     "output_type": "stream",
     "text": [
      "<class 'int'>\n"
     ]
    }
   ],
   "source": [
    "a=int(input(\"Enter a number: \"))\n",
    "print(type(a))"
   ]
  },
  {
   "cell_type": "markdown",
   "id": "e7c4e6d5-0dc1-4e1d-b9d5-477c57ab813c",
   "metadata": {},
   "source": [
    "4) Use comparsion operator to find out whether a given variable is greater than b or not . Take a=34 and b =80"
   ]
  },
  {
   "cell_type": "code",
   "execution_count": 12,
   "id": "3539d6d0-c005-48c7-9ca3-9b1d8931ccfd",
   "metadata": {},
   "outputs": [
    {
     "name": "stdout",
     "output_type": "stream",
     "text": [
      "a is greater than b is False\n"
     ]
    }
   ],
   "source": [
    "a=34\n",
    "b=80\n",
    "print(\"a is greater than b is\",a>b)"
   ]
  },
  {
   "cell_type": "markdown",
   "id": "720a7ae6-6a4d-46f5-a33c-ea6c6c472af0",
   "metadata": {},
   "source": [
    "5) Write a python program to find a average of two number entered by the user"
   ]
  },
  {
   "cell_type": "code",
   "execution_count": 15,
   "id": "49285f90-aa9f-4d25-8de4-4dac0d5a7d54",
   "metadata": {},
   "outputs": [
    {
     "name": "stdin",
     "output_type": "stream",
     "text": [
      "Enter a number:  4\n",
      "Enter a number:  4\n"
     ]
    },
    {
     "name": "stdout",
     "output_type": "stream",
     "text": [
      "4.0\n"
     ]
    }
   ],
   "source": [
    "a=int(input(\"Enter a number: \"))\n",
    "b=int(input(\"Enter a number: \"))\n",
    "c=(a+b)/2\n",
    "print(c)"
   ]
  },
  {
   "cell_type": "markdown",
   "id": "2bb599e6-a61a-477a-8d84-6803018397d5",
   "metadata": {},
   "source": [
    "6) Write a python program to calculate the square of a number entered by the user"
   ]
  },
  {
   "cell_type": "code",
   "execution_count": 18,
   "id": "a033e603-a8c5-4eb2-9481-6492321445cb",
   "metadata": {},
   "outputs": [
    {
     "name": "stdin",
     "output_type": "stream",
     "text": [
      "Enter a number:  5\n"
     ]
    },
    {
     "name": "stdout",
     "output_type": "stream",
     "text": [
      "25\n"
     ]
    }
   ],
   "source": [
    "a=int(input(\"Enter a number: \"))\n",
    "print(a*a)"
   ]
  },
  {
   "cell_type": "markdown",
   "id": "9ba8fb70-0511-45cd-a72c-647bc141db1d",
   "metadata": {},
   "source": [
    "7) Display three string “Name”, “Is”, “James” as “Name++Is++James”"
   ]
  },
  {
   "cell_type": "code",
   "execution_count": 35,
   "id": "cd3fdf82-76ba-4aea-8b19-b2422e993489",
   "metadata": {},
   "outputs": [
    {
     "name": "stdout",
     "output_type": "stream",
     "text": [
      "Name++Is++James\n"
     ]
    }
   ],
   "source": [
    "a=\"Name\"\n",
    "b=\"Is\"\n",
    "c=\"James\"\n",
    "print(f\"{a}++{b}++{c}\")"
   ]
  },
  {
   "cell_type": "markdown",
   "id": "100204e8-88a2-46d1-a4a5-d6b0eef32ac6",
   "metadata": {},
   "source": [
    " 8) Display float number with 2 decimal places using print()"
   ]
  },
  {
   "cell_type": "code",
   "execution_count": 42,
   "id": "332d5ccd-c10a-442b-9cab-970d6cfdd71d",
   "metadata": {},
   "outputs": [
    {
     "name": "stdin",
     "output_type": "stream",
     "text": [
      "Enter a decimal no. :  68.3554789\n"
     ]
    },
    {
     "name": "stdout",
     "output_type": "stream",
     "text": [
      "68.36\n"
     ]
    }
   ],
   "source": [
    "a=float(input(\"Enter a decimal no. : \"))\n",
    "print(f\"{a:.2f}\")"
   ]
  },
  {
   "cell_type": "markdown",
   "id": "1ad6e19b-7739-4d23-9f09-97028fad9b96",
   "metadata": {},
   "source": [
    "9) Accept the User's name, age and print in following manner\n",
    "   Ex - Hello Shery, you are 12 years old."
   ]
  },
  {
   "cell_type": "code",
   "execution_count": 45,
   "id": "17efae3e-d6be-4dcd-ad91-e64014b81cd2",
   "metadata": {},
   "outputs": [
    {
     "name": "stdin",
     "output_type": "stream",
     "text": [
      "Enter your name:  Aashutosh\n",
      "Enter your age:  22\n"
     ]
    },
    {
     "name": "stdout",
     "output_type": "stream",
     "text": [
      "hello Aashutosh, you are 22 12 years old\n"
     ]
    }
   ],
   "source": [
    "Name=input(\"Enter your name: \")\n",
    "Age=int(input(\"Enter your age: \"))\n",
    "print(f\"hello {Name}, you are {Age} 12 years old\")"
   ]
  },
  {
   "cell_type": "markdown",
   "id": "43283cad-297b-4c4c-978b-d4e4acc9a3c1",
   "metadata": {},
   "source": [
    "10) Accept two integers from user and print the sum\n",
    "   Ex - The sum of 45 & 12 = 57\n"
   ]
  },
  {
   "cell_type": "code",
   "execution_count": 48,
   "id": "9fde6339-2a43-47a8-99fd-3d9188c945cb",
   "metadata": {},
   "outputs": [
    {
     "name": "stdin",
     "output_type": "stream",
     "text": [
      "Enter a number:  4\n",
      "Enter a number:  5\n"
     ]
    },
    {
     "name": "stdout",
     "output_type": "stream",
     "text": [
      "The sum of 4 & 5 = 9\n"
     ]
    }
   ],
   "source": [
    "a=int(input(\"Enter a number: \"))\n",
    "b=int(input(\"Enter a number: \"))\n",
    "print(f\"The sum of {a} & {b} = {a+b}\")"
   ]
  },
  {
   "cell_type": "code",
   "execution_count": null,
   "id": "bd5746fc-83ca-4735-8305-98d322f36b7e",
   "metadata": {},
   "outputs": [],
   "source": []
  }
 ],
 "metadata": {
  "kernelspec": {
   "display_name": "Python 3 (ipykernel)",
   "language": "python",
   "name": "python3"
  },
  "language_info": {
   "codemirror_mode": {
    "name": "ipython",
    "version": 3
   },
   "file_extension": ".py",
   "mimetype": "text/x-python",
   "name": "python",
   "nbconvert_exporter": "python",
   "pygments_lexer": "ipython3",
   "version": "3.11.7"
  }
 },
 "nbformat": 4,
 "nbformat_minor": 5
}
